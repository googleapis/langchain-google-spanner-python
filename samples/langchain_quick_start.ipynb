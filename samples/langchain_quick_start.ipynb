{
 "cells": [
  {
   "cell_type": "code",
   "execution_count": null,
   "metadata": {
    "id": "h-OOsugXAtsV"
   },
   "outputs": [],
   "source": [
    "# Copyright 2024 Google LLC\n",
    "#\n",
    "# Licensed under the Apache License, Version 2.0 (the \"License\");\n",
    "# you may not use this file except in compliance with the License.\n",
    "# You may obtain a copy of the License at\n",
    "#\n",
    "#     https://www.apache.org/licenses/LICENSE-2.0\n",
    "#\n",
    "# Unless required by applicable law or agreed to in writing, software\n",
    "# distributed under the License is distributed on an \"AS IS\" BASIS,\n",
    "# WITHOUT WARRANTIES OR CONDITIONS OF ANY KIND, either express or implied.\n",
    "# See the License for the specific language governing permissions and\n",
    "# limitations under the License."
   ]
  },
  {
   "cell_type": "markdown",
   "metadata": {
    "id": "mbF2F2miAT4a"
   },
   "source": [
    "[![Open In Colab](https://colab.research.google.com/assets/colab-badge.svg)](https://colab.research.google.com/github/googleapis/langchain-google-cloud-sql-pg-python/blob/main/samples/langchain_quick_start.ipynb)\n",
    "\n",
    "---\n",
    "# **Introduction**\n",
    "\n",
    "In this codelab you will learn how to create an interactive generative AI application with Retrieval Augmented Generation using Spanner and LangChain. We will be creating an application grounded in a [Netflix Movie dataset](https://www.kaggle.com/datasets/shivamb/netflix-shows)."
   ]
  },
  {
   "cell_type": "markdown",
   "metadata": {
    "id": "Ma6pEng3ypbA"
   },
   "source": [
    "## Prerequisites\n",
    "\n",
    "* A basic understanding of the Google Cloud Console\n",
    "* Basic skills in command line interface and Google Cloud shell\n",
    "* Basic python knowledge"
   ]
  },
  {
   "cell_type": "markdown",
   "metadata": {
    "id": "DzDgqJHgysy1"
   },
   "source": [
    "## What you'll learn\n",
    "\n",
    "* How to deploy a Spanner instance\n",
    "* How to use Spanner as a VectorStore\n",
    "* How to use Spanner as a DocumentLoader\n",
    "* How to use Spanner for ChatHistory storage"
   ]
  },
  {
   "cell_type": "markdown",
   "metadata": {
    "id": "FbcZUjT1yvTq"
   },
   "source": [
    "## What you'll need\n",
    "* A Google Cloud Account and Google Cloud Project\n",
    "* A web browser such as [Chrome](https://www.google.com/chrome/)"
   ]
  },
  {
   "cell_type": "markdown",
   "metadata": {
    "id": "vHdR4fF3vLWA"
   },
   "source": [
    "# **Setup and Requirements**\n",
    "\n",
    "In the following instructions you will learn to:\n",
    "1. Install required dependencies for our application\n",
    "2. Set up authentication for our project\n",
    "3. Set up a Spanner Instance\n",
    "4. Import the data used by our application"
   ]
  },
  {
   "cell_type": "markdown",
   "metadata": {
    "id": "uy9KqgPQ4GBi"
   },
   "source": [
    "## Install dependencies\n",
    "First you will need to install the dependencies needed to run this demo app."
   ]
  },
  {
   "cell_type": "code",
   "execution_count": null,
   "metadata": {
    "id": "M_ppDxYf4Gqs"
   },
   "outputs": [],
   "source": [
    "# TODO: Update this to install from Pypi\n",
    "%pip install git+https://github.com/googleapis/langchain-google-spanner-python.git\n",
    "# %pip install langchain_google_spanner\n",
    "\n",
    "%pip install langchain langchain_google_vertexai"
   ]
  },
  {
   "cell_type": "markdown",
   "metadata": {
    "id": "DeUbHclxw7_l"
   },
   "source": [
    "## Authenticate to Google Cloud within Colab\n",
    "In order to access your Google Cloud Project from this notebook, you will need to Authenticate as an IAM user."
   ]
  },
  {
   "cell_type": "code",
   "execution_count": null,
   "metadata": {
    "id": "sizxMw7GExKp"
   },
   "outputs": [],
   "source": [
    "from google.colab import auth\n",
    "\n",
    "auth.authenticate_user()"
   ]
  },
  {
   "cell_type": "markdown",
   "metadata": {
    "id": "UCiNGP1Qxd6x"
   },
   "source": [
    "## Connect Your Google Cloud Project\n",
    "Time to connect your Google Cloud Project to this notebook so that you can leverage Google Cloud from within Colab."
   ]
  },
  {
   "cell_type": "code",
   "execution_count": 13,
   "metadata": {
    "id": "EdlbRg6wE3Fx"
   },
   "outputs": [
    {
     "name": "stdout",
     "output_type": "stream",
     "text": [
      "Updated property [core/project].\n"
     ]
    }
   ],
   "source": [
    "# @markdown Please fill in the value below with your GCP project ID and then run the cell.\n",
    "\n",
    "# Please fill in these values.\n",
    "project_id = \"span-cloud-testing\"  # @param {type:\"string\"}\n",
    "\n",
    "# Quick input validations.\n",
    "assert project_id, \"⚠️ Please provide a Google Cloud project ID\"\n",
    "\n",
    "# Configure gcloud.\n",
    "!gcloud config set project {project_id}"
   ]
  },
  {
   "cell_type": "markdown",
   "metadata": {
    "id": "O-oqMC5Ox-ZM"
   },
   "source": [
    "## Configure Your Google Cloud Project\n",
    "Configure the following in your Google Cloud Project.\n",
    "\n",
    "1. IAM principal (user, service account, etc.) with the\n",
    "[Cloud SQL Client][client-role] role.\n",
    "\n",
    "> The user logged into this notebook will be used as the IAM principal and will be granted the Cloud SQL Client role.\n",
    "\n",
    "[client-role]: https://cloud.google.com/sql/docs/mysql/roles-and-permissions"
   ]
  },
  {
   "cell_type": "code",
   "execution_count": null,
   "metadata": {
    "id": "es8GI3zAyDh4"
   },
   "outputs": [],
   "source": [
    "# grant Cloud SQL Client role to authenticated user\n",
    "current_user = !gcloud auth list --filter=status:ACTIVE --format=\"value(account)\"\n",
    "\n",
    "!gcloud projects add-iam-policy-binding {project_id} \\\n",
    "  --member=user:{current_user[0]} \\\n",
    "  --role=\"roles/cloudsql.client\""
   ]
  },
  {
   "cell_type": "markdown",
   "metadata": {
    "id": "nJtkxcpkyLBz"
   },
   "source": [
    "2. Enable the APIs for Spanner and Vertex AI within your project.\n",
    "\n",
    "[admin-api]: https://console.cloud.google.com/apis/api/sqladmin.googleapis.com"
   ]
  },
  {
   "cell_type": "code",
   "execution_count": 17,
   "metadata": {
    "id": "CKWrwyfzyTwH"
   },
   "outputs": [],
   "source": [
    "# enable GCP services\n",
    "!gcloud services enable spanner.googleapis.com\n",
    "!gcloud services enable aiplatform.googleapis.com"
   ]
  },
  {
   "cell_type": "markdown",
   "metadata": {
    "id": "Gn8g7-wCyZU6"
   },
   "source": [
    "## Set up Spanner\n",
    "You will need a **Spanner** instance for the following stages of this notebook."
   ]
  },
  {
   "cell_type": "markdown",
   "metadata": {
    "id": "T616pEOUygYQ"
   },
   "source": [
    "### Create a Spanner Instance & Database\n",
    "Running the below cell will verify the existence of the Spanner instance & database and also create a new instance and database if one does not exist.\n",
    "\n",
    "> ⏳ - Creating a Spanner instance & database ay take a few seconds."
   ]
  },
  {
   "cell_type": "code",
   "execution_count": 14,
   "metadata": {
    "id": "XXI1uUu3y8gc"
   },
   "outputs": [],
   "source": [
    "#@markdown Please fill in the both the Google Cloud region and name of your Cloud Spanner instance. Once filled in, run the cell.\n",
    "\n",
    "# Please fill in these values.\n",
    "region = \"regional-us-central1\" #@param {type:\"string\"}\n",
    "instance_id = \"gaurav-test\" #@param {type:\"string\"}\n",
    "database_id = \"langchain-db\" #@param {type:\"string\"}\n",
    "\n",
    "# Quick input validations.\n",
    "assert region, \"⚠️ Please provide a Google Cloud region\"\n",
    "assert instance_id, \"⚠️ Please provide the name of your instance\"\n",
    "assert database_id, \"⚠️ Please provide the name of your database\"\n",
    "\n",
    "# check if Cloud Spanner instance exists in the provided region\n",
    "instance = !gcloud spanner instances describe {instance_id}\n",
    "\n",
    "if 'ERROR' in instance[0]:\n",
    "  print(\"Instance not found\")\n",
    "  print(\"Creating new Cloud Spanner instance...\")\n",
    "  !gcloud spanner instances create {instance_id} \\\n",
    "    --config={config} --nodes=4 --description={instance_id}\n",
    "\n",
    "database = !gcloud spanner databases describe {database_id} --instance={instance_id}\n",
    "\n",
    "if 'ERROR' in database[0]:\n",
    "  print(\"Database not found\")\n",
    "  print(\"Creating new Cloud Spanner database...\")\n",
    "  !gcloud spanner databases create {database_id} \\\n",
    "    --instance={instance_id}"
   ]
  },
  {
   "cell_type": "code",
   "execution_count": 55,
   "metadata": {},
   "outputs": [
    {
     "name": "stdout",
     "output_type": "stream",
     "text": [
      "Requirement already satisfied: google-cloud-storage in /usr/local/google/home/gauravpurohit/langchain/lang-chain/lib/python3.11/site-packages (2.14.0)\n",
      "Requirement already satisfied: google-auth<3.0dev,>=2.23.3 in /usr/local/google/home/gauravpurohit/langchain/lang-chain/lib/python3.11/site-packages (from google-cloud-storage) (2.26.2)\n",
      "Requirement already satisfied: google-api-core!=2.0.*,!=2.1.*,!=2.2.*,!=2.3.0,<3.0.0dev,>=1.31.5 in /usr/local/google/home/gauravpurohit/langchain/lang-chain/lib/python3.11/site-packages (from google-cloud-storage) (2.15.0)\n",
      "Requirement already satisfied: google-cloud-core<3.0dev,>=2.3.0 in /usr/local/google/home/gauravpurohit/langchain/lang-chain/lib/python3.11/site-packages (from google-cloud-storage) (2.4.1)\n",
      "Requirement already satisfied: google-resumable-media>=2.6.0 in /usr/local/google/home/gauravpurohit/langchain/lang-chain/lib/python3.11/site-packages (from google-cloud-storage) (2.7.0)\n",
      "Requirement already satisfied: requests<3.0.0dev,>=2.18.0 in /usr/local/google/home/gauravpurohit/langchain/lang-chain/lib/python3.11/site-packages (from google-cloud-storage) (2.31.0)\n",
      "Requirement already satisfied: google-crc32c<2.0dev,>=1.0 in /usr/local/google/home/gauravpurohit/langchain/lang-chain/lib/python3.11/site-packages (from google-cloud-storage) (1.5.0)\n",
      "Requirement already satisfied: googleapis-common-protos<2.0.dev0,>=1.56.2 in /usr/local/google/home/gauravpurohit/langchain/lang-chain/lib/python3.11/site-packages (from google-api-core!=2.0.*,!=2.1.*,!=2.2.*,!=2.3.0,<3.0.0dev,>=1.31.5->google-cloud-storage) (1.62.0)\n",
      "Requirement already satisfied: protobuf!=3.20.0,!=3.20.1,!=4.21.0,!=4.21.1,!=4.21.2,!=4.21.3,!=4.21.4,!=4.21.5,<5.0.0.dev0,>=3.19.5 in /usr/local/google/home/gauravpurohit/langchain/lang-chain/lib/python3.11/site-packages (from google-api-core!=2.0.*,!=2.1.*,!=2.2.*,!=2.3.0,<3.0.0dev,>=1.31.5->google-cloud-storage) (4.25.2)\n",
      "Requirement already satisfied: cachetools<6.0,>=2.0.0 in /usr/local/google/home/gauravpurohit/langchain/lang-chain/lib/python3.11/site-packages (from google-auth<3.0dev,>=2.23.3->google-cloud-storage) (5.3.2)\n",
      "Requirement already satisfied: pyasn1-modules>=0.2.1 in /usr/local/google/home/gauravpurohit/langchain/lang-chain/lib/python3.11/site-packages (from google-auth<3.0dev,>=2.23.3->google-cloud-storage) (0.3.0)\n",
      "Requirement already satisfied: rsa<5,>=3.1.4 in /usr/local/google/home/gauravpurohit/langchain/lang-chain/lib/python3.11/site-packages (from google-auth<3.0dev,>=2.23.3->google-cloud-storage) (4.9)\n",
      "Requirement already satisfied: charset-normalizer<4,>=2 in /usr/local/google/home/gauravpurohit/langchain/lang-chain/lib/python3.11/site-packages (from requests<3.0.0dev,>=2.18.0->google-cloud-storage) (3.3.2)\n",
      "Requirement already satisfied: idna<4,>=2.5 in /usr/local/google/home/gauravpurohit/langchain/lang-chain/lib/python3.11/site-packages (from requests<3.0.0dev,>=2.18.0->google-cloud-storage) (3.6)\n",
      "Requirement already satisfied: urllib3<3,>=1.21.1 in /usr/local/google/home/gauravpurohit/langchain/lang-chain/lib/python3.11/site-packages (from requests<3.0.0dev,>=2.18.0->google-cloud-storage) (2.1.0)\n",
      "Requirement already satisfied: certifi>=2017.4.17 in /usr/local/google/home/gauravpurohit/langchain/lang-chain/lib/python3.11/site-packages (from requests<3.0.0dev,>=2.18.0->google-cloud-storage) (2023.11.17)\n",
      "Requirement already satisfied: pyasn1<0.6.0,>=0.4.6 in /usr/local/google/home/gauravpurohit/langchain/lang-chain/lib/python3.11/site-packages (from pyasn1-modules>=0.2.1->google-auth<3.0dev,>=2.23.3->google-cloud-storage) (0.5.1)\n",
      "Note: you may need to restart the kernel to use updated packages.\n"
     ]
    }
   ],
   "source": [
    "%pip install google-cloud-storage"
   ]
  },
  {
   "cell_type": "code",
   "execution_count": 25,
   "metadata": {},
   "outputs": [
    {
     "name": "stdout",
     "output_type": "stream",
     "text": [
      "<Bucket: langchain-spanner-data>\n"
     ]
    }
   ],
   "source": [
    "from google.cloud import storage\n",
    "import csv\n",
    "from io import BytesIO\n",
    "\n",
    "def read_csv_from_gcs(bucket_name, file_name):\n",
    "    # Initialize a client\n",
    "    storage_client = storage.Client()\n",
    "\n",
    "    # Get the bucket\n",
    "    bucket = storage_client.get_bucket(bucket_name)\n",
    "\n",
    "    print (bucket)\n",
    "\n",
    "    # Get the blob (file)\n",
    "    blob = bucket.blob(file_name)\n",
    "\n",
    "    # Download the file\n",
    "    content = blob.download_as_string()\n",
    "\n",
    "    # Read CSV content\n",
    "    csv_data = content.decode('utf-8')\n",
    "    csv_reader = csv.reader(csv_data.splitlines())\n",
    "\n",
    "    # Convert CSV reader to list of rows\n",
    "    rows = list(csv_reader)\n",
    "\n",
    "    return rows"
   ]
  },
  {
   "cell_type": "code",
   "execution_count": 59,
   "metadata": {},
   "outputs": [
    {
     "name": "stdout",
     "output_type": "stream",
     "text": [
      "<Bucket: cloud-samples-data>\n"
     ]
    }
   ],
   "source": [
    "rows = read_csv_from_gcs(\"cloud-samples-data\", \"langchain/netflix_titles_compute_embeddings.csv\")"
   ]
  },
  {
   "cell_type": "code",
   "execution_count": 15,
   "metadata": {},
   "outputs": [
    {
     "data": {
      "text/plain": [
       "<google.api_core.operation.Operation at 0x7f7650c2f150>"
      ]
     },
     "execution_count": 15,
     "metadata": {},
     "output_type": "execute_result"
    }
   ],
   "source": [
    "from google.cloud import spanner\n",
    "client = spanner.Client()\n",
    "instance = client.instance(instance_id)\n",
    "database = instance.database(database_id)\n",
    "table_name = \"netflix_titles\"\n",
    "\n",
    "database.update_ddl([\"\"\"CREATE TABLE IF NOT EXISTS {} (\n",
    "    show_id STRING(MAX) NOT NULL,\n",
    "    type STRING(MAX),\n",
    "    title STRING(MAX),\n",
    "    director STRING(MAX),\n",
    "    casta STRING(MAX),\n",
    "    country STRING(MAX),\n",
    "    date_added STRING(MAX),\n",
    "    release_year INT64,\n",
    "    rating STRING(MAX),\n",
    "    duration STRING(MAX),\n",
    "    listed_in STRING(MAX),\n",
    "    description STRING(MAX)\n",
    ") PRIMARY KEY (show_id)\"\"\".format(table_name)])\n"
   ]
  },
  {
   "cell_type": "code",
   "execution_count": 63,
   "metadata": {},
   "outputs": [],
   "source": [
    "batch_size = 500\n",
    "\n",
    "for i in range(1, len(rows), batch_size):\n",
    "    with database.batch() as batch:\n",
    "        batch_rows = rows[i:i+batch_size]\n",
    "        batch.insert(\n",
    "                table=table_name,\n",
    "                columns=['show_id', 'type', 'title', 'director', 'casta', 'country', 'date_added', 'release_year', 'rating', 'duration', 'listed_in', 'description'],\n",
    "                values=batch_rows\n",
    "            )\n"
   ]
  },
  {
   "cell_type": "markdown",
   "metadata": {
    "id": "HdolCWyatZmG"
   },
   "source": [
    "## Import data to your database\n",
    "\n",
    "Now that you have your database, you will need to import data! We will be using a [Netflix Dataset from Kaggle](https://www.kaggle.com/datasets/shivamb/netflix-shows). Here is what the data looks like:"
   ]
  },
  {
   "cell_type": "markdown",
   "metadata": {
    "id": "36-FBKzJ-tLa"
   },
   "source": [
    "| show_id | type    | title                | director         | cast                                                                                                                                                  | country       | date_added        | release_year | rating | duration  | listed_in                                    | description                                                                                                                                                                           |\n",
    "|---------|---------|----------------------|------------------|--------------------------------------------------------------------------------------------------------------------------------------------------------|---------------|-------------------|--------------|--------|-----------|----------------------------------------------|---------------------------------------------------------------------------------------------------------------------------------------------------------------------------------------|\n",
    "| s1      | Movie   | Dick Johnson Is Dead | Kirsten Johnson  |                                                                                                                                                        | United States | September 25, 2021 | 2020         | PG-13  | 90 min    | Documentaries                                | As her father nears the end of his life, filmmaker Kirsten Johnson stages his death in inventive and comical ways to help them both face the inevitable.                              |\n",
    "| s2      | TV Show | Blood & Water        |                  | Ama Qamata, Khosi Ngema, Gail Mabalane, Thabang Molaba, Dillon Windvogel, Natasha Thahane, Arno Greeff, Xolile Tshabalala, Getmore Sithole, Cindy Mahlangu, Ryle De Morny, Greteli Fincham, Sello Maake Ka-Ncube, Odwa Gwanya, Mekaila Mathys, Sandi Schultz, Duane Williams, Shamilla Miller, Patrick Mofokeng | South Africa  | September 24, 2021 | 2021         | TV-MA  | 2 Seasons | International TV Shows, TV Dramas, TV Mysteries | After crossing paths at a party, a Cape Town teen sets out to prove whether a private-school swimming star is her sister who was abducted at birth.                                   |\n",
    "| s3      | TV Show | Ganglands            | Julien Leclercq  | Sami Bouajila, Tracy Gotoas, Samuel Jouy, Nabiha Akkari, Sofia Lesaffre, Salim Kechiouche, Noureddine Farihi, Geert Van Rampelberg, Bakary Diombera                                   |               | September 24, 2021 | 2021         | TV-MA  | 1 Season  | Crime TV Shows, International TV Shows, TV Action & Adventure | To protect his family from a powerful drug lord, skilled thief Mehdi and his expert team of robbers are pulled into a violent and deadly turf war.                                     |\n",
    "| s4      | TV Show | Jailbirds New Orleans |                  |                                                                                                                                                        |               | September 24, 2021 | 2021         | TV-MA  | 1 Season  | Docuseries, Reality TV                        | Feuds, flirtations and toilet talk go down among the incarcerated women at the Orleans Justice Center in New Orleans on this gritty reality series.                                   |\n",
    "| s5      | TV Show | Kota Factory         |                  | Mayur More, Jitendra Kumar, Ranjan Raj, Alam Khan, Ahsaas Channa, Revathi Pillai, Urvi Singh, Arun Kumar                                                 | India        | September 24, 2021 | 2021         | TV-MA  | 2 Seasons | International TV Shows, Romantic TV Shows, TV Comedies | In a city of coaching centers known to train India’s finest collegiate minds, an earnest but unexceptional student and his friends navigate campus life. |\n"
   ]
  },
  {
   "cell_type": "markdown",
   "metadata": {
    "id": "kQ2KWsYI_Msa"
   },
   "source": [
    "You won't need to directly load the csv data into your database. Instead we prepared a table, \"netflix_titles\", in the format of a `.sql` file for Postgres. You can easily import the table into your database with one `gcloud` command."
   ]
  },
  {
   "cell_type": "code",
   "execution_count": null,
   "metadata": {
    "id": "-d_jkLJM99qJ"
   },
   "outputs": [],
   "source": [
    "# Adding the IAM User to the database for the import operation\n",
    "!gcloud sql users create {current_user[0]} --instance={instance_name} --type=CLOUD_IAM_USER"
   ]
  },
  {
   "cell_type": "code",
   "execution_count": null,
   "metadata": {
    "id": "qbLhv9jgD8nm"
   },
   "outputs": [],
   "source": [
    "# Import the Netflix titles table using gcloud command\n",
    "import_command_output = !gcloud sql import sql {instance_name} gs://cloud-samples-data/langchain/postgres/netflix_titles.sql --database={database_name} --quiet\n",
    "\n",
    "if \"Imported data\" in str(import_command_output):\n",
    "    print(import_command_output)\n",
    "elif \"already exists\" in str(import_command_output):\n",
    "    print(\"Did not import because the table already existed.\")\n",
    "else:\n",
    "    raise Exception(f\"The import seems failed:\\n{import_command_output}\")"
   ]
  },
  {
   "cell_type": "markdown",
   "metadata": {
    "id": "SsGS80H04bDN"
   },
   "source": [
    "# **Use case 1: Spanner as a document loader**\n",
    "\n",
    "Now that you have data in your database, you are ready to use Spanner as a document loader. This means we will pull data from the database and load it into memory as documents. We can then feed these documents into the vector store."
   ]
  },
  {
   "cell_type": "markdown",
   "metadata": {
    "id": "8s-C0P-Oee69"
   },
   "source": [
    "You can see we also pass in a query, table_name and a list of columns. The query tells the loader what query to use to pull data. The \"content_columns\" argument refers to the columns that will be used as \"content\" in the document object we will later construct. The rest of the columns in that table will become the \"metadata\" associated with the documents."
   ]
  },
  {
   "cell_type": "code",
   "execution_count": 23,
   "metadata": {
    "id": "2SdFJT6Vece1"
   },
   "outputs": [],
   "source": [
    "from langchain_google_spanner.loader import SpannerLoader\n",
    "\n",
    "content_columns = [\"title\", \"director\", \"casta\", \"description\"]\n",
    "loader = SpannerLoader(\n",
    "    instance_id=instance_id,\n",
    "    database_id=database_id,\n",
    "    query=f\"SELECT * FROM {table_name};\",\n",
    "    content_columns=content_columns,\n",
    ")"
   ]
  },
  {
   "cell_type": "markdown",
   "metadata": {
    "id": "xvCEAp97fXRt"
   },
   "source": [
    "Next let's define a function \"collect_async_items\" to asynchronously pull documents from our database."
   ]
  },
  {
   "cell_type": "code",
   "execution_count": 20,
   "metadata": {
    "id": "-p9UiHFbdyYa"
   },
   "outputs": [],
   "source": [
    "async def collect_async_items(docs_generator):\n",
    "    \"\"\"Collects items from an async generator.\"\"\"\n",
    "    docs = []\n",
    "    async for doc in docs_generator:\n",
    "        docs.append(doc)\n",
    "    return docs"
   ]
  },
  {
   "cell_type": "markdown",
   "metadata": {
    "id": "dsL-KFrmfuS1"
   },
   "source": [
    "Then let's run the function to pull our documents from out database using our document loader. You can see the first 5 documents from the database here. Nice, you just used  Spanner as a document loader!"
   ]
  },
  {
   "cell_type": "code",
   "execution_count": 24,
   "metadata": {
    "colab": {
     "base_uri": "https://localhost:8080/"
    },
    "id": "t4zTx-HLfwmW",
    "outputId": "da7239e4-710d-43ce-c004-520a0af9c79f"
   },
   "outputs": [
    {
     "name": "stdout",
     "output_type": "stream",
     "text": [
      "Loaded 8802 from the database. 5 Examples:\n",
      "page_content=\"The Starling Theodore Melfi Melissa McCarthy, Chris O'Dowd, Kevin Kline, Timothy Olyphant, Daveed Diggs, Skyler Gisondo, Laura Harrier, Rosalind Chao, Kimberly Quinn, Loretta Devine, Ravi Kapoor A woman adjusting to life after a loss contends with a feisty bird that's taken over her garden — and a husband who's struggling to find a way forward.\" metadata={'show_id': 's10', 'type': 'Movie', 'country': 'United States', 'date_added': 'September 24, 2021', 'release_year': 2021, 'rating': 'PG-13', 'duration': '104 min', 'listed_in': 'Comedies, Dramas'}\n",
      "page_content='On the Verge Julie Delpy, Elisabeth Shue, Sarah Jones, Alexia Landeau, Mathieu Demy, Troy Garity, Timm Sharp, Giovanni Ribisi Four women — a chef, a single mom, an heiress and a job seeker — dig into love and work, with a generous side of midlife crises, in pre-pandemic LA.' metadata={'show_id': 's100', 'type': 'TV Show', 'country': 'France, United States', 'date_added': 'September 7, 2021', 'release_year': 2021, 'rating': 'TV-MA', 'duration': '1 Season', 'listed_in': 'TV Comedies, TV Dramas'}\n",
      "page_content='Stowaway Joe Penna Anna Kendrick, Toni Collette, Daniel Dae Kim, Shamier Anderson A three-person crew on a mission to Mars faces an impossible choice when an unplanned passenger jeopardizes the lives of everyone on board.' metadata={'show_id': 's1000', 'type': 'Movie', 'country': 'Germany, United States', 'date_added': 'April 22, 2021', 'release_year': 2021, 'rating': 'TV-MA', 'duration': '116 min', 'listed_in': 'Dramas, International Movies, Thrillers'}\n",
      "page_content='Wild Dog Ahishor Solomon Nagarjuna Akkineni, Dia Mirza, Saiyami Kher, Atul Kulakarni, Bilal Hussain, Ali Reza, Mayank Parakh A brash but brilliant Indian intelligence agent leads a covert operation to nab the mastermind behind a series of attacks threatening national security.' metadata={'show_id': 's1001', 'type': 'Movie', 'country': '', 'date_added': 'April 22, 2021', 'release_year': 2020, 'rating': 'TV-MA', 'duration': '126 min', 'listed_in': 'Action & Adventure, International Movies'}\n",
      "page_content='Oloibiri Curtis Graham Olu Jacobs, Richard Mofe-Damijo, William R. Moses, Taiwo Ajai-Lycett, Ifeanyi Williams, Ivie Okujaye, Dayton Sinkia, Bradley Gordon After drilling depletes a small village, a corporation finds more oil in the region, igniting tensions among the community.' metadata={'show_id': 's1002', 'type': 'Movie', 'country': 'Canada, Nigeria, United States', 'date_added': 'April 21, 2021', 'release_year': 2015, 'rating': 'TV-14', 'duration': '86 min', 'listed_in': 'Dramas, International Movies, Thrillers'}\n"
     ]
    }
   ],
   "source": [
    "documents = await collect_async_items(loader.alazy_load())\n",
    "print(f\"Loaded {len(documents)} from the database. 5 Examples:\")\n",
    "for doc in documents[:5]:\n",
    "    print(doc)"
   ]
  },
  {
   "cell_type": "markdown",
   "metadata": {
    "id": "z9uLV3bs4noo"
   },
   "source": [
    "# **Use case 2: Spanner as Vector Store**"
   ]
  },
  {
   "cell_type": "markdown",
   "metadata": {
    "id": "duVsSeMcgEWl"
   },
   "source": [
    "Now, let's learn how to put all of the documents we just loaded into a vector store so that we can use vector search to answer our user's questions!"
   ]
  },
  {
   "cell_type": "markdown",
   "metadata": {
    "id": "jfH8oQJ945Ko"
   },
   "source": [
    "### Create Your Vector Store table\n",
    "\n",
    "Based on the documents that we loaded before, we want to create a table with a vector column as our vector store. We will start it by intializing a vector table by calling the `init_vectorstore_table` function from our `engine`. As you can see we list all of the columns for our metadata. We also specify a vector size, 768, that corresponds with the length of the vectors computed by the model our embeddings service uses, Vertex AI's textembedding-gecko.\n"
   ]
  },
  {
   "cell_type": "code",
   "execution_count": 27,
   "metadata": {
    "id": "e_rmjywG47pv"
   },
   "outputs": [],
   "source": [
    "from langchain_google_spanner import SpannerVectorStore, TableColumn, SecondaryIndex\n",
    "\n",
    "sample_vector_table_name = \"movie_vector_table_samples\"\n",
    "\n",
    "\n",
    "SpannerVectorStore.init_vector_store_table(\n",
    "    instance_id=instance_id,\n",
    "    database_id=database_id,\n",
    "    table_name=sample_vector_table_name,\n",
    "    metadata_columns=[\n",
    "        TableColumn(\"show_id\", \"STRING(MAX)\"),\n",
    "        TableColumn(\"type\", \"STRING(MAX)\"),\n",
    "        TableColumn(\"country\", \"STRING(MAX)\"),\n",
    "        TableColumn(\"date_added\", \"STRING(MAX)\"),\n",
    "        TableColumn(\"release_year\", \"INT64\"),\n",
    "        TableColumn(\"rating\", \"STRING(MAX)\"),\n",
    "        TableColumn(\"duration\", \"STRING(MAX)\"),\n",
    "        TableColumn(\"listed_in\", \"STRING(MAX)\"),\n",
    "    ],\n",
    "    primary_key=\"langchain_id\"\n",
    ")"
   ]
  },
  {
   "cell_type": "markdown",
   "metadata": {
    "id": "KG6rwEuJLNIo"
   },
   "source": [
    "### Try inserting the documents into the vector table\n",
    "\n",
    "Now we will create a vector_store object backed by our vector table in the Spanner database. Let's load the data from the documents to the vector table. Note that for each row, the embedding service will be called to compute the embeddings to store in the vector table. Pricing details can be found [here](https://cloud.google.com/vertex-ai/pricing)."
   ]
  },
  {
   "cell_type": "code",
   "execution_count": 30,
   "metadata": {
    "id": "Wo4-7EYCIFF9"
   },
   "outputs": [],
   "source": [
    "from langchain_google_vertexai.embeddings import VertexAIEmbeddings\n",
    "from langchain_core.runnables.utils import create_model\n",
    "\n",
    "# Initialize the embedding service. In this case we are using version 003 of Vertex AI's textembedding-gecko model. In general, it is good practice to specify the model version used.\n",
    "embeddings_service = VertexAIEmbeddings(\n",
    "    model_name=\"textembedding-gecko@003\", project=project_id)\n",
    "\n",
    "\n",
    "vector_store = SpannerVectorStore(\n",
    "    embedding_service=embeddings_service,\n",
    "    instance_id=instance_id,\n",
    "    database_id=database_id,\n",
    "    table_name=sample_vector_table_name,\n",
    "    metadata_columns=[\n",
    "        \"show_id\",\n",
    "        \"type\",\n",
    "        \"country\",\n",
    "        \"date_added\",\n",
    "        \"release_year\",\n",
    "        \"duration\",\n",
    "        \"listed_in\",\n",
    "    ],\n",
    ")"
   ]
  },
  {
   "cell_type": "markdown",
   "metadata": {
    "id": "fr1rP6KQ-8ag"
   },
   "source": [
    "Now let's try to put the documents data into the vector table. Here is a code example to load the first 5 documents in the list."
   ]
  },
  {
   "cell_type": "code",
   "execution_count": 31,
   "metadata": {
    "id": "CTks8Cy--93B"
   },
   "outputs": [
    {
     "data": {
      "text/plain": [
       "['1ab97a70-07cd-4ed5-a58f-f525b2da4518',\n",
       " '82e065c4-5085-40f1-8dd5-af680dd16bc9',\n",
       " '1b5d9719-f2d2-4381-8007-f8ba9172d2ed',\n",
       " '2ba851ce-520a-4d23-ab33-6e98f82c5d23',\n",
       " '57531bfc-3b6d-4217-aa99-711e4ba63ca2']"
      ]
     },
     "execution_count": 31,
     "metadata": {},
     "output_type": "execute_result"
    }
   ],
   "source": [
    "import uuid\n",
    "\n",
    "docs_to_load = documents[:5]\n",
    "\n",
    "# ! Uncomment the following line to load all 8,800+ documents to the database vector table with calling the embedding service.\n",
    "# docs_to_load = documents\n",
    "\n",
    "ids = [str(uuid.uuid4()) for i in range(len(docs_to_load))]\n",
    "vector_store.add_documents(docs_to_load, ids)"
   ]
  },
  {
   "cell_type": "markdown",
   "metadata": {
    "id": "29iztdvfL2BN"
   },
   "source": [
    "### Import the rest of your data into your vector table\n",
    "\n",
    "You don't have to call the embedding service 8,800 times to load all the documents for the demo. Instead, we have prepared a table with the all 8,800+ rows with pre-computed embeddings in a `.sql` file. Again, let's import to our DB using `gcloud` command.\n",
    "\n",
    "It will restore the `.sql` file to a table with vectors called `movie_vector_table`."
   ]
  },
  {
   "cell_type": "code",
   "execution_count": null,
   "metadata": {
    "id": "FEe9El7QMjHi"
   },
   "outputs": [],
   "source": [
    "# Import the netflix titles with vector table using gcloud command\n",
    "import_command_output = !gcloud sql import sql {instance_name} gs://cloud-samples-data/langchain/postgres/netflix_titles_vector_table.sql --database={database_name} --quiet\n",
    "\n",
    "if \"Imported data\" in str(import_command_output):\n",
    "    print(import_command_output)\n",
    "elif \"already exists\" in str(import_command_output):\n",
    "    print(\"Did not import because the table already existed.\")\n",
    "else:\n",
    "    raise Exception(f\"The import seems failed:\\n{import_command_output}\")"
   ]
  },
  {
   "cell_type": "markdown",
   "metadata": {
    "id": "ZM_OFzZrQEPs"
   },
   "source": [
    "# **Use case 3: Spanner as Chat Memory**"
   ]
  },
  {
   "cell_type": "markdown",
   "metadata": {
    "id": "dxqIPQtjDquk"
   },
   "source": [
    "Next we will add chat history (called “memory” in the context of LangChain) to our application so the LLM can retain context and information across multiple interactions, leading to more coherent and sophisticated conversations or text generation. We can use Spanner as “memory” storage in our application so that the LLM can use context from prior conversations to better answer the user’s prompts. First let's initialize Spanner as memory storage."
   ]
  },
  {
   "cell_type": "code",
   "execution_count": 35,
   "metadata": {
    "id": "vyYQILyoEAqg"
   },
   "outputs": [],
   "source": [
    "from langchain_google_spanner import (\n",
    "    SpannerChatMessageHistory,\n",
    ")\n",
    "\n",
    "message_table_name = \"message_store\"\n",
    "\n",
    "SpannerChatMessageHistory.init_chat_history_table(table_name=message_table_name)\n",
    "\n",
    "chat_history = SpannerChatMessageHistory(\n",
    "    instance_id=instance_id,\n",
    "    database_id=database_id,\n",
    "    table_name=message_table_name,\n",
    "    session_id=\"my-test-session\",\n",
    ")"
   ]
  },
  {
   "cell_type": "markdown",
   "metadata": {
    "id": "2yuXYLTCl2K1"
   },
   "source": [
    "Here is an example of how you would add a user message and how you would add an ai message."
   ]
  },
  {
   "cell_type": "code",
   "execution_count": 36,
   "metadata": {
    "colab": {
     "base_uri": "https://localhost:8080/"
    },
    "id": "qDVoTWZal0ZF",
    "outputId": "aeb8c338-9f0d-4143-c09d-9c49478940e0"
   },
   "outputs": [
    {
     "data": {
      "text/plain": [
       "[HumanMessage(content='Hi!'),\n",
       " AIMessage(content=\"Hello there. I'm a model and am happy to help!\")]"
      ]
     },
     "execution_count": 36,
     "metadata": {},
     "output_type": "execute_result"
    }
   ],
   "source": [
    "chat_history.add_user_message(\"Hi!\")\n",
    "chat_history.add_ai_message(\"Hello there. I'm a model and am happy to help!\")\n",
    "\n",
    "chat_history.messages"
   ]
  },
  {
   "cell_type": "markdown",
   "metadata": {
    "id": "k0O9mta8RQ0v"
   },
   "source": [
    "# **Conversational RAG Chain backed by Spanner**"
   ]
  },
  {
   "cell_type": "markdown",
   "metadata": {
    "id": "d0sEt05vD0E_"
   },
   "source": [
    "So far we've tested with using Spanner as document loader, Vector Store and Chat Memory. Now let's use it in the `ConversationalRetrievalChain`.\n",
    "\n",
    "We will build a chat bot that can answer movie related questions based on the vector search results"
   ]
  },
  {
   "cell_type": "code",
   "execution_count": 37,
   "metadata": {
    "id": "9ukjOO-sNQ8_"
   },
   "outputs": [],
   "source": [
    "from langchain_google_vertexai import VertexAI\n",
    "from langchain_google_vertexai.embeddings import VertexAIEmbeddings\n",
    "from langchain_core.messages import AIMessage, HumanMessage\n",
    "from langchain.chains import ConversationalRetrievalChain\n",
    "from langchain.memory import ConversationSummaryBufferMemory\n",
    "from langchain_core.prompts import PromptTemplate\n",
    "from langchain_google_spanner import (\n",
    "    SpannerChatMessageHistory,\n",
    "    SpannerVectorStore,\n",
    "    SpannerLoader,\n",
    "\n",
    ")\n",
    "\n",
    "# Intialize the embedding service\n",
    "embeddings_service = VertexAIEmbeddings(\n",
    "    model_name=\"textembedding-gecko@latest\", project=project_id\n",
    ")\n",
    "\n",
    "# Intialize the Vector Store\n",
    "vector_table_name = sample_vector_table_name\n",
    "vector_store = SpannerVectorStore(\n",
    "    embedding_service=embeddings_service,\n",
    "    instance_id=instance_id,\n",
    "    database_id=database_id,\n",
    "    table_name=vector_table_name,\n",
    "    metadata_columns=[\n",
    "        \"show_id\",\n",
    "        \"type\",\n",
    "        \"country\",\n",
    "        \"date_added\",\n",
    "        \"release_year\",\n",
    "        \"duration\",\n",
    "        \"listed_in\",\n",
    "    ],\n",
    ")\n",
    "\n",
    "# Intialize the SpannerChatMessageHistory\n",
    "chat_history = SpannerChatMessageHistory(\n",
    "    instance_id=instance_id,\n",
    "    database_id=database_id,\n",
    "    session_id=\"my-test-session\",\n",
    "    table_name=\"message_store\",\n",
    ")"
   ]
  },
  {
   "cell_type": "markdown",
   "metadata": {
    "id": "Ytlz9D3LmcU7"
   },
   "source": [
    "Let's create a prompt for the LLM. Here we can add instructions specific to our application, such as \"Don't make things up\"."
   ]
  },
  {
   "cell_type": "code",
   "execution_count": 38,
   "metadata": {
    "id": "LoAHNdrWmW9W"
   },
   "outputs": [],
   "source": [
    "# Prepare some prompt templates for the ConversationalRetrievalChain\n",
    "prompt = PromptTemplate(\n",
    "    template=\"\"\"Use all the information from the context and the conversation history to answer new question. If you see the answer in previous conversation history or the context. \\\n",
    "Answer it with clarifying the source information. If you don't see it in the context or the chat history, just say you \\\n",
    "didn't find the answer in the given data. Don't make things up.\n",
    "\n",
    "Previous conversation history from the questioner. \"Human\" was the user who's asking the new question. \"Assistant\" was you as the assistant:\n",
    "```{chat_history}\n",
    "```\n",
    "\n",
    "Vector search result of the new question:\n",
    "```{context}\n",
    "```\n",
    "\n",
    "New Question:\n",
    "```{question}```\n",
    "\n",
    "Answer:\"\"\",\n",
    "    input_variables=[\"context\", \"question\", \"chat_history\"],\n",
    ")\n",
    "condense_question_prompt_passthrough = PromptTemplate(\n",
    "    template=\"\"\"Repeat the following question:\n",
    "{question}\n",
    "\"\"\",\n",
    "    input_variables=[\"question\"],\n",
    ")"
   ]
  },
  {
   "cell_type": "markdown",
   "metadata": {
    "id": "rsGe-bW5m0H1"
   },
   "source": [
    "Now let's use our vector store as a retreiver. Retreiver's in Langchain allow us to literally \"retrieve\" documents."
   ]
  },
  {
   "cell_type": "code",
   "execution_count": 39,
   "metadata": {
    "id": "1nI0xkJamvXt"
   },
   "outputs": [],
   "source": [
    "# Intialize retriever, llm and memory for the chain\n",
    "retriever = vector_store.as_retriever(\n",
    "    search_type=\"mmr\", search_kwargs={\"k\": 5, \"lambda_mult\": 0.8}\n",
    ")"
   ]
  },
  {
   "cell_type": "markdown",
   "metadata": {
    "id": "3maZ8SLlneYJ"
   },
   "source": [
    "Now let's intialize our LLM, in this case we are using Vertex AI's \"gemini-pro\"."
   ]
  },
  {
   "cell_type": "code",
   "execution_count": 40,
   "metadata": {
    "id": "VBWhg-ihnnxF"
   },
   "outputs": [],
   "source": [
    "llm = VertexAI(model_name=\"gemini-pro\", project=project_id)"
   ]
  },
  {
   "cell_type": "markdown",
   "metadata": {
    "id": "hN8mpXdtnocg"
   },
   "source": [
    "We clear our chat history, so that our application starts without any prior context to other conversations we have had with the application."
   ]
  },
  {
   "cell_type": "code",
   "execution_count": 41,
   "metadata": {
    "id": "1UkPcEpJno5Y"
   },
   "outputs": [],
   "source": [
    "chat_history.clear()\n",
    "\n",
    "memory = ConversationSummaryBufferMemory(\n",
    "    llm=llm,\n",
    "    chat_memory=chat_history,\n",
    "    output_key=\"answer\",\n",
    "    memory_key=\"chat_history\",\n",
    "    return_messages=True,\n",
    ")"
   ]
  },
  {
   "cell_type": "markdown",
   "metadata": {
    "id": "BDAT2koSn8Mz"
   },
   "source": [
    "Now let's create a conversational retrieval chain. This will allow the LLM to use chat history in it's responses, meaning we can ask it follow up questions to our questions instead of having to start from scratch after each inquiry."
   ]
  },
  {
   "cell_type": "code",
   "execution_count": 43,
   "metadata": {
    "colab": {
     "base_uri": "https://localhost:8080/"
    },
    "id": "7Fu8fKdEn8h8",
    "outputId": "abadf0d2-abcd-47a4-d598-45140205593f"
   },
   "outputs": [
    {
     "name": "stdout",
     "output_type": "stream",
     "text": [
      "Question: Shamier Anderson A three-person crew on a mission to Mars?\n",
      "Answer: Yes, Shamier Anderson is starring in a movie about a three-person crew on a mission to Mars. The movie is called Stowaway. (from the vector search result)\n",
      "\n",
      "Question: How about Jonny Depp?\n",
      "Answer: The given context and conversation didn't mention anything about Johnny Depp. So I cannot answer this question.\n",
      "\n",
      "Question: Are there movies about animals?\n",
      "Answer: I didn't find the answer in the given data.\n",
      "\n"
     ]
    },
    {
     "data": {
      "text/plain": [
       "[HumanMessage(content='What movie was Brad Pitt in?'),\n",
       " AIMessage(content='The context and given conversation history do not mention anything about Brad Pitt. So I cannot answer this question.'),\n",
       " HumanMessage(content='How about Jonny Depp?'),\n",
       " AIMessage(content=\"The given context and conversation didn't mention anything about Johnny Depp. So I cannot answer this question.\"),\n",
       " HumanMessage(content='Are there movies about animals?'),\n",
       " AIMessage(content=\"I didn't find the answer in the given data.\"),\n",
       " HumanMessage(content='Shamier Anderson A three-person crew on a mission to Mars?'),\n",
       " AIMessage(content='Yes, Shamier Anderson is starring in a movie about a three-person crew on a mission to Mars. The movie is called Stowaway. (from the vector search result)'),\n",
       " HumanMessage(content='How about Jonny Depp?'),\n",
       " AIMessage(content=\"The given context and conversation didn't mention anything about Johnny Depp. So I cannot answer this question.\"),\n",
       " HumanMessage(content='Are there movies about animals?'),\n",
       " AIMessage(content=\"I didn't find the answer in the given data.\")]"
      ]
     },
     "execution_count": 43,
     "metadata": {},
     "output_type": "execute_result"
    }
   ],
   "source": [
    "# create the ConversationalRetrievalChain\n",
    "rag_chain = ConversationalRetrievalChain.from_llm(\n",
    "    llm=llm,\n",
    "    retriever=retriever,\n",
    "    verbose=False,\n",
    "    memory=memory,\n",
    "    condense_question_prompt=condense_question_prompt_passthrough,\n",
    "    combine_docs_chain_kwargs={\"prompt\": prompt},\n",
    ")\n",
    "\n",
    "# ask some questions\n",
    "q = \"Shamier Anderson A three-person crew on a mission to Mars?\"\n",
    "ans = rag_chain({\"question\": q, \"chat_history\": chat_history})[\"answer\"]\n",
    "print(f\"Question: {q}\\nAnswer: {ans}\\n\")\n",
    "\n",
    "q = \"How about Jonny Depp?\"\n",
    "ans = rag_chain({\"question\": q, \"chat_history\": chat_history})[\"answer\"]\n",
    "print(f\"Question: {q}\\nAnswer: {ans}\\n\")\n",
    "\n",
    "q = \"Are there movies about animals?\"\n",
    "ans = rag_chain({\"question\": q, \"chat_history\": chat_history})[\"answer\"]\n",
    "print(f\"Question: {q}\\nAnswer: {ans}\\n\")\n",
    "\n",
    "# browser the chat history\n",
    "chat_history.messages\n"
   ]
  }
 ],
 "metadata": {
  "colab": {
   "provenance": [],
   "toc_visible": true
  },
  "kernelspec": {
   "display_name": "Python 3",
   "name": "python3"
  },
  "language_info": {
   "codemirror_mode": {
    "name": "ipython",
    "version": 3
   },
   "file_extension": ".py",
   "mimetype": "text/x-python",
   "name": "python",
   "nbconvert_exporter": "python",
   "pygments_lexer": "ipython3",
   "version": "3.11.6"
  }
 },
 "nbformat": 4,
 "nbformat_minor": 0
}
