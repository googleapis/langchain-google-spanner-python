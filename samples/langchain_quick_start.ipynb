{
 "cells": [
  {
   "cell_type": "code",
   "execution_count": 1,
   "metadata": {
    "id": "h-OOsugXAtsV"
   },
   "outputs": [],
   "source": [
    "# Copyright 2024 Google LLC\n",
    "#\n",
    "# Licensed under the Apache License, Version 2.0 (the \"License\");\n",
    "# you may not use this file except in compliance with the License.\n",
    "# You may obtain a copy of the License at\n",
    "#\n",
    "#     https://www.apache.org/licenses/LICENSE-2.0\n",
    "#\n",
    "# Unless required by applicable law or agreed to in writing, software\n",
    "# distributed under the License is distributed on an \"AS IS\" BASIS,\n",
    "# WITHOUT WARRANTIES OR CONDITIONS OF ANY KIND, either express or implied.\n",
    "# See the License for the specific language governing permissions and\n",
    "# limitations under the License."
   ]
  },
  {
   "cell_type": "markdown",
   "metadata": {
    "id": "mbF2F2miAT4a"
   },
   "source": [
    "[![Open In Colab](https://colab.research.google.com/assets/colab-badge.svg)](https://colab.research.google.com/github/googleapis/langchain-google-cloud-sql-pg-python/blob/main/samples/langchain_quick_start.ipynb)\n",
    "\n",
    "---\n",
    "# **Introduction**\n",
    "\n",
    "In this codelab you will learn how to create an interactive generative AI application with Retrieval Augmented Generation using Spanner and LangChain. We will be creating an application grounded in a [Netflix Movie dataset](https://www.kaggle.com/datasets/shivamb/netflix-shows)."
   ]
  },
  {
   "cell_type": "markdown",
   "metadata": {
    "id": "Ma6pEng3ypbA"
   },
   "source": [
    "## Prerequisites\n",
    "\n",
    "* A basic understanding of the Google Cloud Console\n",
    "* Basic skills in command line interface and Google Cloud shell\n",
    "* Basic python knowledge"
   ]
  },
  {
   "cell_type": "markdown",
   "metadata": {
    "id": "DzDgqJHgysy1"
   },
   "source": [
    "## What you'll learn\n",
    "\n",
    "* How to deploy a Spanner instance\n",
    "* How to use Spanner as a VectorStore\n",
    "* How to use Spanner as a DocumentLoader\n",
    "* How to use Spanner for ChatHistory storage"
   ]
  },
  {
   "cell_type": "markdown",
   "metadata": {
    "id": "FbcZUjT1yvTq"
   },
   "source": [
    "## What you'll need\n",
    "* A Google Cloud Account and Google Cloud Project\n",
    "* A web browser such as [Chrome](https://www.google.com/chrome/)"
   ]
  },
  {
   "cell_type": "markdown",
   "metadata": {
    "id": "vHdR4fF3vLWA"
   },
   "source": [
    "# **Setup and Requirements**\n",
    "\n",
    "In the following instructions you will learn to:\n",
    "1. Install required dependencies for our application\n",
    "2. Set up authentication for our project\n",
    "3. Set up a Spanner Instance\n",
    "4. Import the data used by our application"
   ]
  },
  {
   "cell_type": "markdown",
   "metadata": {
    "id": "uy9KqgPQ4GBi"
   },
   "source": [
    "## Install dependencies\n",
    "First you will need to install the dependencies needed to run this demo app."
   ]
  },
  {
   "cell_type": "code",
   "execution_count": null,
   "metadata": {},
   "outputs": [],
   "source": [
    "# TODO: Update this to install from Pypi\n",
    "%pip install git+https://github.com/googleapis/langchain-google-spanner-python.git\n",
    "# %pip install langchain_google_spanner\n",
    "\n",
    "%pip install langchain langchain_google_vertexai"
   ]
  },
  {
   "cell_type": "markdown",
   "metadata": {
    "id": "DeUbHclxw7_l"
   },
   "source": [
    "## Authenticate to Google Cloud within Colab\n",
    "In order to access your Google Cloud Project from this notebook, you will need to Authenticate as an IAM user."
   ]
  },
  {
   "cell_type": "code",
   "execution_count": null,
   "metadata": {},
   "outputs": [],
   "source": [
    "from google.colab import auth\n",
    "\n",
    "auth.authenticate_user()"
   ]
  },
  {
   "cell_type": "markdown",
   "metadata": {
    "id": "UCiNGP1Qxd6x"
   },
   "source": [
    "## Connect Your Google Cloud Project\n",
    "Time to connect your Google Cloud Project to this notebook so that you can leverage Google Cloud from within Colab."
   ]
  },
  {
   "cell_type": "code",
   "execution_count": null,
   "metadata": {},
   "outputs": [],
   "source": [
    "# @markdown Please fill in the value below with your GCP project ID and then run the cell.\n",
    "\n",
    "# Please fill in these values.\n",
    "project_id = \"your_project_id\"  # @param {type:\"string\"}\n",
    "\n",
    "# Quick input validations.\n",
    "assert project_id, \"⚠️ Please provide a Google Cloud project ID\"\n",
    "\n",
    "# Configure gcloud.\n",
    "!gcloud config set project {project_id}\n",
    "%env GOOGLE_CLOUD_PROJECT={project_id}"
   ]
  },
  {
   "cell_type": "markdown",
   "metadata": {
    "id": "O-oqMC5Ox-ZM"
   },
   "source": [
    "## Configure Your Google Cloud Project\n",
    "Configure the following in your Google Cloud Project.\n",
    "\n",
    "1. IAM principal (user, service account, etc.) with the\n",
    "[Spanner Database User][client-role] role.\n",
    "\n",
    "> The user logged into this notebook will be used as the IAM principal and will be granted the Spanner Database Use  role.\n",
    "\n",
    "[client-role]: https://cloud.google.com/spanner/docs/iam#sessions"
   ]
  },
  {
   "cell_type": "code",
   "execution_count": null,
   "metadata": {},
   "outputs": [],
   "source": [
    "# grant Cloud Spanner databaseUser role to authenticated user\n",
    "current_user = !gcloud auth list --filter=status:ACTIVE --format=\"value(account)\"\n",
    "\n",
    "!gcloud projects add-iam-policy-binding {project_id} \\\n",
    "  --member=user:{current_user[0]} \\\n",
    "  --role=\"roles/spanner.databaseUser\" \\\n",
    "  --condition=None"
   ]
  },
  {
   "cell_type": "markdown",
   "metadata": {
    "collapsed": false
   },
   "source": [
    "2. Enable the APIs for Spanner and Vertex AI within your project."
   ]
  },
  {
   "cell_type": "code",
   "execution_count": null,
   "metadata": {},
   "outputs": [],
   "source": [
    "# enable GCP services\n",
    "!gcloud services enable spanner.googleapis.com aiplatform.googleapis.com"
   ]
  },
  {
   "cell_type": "markdown",
   "metadata": {
    "id": "Gn8g7-wCyZU6"
   },
   "source": [
    "## Set up Spanner\n",
    "You will need a **Spanner** instance for the following stages of this notebook."
   ]
  },
  {
   "cell_type": "markdown",
   "metadata": {
    "id": "T616pEOUygYQ"
   },
   "source": [
    "### Create a Spanner Instance & Database\n",
    "Running the below cell will verify the existence of the Spanner instance & database and also create a new instance and database if one does not exist.\n",
    "\n",
    "> ⏳ - Creating a Spanner instance & database ay take a few seconds."
   ]
  },
  {
   "cell_type": "code",
   "execution_count": null,
   "metadata": {},
   "outputs": [],
   "source": [
    "#@markdown Please fill in the both the Google Cloud region and name of your Cloud Spanner instance. Once filled in, run the cell.\n",
    "\n",
    "# Please fill in these values.\n",
    "region = \"us-central1\" #@param {type:\"string\"}\n",
    "instance_id = \"YOUR-INSTANCE-NAME\" #@param {type:\"string\"}\n",
    "database_id = \"YOUR-DB-NAME\" #@param {type:\"string\"}\n",
    "# Quick input validations.\n",
    "assert region, \"⚠️ Please provide a Google Cloud region\"\n",
    "assert instance_id, \"⚠️ Please provide the name of your instance\"\n",
    "assert database_id, \"⚠️ Please provide the name of your database\"\n",
    "\n",
    "# check if Cloud Spanner instance exists in the provided region\n",
    "instance = !gcloud spanner instances describe {instance_id}\n",
    "\n",
    "if 'ERROR' in instance[0]:\n",
    "  print(\"Instance not found\")\n",
    "  print(\"Creating new Cloud Spanner instance...\")\n",
    "  !gcloud spanner instances create {instance_id} \\\n",
    "    --config={config} --nodes=4 --description={instance_id}\n",
    "\n",
    "database = !gcloud spanner databases describe {database_id} --instance={instance_id}\n",
    "\n",
    "if 'ERROR' in database[0]:\n",
    "  print(\"Database not found\")\n",
    "  print(\"Creating new Cloud Spanner database...\")\n",
    "  !gcloud spanner databases create {database_id} \\\n",
    "    --instance={instance_id}"
   ]
  },
  {
   "cell_type": "markdown",
   "metadata": {
    "id": "HdolCWyatZmG"
   },
   "source": [
    "## Import data to your database\n",
    "\n",
    "Now that you have your database, you will need to import data! We will be using a [Netflix Dataset from Kaggle](https://www.kaggle.com/datasets/shivamb/netflix-shows). Here is what the data looks like:"
   ]
  },
  {
   "cell_type": "markdown",
   "metadata": {
    "id": "36-FBKzJ-tLa"
   },
   "source": [
    "| show_id | type    | title                | director         | cast                                                                                                                                                  | country       | date_added        | release_year | rating | duration  | listed_in                                    | description                                                                                                                                                                           |\n",
    "|---------|---------|----------------------|------------------|--------------------------------------------------------------------------------------------------------------------------------------------------------|---------------|-------------------|--------------|--------|-----------|----------------------------------------------|---------------------------------------------------------------------------------------------------------------------------------------------------------------------------------------|\n",
    "| s1      | Movie   | Dick Johnson Is Dead | Kirsten Johnson  |                                                                                                                                                        | United States | September 25, 2021 | 2020         | PG-13  | 90 min    | Documentaries                                | As her father nears the end of his life, filmmaker Kirsten Johnson stages his death in inventive and comical ways to help them both face the inevitable.                              |\n",
    "| s2      | TV Show | Blood & Water        |                  | Ama Qamata, Khosi Ngema, Gail Mabalane, Thabang Molaba, Dillon Windvogel, Natasha Thahane, Arno Greeff, Xolile Tshabalala, Getmore Sithole, Cindy Mahlangu, Ryle De Morny, Greteli Fincham, Sello Maake Ka-Ncube, Odwa Gwanya, Mekaila Mathys, Sandi Schultz, Duane Williams, Shamilla Miller, Patrick Mofokeng | South Africa  | September 24, 2021 | 2021         | TV-MA  | 2 Seasons | International TV Shows, TV Dramas, TV Mysteries | After crossing paths at a party, a Cape Town teen sets out to prove whether a private-school swimming star is her sister who was abducted at birth.                                   |\n",
    "| s3      | TV Show | Ganglands            | Julien Leclercq  | Sami Bouajila, Tracy Gotoas, Samuel Jouy, Nabiha Akkari, Sofia Lesaffre, Salim Kechiouche, Noureddine Farihi, Geert Van Rampelberg, Bakary Diombera                                   |               | September 24, 2021 | 2021         | TV-MA  | 1 Season  | Crime TV Shows, International TV Shows, TV Action & Adventure | To protect his family from a powerful drug lord, skilled thief Mehdi and his expert team of robbers are pulled into a violent and deadly turf war.                                     |\n",
    "| s4      | TV Show | Jailbirds New Orleans |                  |                                                                                                                                                        |               | September 24, 2021 | 2021         | TV-MA  | 1 Season  | Docuseries, Reality TV                        | Feuds, flirtations and toilet talk go down among the incarcerated women at the Orleans Justice Center in New Orleans on this gritty reality series.                                   |\n",
    "| s5      | TV Show | Kota Factory         |                  | Mayur More, Jitendra Kumar, Ranjan Raj, Alam Khan, Ahsaas Channa, Revathi Pillai, Urvi Singh, Arun Kumar                                                 | India        | September 24, 2021 | 2021         | TV-MA  | 2 Seasons | International TV Shows, Romantic TV Shows, TV Comedies | In a city of coaching centers known to train India’s finest collegiate minds, an earnest but unexceptional student and his friends navigate campus life. |\n"
   ]
  },
  {
   "cell_type": "markdown",
   "metadata": {},
   "source": [
    "To read data from a CSV file on Google Cloud Storage (GCS), installing `google-cloud-storage`."
   ]
  },
  {
   "cell_type": "code",
   "execution_count": null,
   "metadata": {},
   "outputs": [],
   "source": [
    "%pip install google-cloud-storage"
   ]
  },
  {
   "cell_type": "markdown",
   "metadata": {
    "id": "kQ2KWsYI_Msa"
   },
   "source": [
    "You can read data from a csv in GCS and then insert it into Spanner table using batch transaction."
   ]
  },
  {
   "cell_type": "code",
   "execution_count": 18,
   "metadata": {},
   "outputs": [],
   "source": [
    "from google.cloud import storage\n",
    "import csv\n",
    "from io import BytesIO\n",
    "\n",
    "\n",
    "def read_csv_from_gcs(bucket_name, file_name):\n",
    "    # Initialize a client\n",
    "    storage_client = storage.Client()\n",
    "\n",
    "    # Get the bucket\n",
    "    bucket = storage_client.get_bucket(bucket_name)\n",
    "\n",
    "    # Get the blob (file)\n",
    "    blob = bucket.blob(file_name)\n",
    "\n",
    "    # Download the file\n",
    "    content = blob.download_as_string()\n",
    "\n",
    "    # Read CSV content\n",
    "    csv_data = content.decode(\"utf-8\")\n",
    "    csv_reader = csv.reader(csv_data.splitlines())\n",
    "\n",
    "    # Convert CSV reader to list of rows\n",
    "    rows = list(csv_reader)\n",
    "\n",
    "    return rows"
   ]
  },
  {
   "cell_type": "code",
   "execution_count": null,
   "metadata": {},
   "outputs": [],
   "source": [
    "from google.cloud import spanner\n",
    "\n",
    "client = spanner.Client()\n",
    "instance = client.instance(instance_id)\n",
    "database = instance.database(database_id)\n",
    "table_name = \"netflix_titles\"\n",
    "\n",
    "database.update_ddl(\n",
    "    [\n",
    "        \"\"\"CREATE TABLE IF NOT EXISTS {} (\n",
    "    show_id STRING(MAX) NOT NULL,\n",
    "    type STRING(MAX),\n",
    "    title STRING(MAX),\n",
    "    director STRING(MAX),\n",
    "    casta STRING(MAX),\n",
    "    country STRING(MAX),\n",
    "    date_added STRING(MAX),\n",
    "    release_year INT64,\n",
    "    rating STRING(MAX),\n",
    "    duration STRING(MAX),\n",
    "    listed_in STRING(MAX),\n",
    "    description STRING(MAX)\n",
    ") PRIMARY KEY (show_id)\"\"\".format(\n",
    "            table_name\n",
    "        )\n",
    "    ]\n",
    ")"
   ]
  },
  {
   "cell_type": "code",
   "execution_count": 20,
   "metadata": {},
   "outputs": [],
   "source": [
    "rows = read_csv_from_gcs(\n",
    "    \"cloud-samples-data\", \"langchain/netflix_titles_compute_embeddings.csv\"\n",
    ")\n",
    "\n",
    "batch_size = 500\n",
    "\n",
    "for i in range(1, len(rows), batch_size):\n",
    "    with database.batch() as batch:\n",
    "        batch_rows = rows[i : i + batch_size]\n",
    "        batch.insert(\n",
    "            table=table_name,\n",
    "            columns=[\n",
    "                \"show_id\",\n",
    "                \"type\",\n",
    "                \"title\",\n",
    "                \"director\",\n",
    "                \"casta\",\n",
    "                \"country\",\n",
    "                \"date_added\",\n",
    "                \"release_year\",\n",
    "                \"rating\",\n",
    "                \"duration\",\n",
    "                \"listed_in\",\n",
    "                \"description\",\n",
    "            ],\n",
    "            values=batch_rows,\n",
    "        )"
   ]
  },
  {
   "cell_type": "markdown",
   "metadata": {
    "id": "SsGS80H04bDN"
   },
   "source": [
    "# **Use case 1: Spanner as a document loader**\n",
    "\n",
    "Now that you have data in your database, you are ready to use Spanner as a document loader. This means we will pull data from the database and load it into memory as documents. We can then feed these documents into the vector store."
   ]
  },
  {
   "cell_type": "markdown",
   "metadata": {
    "id": "8s-C0P-Oee69"
   },
   "source": [
    "You can see we also pass in a query, table_name and a list of columns. The query tells the loader what query to use to pull data. The \"content_columns\" argument refers to the columns that will be used as \"content\" in the document object we will later construct. The rest of the columns in that table will become the \"metadata\" associated with the documents."
   ]
  },
  {
   "cell_type": "code",
   "execution_count": 21,
   "metadata": {
    "id": "2SdFJT6Vece1"
   },
   "outputs": [],
   "source": [
    "from langchain_google_spanner.loader import SpannerLoader\n",
    "\n",
    "content_columns = [\"title\", \"director\", \"casta\", \"description\"]\n",
    "loader = SpannerLoader(\n",
    "    instance_id=instance_id,\n",
    "    database_id=database_id,\n",
    "    query=f\"SELECT * FROM {table_name};\",\n",
    "    content_columns=content_columns,\n",
    ")"
   ]
  },
  {
   "cell_type": "markdown",
   "metadata": {
    "id": "dsL-KFrmfuS1"
   },
   "source": [
    "Then let's run the function to pull our documents from out database using our document loader. You can see the first 5 documents from the database here. Nice, you just used  Spanner as a document loader!"
   ]
  },
  {
   "cell_type": "code",
   "execution_count": 22,
   "metadata": {
    "colab": {
     "base_uri": "https://localhost:8080/"
    },
    "id": "t4zTx-HLfwmW",
    "outputId": "da7239e4-710d-43ce-c004-520a0af9c79f"
   },
   "outputs": [
    {
     "name": "stdout",
     "output_type": "stream",
     "text": [
      "Loaded 8802 from the database. 5 Examples:\n",
      "page_content=\"The Starling Theodore Melfi Melissa McCarthy, Chris O'Dowd, Kevin Kline, Timothy Olyphant, Daveed Diggs, Skyler Gisondo, Laura Harrier, Rosalind Chao, Kimberly Quinn, Loretta Devine, Ravi Kapoor A woman adjusting to life after a loss contends with a feisty bird that's taken over her garden — and a husband who's struggling to find a way forward.\" metadata={'show_id': 's10', 'type': 'Movie', 'country': 'United States', 'date_added': 'September 24, 2021', 'release_year': 2021, 'rating': 'PG-13', 'duration': '104 min', 'listed_in': 'Comedies, Dramas'}\n",
      "page_content='On the Verge Julie Delpy, Elisabeth Shue, Sarah Jones, Alexia Landeau, Mathieu Demy, Troy Garity, Timm Sharp, Giovanni Ribisi Four women — a chef, a single mom, an heiress and a job seeker — dig into love and work, with a generous side of midlife crises, in pre-pandemic LA.' metadata={'show_id': 's100', 'type': 'TV Show', 'country': 'France, United States', 'date_added': 'September 7, 2021', 'release_year': 2021, 'rating': 'TV-MA', 'duration': '1 Season', 'listed_in': 'TV Comedies, TV Dramas'}\n",
      "page_content='Stowaway Joe Penna Anna Kendrick, Toni Collette, Daniel Dae Kim, Shamier Anderson A three-person crew on a mission to Mars faces an impossible choice when an unplanned passenger jeopardizes the lives of everyone on board.' metadata={'show_id': 's1000', 'type': 'Movie', 'country': 'Germany, United States', 'date_added': 'April 22, 2021', 'release_year': 2021, 'rating': 'TV-MA', 'duration': '116 min', 'listed_in': 'Dramas, International Movies, Thrillers'}\n",
      "page_content='Wild Dog Ahishor Solomon Nagarjuna Akkineni, Dia Mirza, Saiyami Kher, Atul Kulakarni, Bilal Hussain, Ali Reza, Mayank Parakh A brash but brilliant Indian intelligence agent leads a covert operation to nab the mastermind behind a series of attacks threatening national security.' metadata={'show_id': 's1001', 'type': 'Movie', 'country': '', 'date_added': 'April 22, 2021', 'release_year': 2020, 'rating': 'TV-MA', 'duration': '126 min', 'listed_in': 'Action & Adventure, International Movies'}\n",
      "page_content='Oloibiri Curtis Graham Olu Jacobs, Richard Mofe-Damijo, William R. Moses, Taiwo Ajai-Lycett, Ifeanyi Williams, Ivie Okujaye, Dayton Sinkia, Bradley Gordon After drilling depletes a small village, a corporation finds more oil in the region, igniting tensions among the community.' metadata={'show_id': 's1002', 'type': 'Movie', 'country': 'Canada, Nigeria, United States', 'date_added': 'April 21, 2021', 'release_year': 2015, 'rating': 'TV-14', 'duration': '86 min', 'listed_in': 'Dramas, International Movies, Thrillers'}\n"
     ]
    }
   ],
   "source": [
    "documents = loader.load()\n",
    "print(f\"Loaded {len(documents)} from the database. 5 Examples:\")\n",
    "for doc in documents[:5]:\n",
    "    print(doc)"
   ]
  },
  {
   "cell_type": "markdown",
   "metadata": {
    "id": "z9uLV3bs4noo"
   },
   "source": [
    "# **Use case 2: Spanner as Vector Store**"
   ]
  },
  {
   "cell_type": "markdown",
   "metadata": {
    "id": "duVsSeMcgEWl"
   },
   "source": [
    "Now, let's learn how to put all of the documents we just loaded into a vector store so that we can use vector search to answer our user's questions!"
   ]
  },
  {
   "cell_type": "markdown",
   "metadata": {
    "id": "jfH8oQJ945Ko"
   },
   "source": [
    "### Create Your Vector Store table\n",
    "\n",
    "Based on the documents that we loaded before, we want to create a table with a vector column as our vector store. We will start it by intializing a vector table by calling the `init_vectorstore_table` function from our `SpannerVectorStore`. As you can see we list all of the columns for our metadata.\n"
   ]
  },
  {
   "cell_type": "code",
   "execution_count": null,
   "metadata": {},
   "outputs": [],
   "source": [
    "from langchain_google_spanner import SpannerVectorStore, TableColumn\n",
    "\n",
    "sample_vector_table_name = \"movie_vector_table_samples\"\n",
    "\n",
    "\n",
    "SpannerVectorStore.init_vector_store_table(\n",
    "    instance_id=instance_id,\n",
    "    database_id=database_id,\n",
    "    table_name=sample_vector_table_name,\n",
    "    metadata_columns=[\n",
    "        TableColumn(\"show_id\", \"STRING(MAX)\"),\n",
    "        TableColumn(\"type\", \"STRING(MAX)\"),\n",
    "        TableColumn(\"country\", \"STRING(MAX)\"),\n",
    "        TableColumn(\"date_added\", \"STRING(MAX)\"),\n",
    "        TableColumn(\"release_year\", \"INT64\"),\n",
    "        TableColumn(\"rating\", \"STRING(MAX)\"),\n",
    "        TableColumn(\"duration\", \"STRING(MAX)\"),\n",
    "        TableColumn(\"listed_in\", \"STRING(MAX)\"),\n",
    "    ],\n",
    "    primary_key=\"langchain_id\",\n",
    ")"
   ]
  },
  {
   "cell_type": "markdown",
   "metadata": {
    "id": "KG6rwEuJLNIo"
   },
   "source": [
    "### Try inserting the documents into the vector table\n",
    "\n",
    "Now we will create a vector_store object backed by our vector table in the Spanner database. Let's load the data from the documents to the vector table. Note that for each row, the embedding service will be called to compute the embeddings to store in the vector table. Pricing details can be found [here](https://cloud.google.com/vertex-ai/pricing)."
   ]
  },
  {
   "cell_type": "code",
   "execution_count": 26,
   "metadata": {
    "id": "Wo4-7EYCIFF9"
   },
   "outputs": [],
   "source": [
    "from langchain_google_vertexai.embeddings import VertexAIEmbeddings\n",
    "\n",
    "# Initialize the embedding service. In this case we are using version 003 of Vertex AI's textembedding-gecko model. In general, it is good practice to specify the model version used.\n",
    "embeddings_service = VertexAIEmbeddings(\n",
    "    model_name=\"textembedding-gecko@003\", project=project_id\n",
    ")\n",
    "\n",
    "\n",
    "vector_store = SpannerVectorStore(\n",
    "    embedding_service=embeddings_service,\n",
    "    instance_id=instance_id,\n",
    "    database_id=database_id,\n",
    "    table_name=sample_vector_table_name,\n",
    "    metadata_columns=[\n",
    "        \"show_id\",\n",
    "        \"type\",\n",
    "        \"rating\",\n",
    "        \"country\",\n",
    "        \"date_added\",\n",
    "        \"release_year\",\n",
    "        \"duration\",\n",
    "        \"listed_in\",\n",
    "    ],\n",
    ")"
   ]
  },
  {
   "cell_type": "markdown",
   "metadata": {
    "id": "fr1rP6KQ-8ag"
   },
   "source": [
    "Now let's try to put the documents data into the vector table. Here is a code example to load the first 5 documents in the list."
   ]
  },
  {
   "cell_type": "code",
   "execution_count": 27,
   "metadata": {
    "id": "CTks8Cy--93B"
   },
   "outputs": [
    {
     "data": {
      "text/plain": [
       "['83118fcc-6c38-4b93-9dab-03270c9cf2a9',\n",
       " 'e1de2cdf-3841-40bf-84bf-9d4800e84f3e',\n",
       " '925284ad-715a-4a47-bf77-65daa51afeef',\n",
       " '43730f91-1cc2-4541-b52b-dad55dba66a1',\n",
       " 'b347c05a-b924-429f-b081-03207b67c40b']"
      ]
     },
     "execution_count": 27,
     "metadata": {},
     "output_type": "execute_result"
    }
   ],
   "source": [
    "import uuid\n",
    "\n",
    "docs_to_load = documents[:5]\n",
    "\n",
    "# ! Uncomment the following line to load all 8,800+ documents to the database vector table with calling the embedding service.\n",
    "# docs_to_load = documents\n",
    "\n",
    "ids = [str(uuid.uuid4()) for i in range(len(docs_to_load))]\n",
    "vector_store.add_documents(docs_to_load, ids, batch_size=500)"
   ]
  },
  {
   "cell_type": "markdown",
   "metadata": {
    "id": "29iztdvfL2BN"
   },
   "source": [
    "### Import the rest of your data into your vector table\n",
    "\n",
    "You don't have to call the embedding service 8,800 times to load all the documents for the demo. Instead, we have prepared data with the all 8,800+ rows with pre-computed embeddings in a `.csv` file. Let's import data from csv directly."
   ]
  },
  {
   "cell_type": "code",
   "execution_count": 28,
   "metadata": {
    "id": "FEe9El7QMjHi"
   },
   "outputs": [],
   "source": [
    "vector_store_rows = read_csv_from_gcs(\n",
    "    \"cloud-samples-data\", \"langchain/netflix_titles_computed_embeddings.csv\"\n",
    ")\n",
    "\n",
    "for vector_store_row in vector_store_rows:\n",
    "    # Cast embedding column from String to Array<Float>\n",
    "    vector_store_row[2] = [float(x) for x in vector_store_row[2][1:-1].split(\",\")]"
   ]
  },
  {
   "cell_type": "code",
   "execution_count": 30,
   "metadata": {},
   "outputs": [
    {
     "name": "stdout",
     "output_type": "stream",
     "text": [
      "['00002de7-1c54-49bc-85d9-aac736b4d3b8', 'The Green Hornet Michel Gondry Seth Rogen, Jay Chou, Cameron Diaz, Tom Wilkinson, Christoph Waltz, David Harbour, Edward James Olmos, Jamie Harris, Chad L. Coleman, Edward Furlong A hard-partying heir dons a disguise to fight crime after hours. But with no talents or skills, he relies on his friend, a martial-arts genius.', [0.00015288597205653787, -0.03342539817094803, -0.06307884305715561, -0.05950374901294708, 0.046673525124788284, -0.028744857758283615, -0.022767795249819756, 0.0672813355922699, 0.034874457865953445, -0.02926463447511196, 0.04954523593187332, 0.016398031264543533, -0.033216219395399094, 0.00168053456582129, -0.018036235123872757, -0.004897276405245066, 0.027709269896149635, -0.03003118932247162, -0.008177896961569786, -0.020597808063030243, -0.011058618314564228, 0.016569361090660095, -0.021173560991883278, 0.003378270659595728, -0.005064161494374275, -0.026649827137589455, 0.032910872250795364, -0.05432416871190071, -0.014454418793320656, 0.008992779068648815, 0.008480056189000607, 0.0003107796364929527, -0.046101585030555725, 0.02084900252521038, -0.003090314567089081, -0.09125253558158875, -0.03169376403093338, 0.02207385189831257, 0.006945316679775715, 0.007049999199807644, -0.018037861213088036, -0.063907690346241, 0.03802139312028885, -0.007950088009238243, 0.008285759016871452, 0.03312762454152107, -0.0054093715734779835, 0.020622020587325096, -0.012494347989559174, -0.04770553484559059, 0.030478591099381447, -0.004814176354557276, 0.06822100281715393, 0.0031873269472271204, -0.015442092902958393, -0.05180094391107559, 0.0486091785132885, -0.02518768236041069, -0.029960187152028084, 0.049885138869285583, 0.012295232154428959, -0.006159819196909666, -0.0006616066675633192, 0.022095216438174248, -0.0005365487886592746, -0.047825198620557785, -0.0010608501033857465, -0.007173710502684116, 0.07572328299283981, 0.01859423890709877, -0.007184635382145643, -0.03762214630842209, 0.09858023375272751, 0.0034763584844768047, -0.013295243494212627, -0.14028973877429962, -0.022473951801657677, 0.02560616098344326, 0.0199603084474802, -0.015188363380730152, 0.024870483204722404, -0.07073129713535309, -0.07546403259038925, -0.05058765783905983, -0.055933110415935516, -0.0008762479410506785, -0.09338356554508209, -0.02581665851175785, 0.05184576287865639, 0.05392255261540413, 0.001173719298094511, 0.02258727140724659, 0.08434844017028809, -0.03360304236412048, -0.005637099966406822, 0.08320984989404678, -0.036423761397600174, -0.031060021370649338, 0.033188752830028534, -0.048644132912158966, -0.021887144073843956, -0.061848316341638565, -0.051328614354133606, 0.000897791818715632, 0.014437135308980942, -0.00649089552462101, -0.017011772841215134, 0.05461778864264488, 0.004553227219730616, 0.003614561865106225, -0.06539022922515869, -0.021995751187205315, -0.016088329255580902, -0.008481999859213829, 0.020366817712783813, -0.03321437910199165, 0.014788233675062656, 0.09593354165554047, 0.021613217890262604, 0.04383093863725662, -0.00909850001335144, -0.01895688660442829, 0.07163675874471664, -0.022971633821725845, 0.011087574064731598, -0.034871358424425125, -0.016167450696229935, 0.027553081512451172, -0.020229743793606758, 0.03559252247214317, -0.009480818174779415, -0.024720732122659683, -0.011486356146633625, -0.0009198775514960289, 0.03576948866248131, 0.06277626007795334, 0.07902398705482483, -0.010331942699849606, 0.013287115842103958, 0.01707313396036625, 0.023140378296375275, -0.005778109189122915, 0.020403405651450157, -0.010221235454082489, -0.006203052122145891, 0.07403400540351868, -0.05182277038693428, -0.033076077699661255, 0.03504684939980507, -0.0247945636510849, 0.005854615941643715, -0.0034968885593116283, -0.03371921181678772, -0.013475983403623104, 0.042238276451826096, 0.0014223991893231869, 0.003096179571002722, 0.03069221042096615, -0.0020332890562713146, -0.003413538448512554, 0.012836269102990627, 0.0075255888514220715, 0.03477586805820465, 0.03915296122431755, -0.02239539660513401, -0.019090808928012848, -0.004217891953885555, -0.004157641902565956, 0.008807302452623844, -0.008033561520278454, -0.011077218689024448, 0.022347381338477135, -0.03251488134264946, -0.011174962855875492, 0.007308889180421829, -0.08802647888660431, 0.030196204781532288, 0.011935258284211159, -0.06158304214477539, -0.009364240802824497, 0.0019205951830372214, -0.020491454750299454, 0.04689282551407814, 0.041795000433921814, -0.0010730760404840112, 0.03390660881996155, 0.023165235295891762, -0.030924323946237564, 0.009436964057385921, 0.049752961844205856, -0.00303886691108346, -0.0010719832498580217, 0.007258807774633169, 0.01732373982667923, -0.05140875279903412, 0.048311520367860794, 0.03260928392410278, 0.00843124371021986, 0.06847528368234634, -0.06997450441122055, -0.013507558032870293, 0.07226955890655518, 0.01199437491595745, -0.011963537894189358, 0.026530934497714043, -0.014362500049173832, 0.03676796332001686, 0.04385827109217644, -0.05869570001959801, 0.03646809235215187, -0.05240635946393013, -0.013738147914409637, -0.029710525646805763, -0.006671236362308264, 0.012320621870458126, -0.01351164560765028, 0.01645059883594513, -0.004076534882187843, 0.026309937238693237, -0.021782899275422096, 0.02855154499411583, 0.009412976913154125, -0.02094408869743347, -0.000448522885562852, -0.04426056146621704, 0.005540178157389164, -0.037942953407764435, -0.021378548815846443, 0.024971535429358482, -0.016114376485347748, 0.04194735363125801, 0.031169746071100235, 0.0069593340158462524, -0.003975629806518555, 0.058373190462589264, 0.00956466980278492, 0.007733605802059174, -0.006815575994551182, 0.07092723250389099, 0.020037002861499786, -0.009728159755468369, 0.009382307529449463, 0.0215788334608078, 0.010537371970713139, -0.02875836007297039, -0.033410053700208664, -0.01953531615436077, 0.05931913107633591, 0.02430599182844162, 0.04780818521976471, 0.012862776406109333, -0.0454992949962616, -0.01885555125772953, -0.005123711656779051, -0.0975382998585701, 0.014606022275984287, -0.09974364191293716, 0.029341138899326324, -0.08527164906263351, 0.005559158511459827, 0.08683083951473236, 0.04133477061986923, -0.00276039051823318, 0.02386797033250332, -0.005326413549482822, 0.0003984151699114591, 0.0772937461733818, -0.06632988899946213, -0.03680755943059921, -0.005266955588012934, -0.04517708346247673, -0.04008699581027031, 0.035275641828775406, 0.040528010576963425, 0.04691005125641823, -0.015056699514389038, -0.028814224526286125, 0.021369218826293945, -0.0111387325450778, -0.02351575531065464, 0.049035362899303436, 0.051525700837373734, 0.03188268840312958, -0.028714904561638832, 0.035962607711553574, -0.003156683873385191, -0.05740031227469444, -0.034767769277095795, -0.0006413545925170183, -0.04233982786536217, 0.004497468937188387, -0.06718312203884125, 0.020711373537778854, -0.015495521947741508, -0.05952514708042145, 0.03758231922984123, -0.00179247313644737, 0.0593385212123394, 0.012962543405592442, -0.047265030443668365, 0.0026997062377631664, -0.0850525051355362, 0.034881819039583206, -0.051102250814437866, -0.010442299768328667, 0.03825986012816429, 0.005549833178520203, 0.005037819501012564, -0.00394451105967164, 0.024869024753570557, 0.02122560329735279, -0.00546475313603878, -0.0077269719913601875, -0.026176314800977707, 0.04924995079636574, 0.0005734195001423359, -0.023927439004182816, 0.037600867450237274, -0.005539637990295887, 0.033917736262083054, -0.029647883027791977, 0.05949440598487854, -0.003488166257739067, 0.03849893435835838, -0.00836709700524807, 0.032564979046583176, -0.044036366045475006, -0.0015202746726572514, 0.016816088929772377, -0.04263028874993324, -0.03574104234576225, -0.009977424517273903, 0.004329395480453968, 0.023956015706062317, 0.01562529429793358, 0.005004034843295813, -0.04391912370920181, 0.03076048009097576, -0.01369386725127697, 0.0010550892911851406, 0.022033855319023132, 0.021027250215411186, -0.03065280057489872, -0.0556308813393116, -0.02884923294186592, -0.02765083499252796, -0.07085784524679184, -0.011053997091948986, 0.07016465067863464, 0.060356274247169495, -0.0031741182319819927, 0.058632660657167435, -0.005027453415095806, -0.013752256520092487, 0.0026436615735292435, -0.03384433686733246, 0.04735790938138962, -0.033457495272159576, 0.009018903598189354, 0.017261715605854988, -0.026481976732611656, 0.017659062519669533, 0.010510546155273914, -0.07130590081214905, -0.044541481882333755, 0.0037516297306865454, -0.01842895708978176, 0.013239376246929169, 0.012707051821053028, 0.04181826114654541, 0.023825980722904205, 0.0028874592389911413, -0.010905603878200054, -0.04642674699425697, -0.025728711858391762, 0.03323047235608101, -0.030624791979789734, -0.02038451097905636, 0.02593057043850422, 0.0369446836411953, 0.0005912975175306201, -0.029275361448526382, 0.05043434351682663, -0.02785608172416687, 0.037875957787036896, -0.07290896773338318, 0.062142837792634964, 0.020209530368447304, -0.033205050975084305, 0.04886125028133392, -0.03250408172607422, 0.01217823289334774, 0.07625110447406769, 0.011467589996755123, 0.002618452301248908, -0.03501053899526596, 0.021954551339149475, -0.025367427617311478, 0.007991231977939606, -0.03284698352217674, -0.033735934644937515, 0.016163213178515434, -0.016644563525915146, -0.040057677775621414, -0.022061506286263466, 0.006432239897549152, -0.016396116465330124, 0.006368130445480347, -0.020458262413740158, 0.003437139093875885, 0.01769043132662773, 0.022527595981955528, 0.018579967319965363, -0.07601462304592133, -0.082520991563797, -0.020732814446091652, 0.02328270673751831, -0.03337082639336586, -0.01089884340763092, 0.019401390105485916, 0.03777216002345085, -0.007189481984823942, 0.014124102890491486, 0.026491884142160416, -0.06665035337209702, -0.05968601629137993, 0.0042654406279325485, -0.04770711436867714, 0.016843156889081, 0.011715838685631752, 0.01781783252954483, 0.013078170828521252, 0.041396837681531906, -0.011499280110001564, -0.002471659332513809, -0.045938748866319656, -0.023594297468662262, 0.03860728070139885, 0.011040560901165009, 0.002405540319159627, 0.01802639663219452, 0.02520299144089222, 0.023095665499567986, -0.008685007691383362, 0.016815558075904846, -0.049284160137176514, 0.04341831058263779, -0.015698006376624107, 0.014563585631549358, -0.08280108124017715, -0.001403049798682332, -0.02957560122013092, 0.002690528053790331, -0.02006726898252964, -0.0058712163008749485, -0.022252101451158524, -0.0030113430693745613, 0.06123381108045578, -0.010951566509902477, 0.058218955993652344, -0.0028230769094079733, -0.0007626457954756916, -0.05737699568271637, -0.05399218574166298, 0.07042383402585983, -0.06025189161300659, 0.033308014273643494, -0.01414535753428936, -0.025858046486973763, 0.06717166304588318, -0.019009849056601524, 0.000952437985688448, -0.016712302342057228, -0.05510608106851578, -0.014392668381333351, 0.015999963507056236, -0.08961060643196106, 0.02522471733391285, -0.024001911282539368, -0.031637050211429596, -0.002100160578265786, 0.013161263428628445, 0.04905053228139877, 0.007737167179584503, -0.0011243385961279273, 0.03237006813287735, 0.020977916195988655, -0.030581440776586533, 0.007969672791659832, 0.04772109538316727, -0.014465183950960636, 0.009912468492984772, -0.04132390022277832, -0.015123531222343445, -0.052975572645664215, 0.01775253564119339, -0.04354654997587204, 0.040007803589105606, 0.051674243062734604, 0.010100780986249447, 0.006033432669937611, 0.01838327758014202, -0.001983041176572442, 0.012812688015401363, 0.044554442167282104, -0.05021366477012634, -0.00894728023558855, 0.004795458633452654, -0.019214650616049767, -0.04810800403356552, 0.024343883618712425, 0.023964304476976395, -0.04540795460343361, -0.010925493203103542, 0.07018068432807922, -0.06418555229902267, -0.007301956415176392, 0.017466695979237556, -0.012832862325012684, -0.010304068215191364, 0.01208233367651701, -0.0609629824757576, -0.08488648384809494, -0.0021912134252488613, 0.0061003826558589935, -0.01739921234548092, 0.007641021627932787, 0.021519122645258904, -0.04634654149413109, 0.007520318031311035, -0.020755527541041374, 0.07014862447977066, -0.02352658472955227, -0.0007378480513580143, 0.06582403182983398, 0.0062525453977286816, -0.002953937975689769, 0.008857467211782932, -0.004066342022269964, -0.016930514946579933, 0.040233928710222244, -0.047982972115278244, 0.013985461555421352, 0.021465256810188293, -0.03472939878702164, 0.011449886485934258, 0.016372550278902054, -0.07684622704982758, 0.016508514061570168, -0.006312856450676918, 0.009783223271369934, -0.009567957371473312, 0.025101451203227043, -0.048848703503608704, -0.0121424226090312, 0.010480205528438091, 0.015624345280230045, 0.0035819243639707565, -0.023737076669931412, -0.030341850593686104, 0.0057873171754181385, 0.011967414058744907, -0.009899821132421494, 0.02545476146042347, 0.03873433545231819, 0.0448513887822628, -0.026498904451727867, 0.0032681275624781847, 0.03694150969386101, -0.02705458179116249, -0.02501828223466873, -0.01404658704996109, -0.0035445697139948606, -0.005864953156560659, 0.037179961800575256, 0.003394101979210973, -0.030942391604185104, -0.009052751585841179, -0.02361374907195568, -0.00908070057630539, 0.0638149157166481, -0.0592326745390892, 0.053626205772161484, -0.027147307991981506, -0.017671016976237297, 0.04210708290338516, 0.05822044610977173, 0.030518000945448875, 0.06669341027736664, 0.022833287715911865, -0.08194152265787125, -0.004143795929849148, -0.002458933275192976, -0.01603993959724903, -0.0016891055274754763, 0.011697298847138882, 0.021569227799773216, -0.07339653372764587, -0.029169779270887375, 0.007033172994852066, -0.030164916068315506, -0.050300464034080505, 0.03520985692739487, -0.03497932851314545, 0.06102966144680977, -0.013555780053138733, 0.013278214260935783, 0.007032220717519522, 0.03104630671441555, -0.01668519154191017, -0.04118043929338455, 0.01662350632250309, -0.011802734807133675, -0.023440079763531685, -0.10208741575479507, 0.030486036092042923, 0.0873938649892807, 0.0320170558989048, -0.04313694313168526, -0.011271595023572445, -0.030353521928191185, 0.04918050393462181, 0.06511012464761734, -0.012800678610801697, 0.06162035092711449, 0.025311151519417763, 0.03682088479399681, 0.003807556815445423, 0.06259727478027344, 0.04593690484762192, 0.052080437541007996, 0.0636432096362114, 0.04201735556125641, 0.04244956746697426, 0.0356406569480896, -0.013125680387020111, 0.0005949828773736954, -0.0288626030087471, 0.00022646172146778554, 0.008100408129394054, -0.034588150680065155, -0.01185537502169609, 0.012705005705356598, -0.02884337492287159, 0.004458506125956774, 0.04180927947163582, -0.00721705611795187, -0.1029294952750206, -0.05921896919608116, 0.01741546206176281, -0.056704215705394745, 0.06438381224870682, 0.005141544621437788, 0.02713787369430065, 0.0009912002133205533, 0.0026664785109460354, -0.007736853323876858, -0.03209127485752106, 0.05807706341147423, -0.03432032838463783, 0.009093843400478363, -0.02260763943195343, -0.049483004957437515, 0.007602406665682793, 0.02147003263235092, -0.003568689338862896, -0.05369327962398529, -0.06407535076141357, -0.0061605446971952915, 0.017739752307534218, -0.08042949438095093, 0.024603653699159622, -0.018561678007245064, 0.010681958869099617, 0.04645410180091858, 0.0473189614713192, -0.021175876259803772, 0.06146508827805519, -0.02255932055413723, 0.023076092824339867, 0.06371226161718369, -0.0577370822429657, -0.0575304850935936, -0.03566699102520943, -0.03067796863615513, 0.024709509685635567, 0.043909601867198944, -0.008522093296051025, -0.011010264046490192, -0.040295884013175964, 0.010272658430039883, -0.011213457211852074, 0.028814949095249176, 0.010644478723406792, 0.05118897557258606, -0.007054116111248732, -0.0145725067704916, -0.033899806439876556, -0.02309596724808216, 0.03434176370501518, -0.016406405717134476, -0.03284946829080582, -0.0408245325088501, -0.01348307728767395, -0.0253123976290226, 0.042179279029369354, 0.03502338379621506, 0.009208766743540764, 0.022533157840371132, 0.04876059293746948, -0.005287023261189461, -0.03458303585648537, -0.030244698747992516, 0.04263489693403244, 0.04985076189041138, -0.0011009887093678117, -0.025800129398703575, 0.014211887493729591, -0.03401191905140877, 0.04908972233533859, 0.03082401491701603, 0.02802644670009613, 0.038328155875205994, -0.01694328710436821, -0.037284377962350845, 0.0794127807021141, -0.02464868873357773, 0.04668180271983147, -0.011378791183233261, -0.007189098279923201, 0.12001071870326996, -0.02065177634358406, -0.04597683623433113, -0.008839886635541916, -0.024634674191474915, 0.05665523186326027, -0.002069521462544799, 0.04786638170480728, 0.007132095750421286, -0.05821245163679123, -0.014366932213306427, 0.0427590049803257, -0.002358289435505867, 0.09751681983470917, 0.06707402318716049, -0.017272399738430977, -0.011497609317302704, -0.01584497280418873, -0.00901076104491949, -0.002380842575803399, -0.008996554650366306, -0.02198273502290249, 0.033129118382930756, 0.042752206325531006, 0.0004694776434917003, -0.05130235105752945, 0.02050822600722313, 0.0009139992762356997, -0.004584220238029957, -0.01460789144039154, -0.02864796668291092, 0.027639485895633698, 0.007621858734637499, -0.01198308914899826, -0.01665917970240116, -0.001213005743920803, -0.012592299841344357, -0.012247861362993717], 's8336', 'Movie', 'United States', 'April 18, 2020', '2011', 'PG-13', '119 min', 'Action & Adventure, Comedies']\n",
      "['000b7e17-7e41-427f-81aa-2943063adc81', \"The Mirror Has Two Faces Barbra Streisand Barbra Streisand, Jeff Bridges, Lauren Bacall, George Segal, Mimi Rogers, Pierce Brosnan, Brenda Vaccaro, Austin Pendleton, Elle Macpherson, Ali Marsh, Leslie Stefanson, Taina Elg, Lucy Avery Brooke, Amber Smith Tired of being single, middle-aged professor Rose Morgan accepts her colleague's proposal – but her colleague only wants a platonic marriage.\", [0.05608697980642319, -0.07621420174837112, -0.06016657128930092, 0.01458646822720766, 0.046280354261398315, -0.01188699435442686, 0.03660940006375313, 0.02252432331442833, 0.04992900416254997, -0.02308647707104683, -0.005246467422693968, -0.03754089027643204, -0.004298334941267967, 0.008984473533928394, 0.00045360735384747386, -0.020109741017222404, 0.026702066883444786, -0.0006232167943380773, -0.022744713351130486, -0.043006781488657, 0.056165389716625214, 0.00833856500685215, -0.006954398937523365, -0.019427428022027016, 0.038309212774038315, -0.021046772599220276, 0.021677996963262558, -0.10441066324710846, -0.006249781232327223, -0.013579034246504307, -0.021793533116579056, 0.045849498361349106, -0.06332040578126907, 0.015255916863679886, 0.0014927414013072848, -0.058888476341962814, 0.010516212321817875, -0.011270617134869099, 0.0447964183986187, 0.04805507883429527, 0.03893429413437843, -0.005476976744830608, -0.005330027546733618, -0.002753361128270626, -0.024011975154280663, 0.0033311962615698576, -0.06063424050807953, 0.018671732395887375, 0.042336247861385345, -0.09419575333595276, 0.023564720526337624, -0.003753393655642867, 0.027994029223918915, 0.009594831615686417, -0.017120609059929848, -0.04524184390902519, 0.03195685148239136, -0.0220815259963274, -0.042715467512607574, -0.0015277968486770988, 0.01727118343114853, -0.006535587832331657, -0.010655012913048267, 0.040314629673957825, 0.024641595780849457, -0.08791334182024002, 0.007308688480407, -0.00897285621613264, 0.0889056846499443, 0.00984152127057314, 0.04570959508419037, -0.025810210034251213, 0.11571092158555984, 0.033872660249471664, -0.009225663729012012, -0.11692951619625092, -0.03720184043049812, 0.05536298826336861, 0.015719804912805557, 0.01031255442649126, 0.0004464300873223692, -0.09560951590538025, -0.07954850047826767, -0.03413862735033035, -0.05830780416727066, -0.0005825982661917806, -0.022345000877976418, 0.021562686190009117, -0.0003355595108587295, 0.07865195721387863, 0.014408042654395103, 0.0320231132209301, 0.04164813831448555, -0.10472801327705383, -0.023203827440738678, 0.007834810763597488, -0.04579908773303032, -0.07899367064237595, 0.004695339128375053, -0.01834184303879738, -0.06995350122451782, -0.018120652064681053, -0.02113068848848343, 0.03506546467542648, -0.032856691628694534, -0.0022725150920450687, -0.029655326157808304, 0.05215655267238617, 0.03626848757266998, 0.024734990671277046, -0.038066085427999496, -0.008452987298369408, 0.011524546891450882, -0.010866194032132626, 0.011773635633289814, -0.017925327643752098, -0.00877163652330637, 0.04360375925898552, 0.009988870471715927, 0.026193669065833092, 0.02300189808011055, 0.007728317752480507, 0.03150726854801178, -0.05028615519404411, 0.009298428893089294, -0.03743549436330795, -0.022031359374523163, -0.010020843707025051, -0.007451394107192755, -0.017889520153403282, -0.005807104520499706, -0.04673263803124428, 0.037945978343486786, -0.0017034477787092328, 0.053734615445137024, 0.11967705190181732, 0.0495530441403389, -0.003756733611226082, 0.04853185638785362, 0.006856504362076521, 0.012244675308465958, 0.031037550419569016, -0.001991613768041134, -0.017639227211475372, -0.033742472529411316, 0.05796120688319206, 0.001902566640637815, -0.01541703287512064, 0.01814291626214981, -0.04665471613407135, 0.03902539983391762, -0.013508480042219162, -0.030037255957722664, -0.028717810288071632, 0.03650546818971634, 0.06408236920833588, -0.0070929331704974174, -0.002908968599513173, -0.028173044323921204, 0.07796116918325424, 0.04998166114091873, 0.011494704522192478, 0.029329190030694008, 0.040457598865032196, -0.010734973475337029, 0.034239109605550766, 0.030980678275227547, -0.0038192574866116047, 0.02742326445877552, 0.03177729994058609, 0.018961230292916298, 0.02671561948955059, -0.021317455917596817, -0.004332936368882656, 0.02157357893884182, -0.05398284271359444, 0.00017459712398704141, 0.044239722192287445, -0.06942278146743774, -0.024897217750549316, -0.025387214496731758, -0.032785698771476746, 0.015706676989793777, 0.03013649582862854, 0.047018833458423615, -0.05007675290107727, 0.07587534934282303, -0.06841438263654709, 0.03057108446955681, 0.02101767808198929, 0.001963885733857751, -0.022350220009684563, -0.06419401615858078, -0.01611139066517353, -0.025483449921011925, 0.0031066196970641613, 0.008220666088163853, -0.017078569158911705, -0.01829063892364502, -0.05535824969410896, -0.027562452480196953, 0.05935705453157425, 0.019033411517739296, -0.014809629879891872, 0.02896229922771454, -0.02698250114917755, 0.05284252017736435, 0.006707749795168638, -0.05097780004143715, 0.03715605288743973, -0.04090126231312752, 0.006307544186711311, -0.04080851376056671, 0.007423960603773594, 0.057665348052978516, 0.017590312287211418, 0.009039796888828278, 0.00040453410474583507, -0.011633789166808128, -0.005194548051804304, 0.04074149206280708, 0.019723303616046906, -0.06969402730464935, -0.003753147553652525, -0.0480705127120018, 0.021056056022644043, -0.05221828818321228, -0.010770868510007858, 0.03205815330147743, -0.0059988247230648994, 0.06090715900063515, 0.06563130021095276, 0.023486049845814705, -0.04132721945643425, 0.06626536697149277, -0.01280367374420166, 0.03727516904473305, -0.04110691323876381, 0.04521279036998749, 0.03291335701942444, -0.0044740657322108746, 0.054014261811971664, 0.011777086183428764, 0.006990018766373396, -0.011932442896068096, -0.025946548208594322, -0.00939016044139862, 0.055381890386343, 0.02191231958568096, -0.004496837966144085, 0.022880036383867264, -0.0665685161948204, -0.07117956131696701, -0.027355577796697617, -0.03595876693725586, 0.042816411703825, -0.027117736637592316, 0.041736193001270294, -0.05082888901233673, -0.03234785422682762, 0.08402419090270996, -0.0074646067805588245, 0.001494605210609734, 0.047586459666490555, -0.04659100994467735, -0.034510403871536255, 0.014198253862559795, -0.05979691445827484, 0.008609714917838573, -0.017161091789603233, -0.014956781640648842, -0.04780782014131546, 0.045717500150203705, 0.047250550240278244, 0.05892249196767807, 0.04528425633907318, -0.011653738096356392, 0.055210355669260025, 0.015528392046689987, -0.029215781018137932, -0.012395800091326237, 0.020103638991713524, 0.0466323159635067, -0.00023720839817542583, 0.034807343035936356, 0.007334018591791391, -0.04909961298108101, -0.005680465139448643, -0.02149338461458683, -0.06302675604820251, -0.043069105595350266, -0.04555787146091461, 0.02186749503016472, -0.027588726952672005, -0.07721813023090363, -0.026561636477708817, -0.04098399356007576, 0.044627197086811066, 0.037907570600509644, -0.019834207370877266, -0.018644064664840698, -0.027505269274115562, -0.008172298781573772, -0.08648666739463806, -0.03645145893096924, -0.01398315466940403, 0.034944552928209305, -0.040999215096235275, 0.026780635118484497, -0.013733010739088058, -0.031646616756916046, -0.025891529396176338, -0.03109843097627163, -0.010777613148093224, 0.02990397810935974, 0.010652643628418446, -0.022233564406633377, 0.0020613507367670536, -0.0569387711584568, 0.014854378066956997, 0.02272423543035984, 0.050737183541059494, -0.017956076189875603, 0.017081130295991898, -0.02092064917087555, -0.02365907095372677, -0.0011215490521863103, 0.02670608088374138, -0.01589941419661045, -0.013368292711675167, -0.033063873648643494, 0.003186579328030348, -0.030213583260774612, 0.033669352531433105, -0.0006786128506064415, 0.02607468143105507, -0.05654391646385193, -0.011829651892185211, -0.0515734925866127, 0.0005644243210554123, 0.02174266427755356, -0.007838793098926544, -0.007832356728613377, -0.06701214611530304, 0.004288401920348406, 0.010705712251365185, -0.06671507656574249, 0.05997875705361366, 0.07290448993444443, 0.02276647835969925, -0.0318506620824337, 0.04120110720396042, 0.019717277958989143, -0.02684871479868889, 0.03414168581366539, -0.00027577654691413045, 0.04023830220103264, -0.04692254960536957, 0.021326761692762375, 0.021316399797797203, -0.004592078737914562, 0.03861407935619354, 0.010597694665193558, -0.033052511513233185, -0.073027104139328, -0.009267309680581093, -0.033709969371557236, 0.0036321256775408983, 0.011279109865427017, 0.025294752791523933, 0.012030481360852718, 0.022345563396811485, -0.02138545736670494, -0.005889200139790773, 0.0002889025490731001, -0.008479027077555656, -0.007505290675908327, -0.013199299573898315, 0.01466108113527298, -0.00797952525317669, 0.032361436635255814, -0.03420582041144371, 0.020878031849861145, 0.02925381436944008, 0.011878713965415955, 0.001017267699353397, 0.029950330033898354, -0.01385165099054575, 0.023642923682928085, 0.020137691870331764, -0.016146184876561165, 0.0305098295211792, 0.05631118267774582, 0.04228431358933449, -0.017752492800354958, -0.01056749653071165, -0.011146457865834236, 0.012442032806575298, -0.026326725259423256, -0.026073165237903595, -0.10320650786161423, -0.027130503207445145, -0.021588439121842384, -0.001595481182448566, -0.08128495514392853, -0.0016277981922030449, 0.01693028025329113, 0.025532836094498634, 0.03471151366829872, -0.016678225249052048, -0.0008955703233368695, -0.034417539834976196, -0.028860239312052727, -0.09291009604930878, -0.03982904180884361, 0.008534340187907219, 0.014796418137848377, -0.004481572192162275, -0.022752970457077026, 0.016791868954896927, 0.01108536683022976, -0.029009221121668816, -0.047875016927719116, 0.020523924380540848, -0.06163785606622696, -0.021188972517848015, 0.04807537794113159, -0.0182654932141304, 0.0006228466518223286, -0.003655790351331234, -0.024196676909923553, 0.0032203535083681345, 0.02877800725400448, -0.004198736045509577, 0.05327758938074112, -0.02861340530216694, 0.017297564074397087, 0.02146270126104355, 0.014299429021775723, -0.001957134809345007, -0.03324894234538078, 0.037786319851875305, 0.04751491919159889, -0.0002193016989622265, -0.015481307171285152, -0.03643946722149849, -0.01609179563820362, -0.05171456187963486, 0.02613322250545025, -0.08123152703046799, 0.04604775458574295, -0.08135548233985901, 0.016824189573526382, -0.05114924535155296, -0.03906787186861038, -0.04948556795716286, 0.04126564785838127, 0.060317691415548325, -0.03058774210512638, -0.003249193774536252, -0.020490093156695366, -0.004299126099795103, -0.0751970037817955, -0.052340131253004074, 0.01617543026804924, -0.0519515760242939, 0.061336271464824677, -0.0034781054127961397, 0.03707612305879593, 0.034584663808345795, -0.01781063713133335, 0.014157024212181568, -0.030343344435095787, -0.029733216390013695, -0.061575379222631454, -0.01371040754020214, -0.0720498189330101, -0.0021318458020687103, -0.055790454149246216, -0.025966277346014977, -0.014918448403477669, -0.007682899013161659, 0.0665232464671135, 0.02148083597421646, -0.029150687158107758, 0.0394778810441494, -0.003880895674228668, -0.01017348375171423, -0.03125124052166939, 0.02535921335220337, 0.0325874388217926, 0.04244740679860115, -0.001231849193572998, -0.01947949267923832, -0.04121832549571991, -0.017246808856725693, -0.02156418189406395, 0.012351342476904392, 0.04541577771306038, -0.015376000665128231, 0.0005156616098247468, -0.022269533947110176, 0.006411231122910976, 0.00646679662168026, 0.09125382453203201, -0.06053892895579338, -0.002544339746236801, 0.06164839118719101, 0.006765064317733049, 0.008474032394587994, 0.02514006197452545, 0.06967610120773315, -0.029844196513295174, 0.016782719641923904, 0.05105230584740639, -0.03477479889988899, -0.010003159753978252, 0.01751382276415825, 0.052852828055620193, -0.05179421603679657, 0.017855720594525337, 0.01145736500620842, -0.06743117421865463, 0.0022740918211638927, 0.03871779143810272, 0.02633359655737877, -0.015046517364680767, 0.014170508831739426, -0.08673872798681259, 0.01076359860599041, -0.0033014053478837013, 0.06387543678283691, -0.030172770842909813, -0.003823093604296446, 0.030786527320742607, -0.022492200136184692, -0.060256656259298325, -0.009101392701268196, -0.020347926765680313, -0.03010590560734272, 0.0279354527592659, 0.01633196696639061, 0.052602820098400116, 0.02881067618727684, -0.007638890761882067, 0.03279457241296768, 0.01268438994884491, -0.07025215774774551, 0.0004315693804528564, -0.026749255135655403, 0.006719784811139107, 0.03341115266084671, 0.06722837686538696, -0.004016219172626734, 0.004113841336220503, 0.006125704385340214, -0.044567257165908813, -0.005743902176618576, 0.0016869218088686466, -0.0023446136619895697, -0.022544289007782936, -0.014799441210925579, 0.02676917053759098, 0.04443800821900368, 0.05684622749686241, 0.017401646822690964, -0.020462140440940857, -0.009130273014307022, 0.024638772010803223, -0.013578496873378754, -0.007813031785190105, 0.003427730640396476, -0.014900118112564087, 0.020977672189474106, -0.01551432441920042, 0.024624256417155266, -0.035864584147930145, 0.03827083855867386, -0.05153735727071762, 0.001517153694294393, 0.050436630845069885, 0.0026636982802301645, -0.00042509561171755195, -0.00017839358770288527, -0.03176559880375862, 0.007273158989846706, 0.052467599511146545, 0.010629723779857159, 0.018028371036052704, 0.01813334785401821, -0.04888599365949631, 0.027885878458619118, -0.03700168803334236, -0.0492815300822258, 0.015046377666294575, 0.03468156233429909, -0.0031824992038309574, -0.050604503601789474, -0.06193476915359497, -0.01907203532755375, 0.054952967911958694, -0.02970512956380844, 0.029298530891537666, -0.003667142242193222, -0.007233588956296444, 0.0014654062688350677, -0.031652454286813736, 0.010088486596941948, 0.017171503975987434, 0.003924415446817875, -0.021074049174785614, 0.01299747359007597, 0.01697598025202751, 0.007113927509635687, -0.07500205934047699, 0.028904655948281288, 0.07045808434486389, 0.013139463029801846, -0.03816430643200874, 0.005501785781234503, 0.0022151924204081297, -0.017637712880969048, 0.04133565351366997, 0.04508330300450325, 0.014166106469929218, 0.05010576173663139, -0.019416911527514458, -0.005247746594250202, 0.09314729273319244, 0.03312491253018379, 0.017594270408153534, 0.05168277025222778, 0.0060518099926412106, 0.04366191849112511, 0.0015228617703542113, 0.018449125811457634, -0.015782903879880905, 0.011393089778721333, -0.0035093340557068586, 0.019137095659971237, -0.041168153285980225, -0.004770549479871988, 0.040071699768304825, 0.0011485492577776313, 0.04021798074245453, 0.07352938503026962, -0.018525606021285057, -0.0742722675204277, -0.056475039571523666, 0.0249031949788332, -0.044315796345472336, 0.010206055827438831, 0.016304228454828262, 0.018321892246603966, -0.037446074187755585, -0.012052233330905437, -0.014715086668729782, 0.004811790306121111, 0.05490192025899887, -0.007976808585226536, -0.026753589510917664, -0.0162919070571661, -0.035154398530721664, -0.02842537872493267, 0.004527255892753601, -0.053020164370536804, -0.047540049999952316, -0.03386542201042175, -0.013055113144218922, -0.0043036737479269505, -0.037391383200883865, -0.0017570670461282134, 0.03092077188193798, -0.04603683203458786, 0.027130071073770523, 0.014842899516224861, -0.011192865669727325, 0.006999187637120485, -0.021015143021941185, 0.028729915618896484, 0.019627494737505913, -0.006285032723098993, -0.03593108430504799, -0.04004643112421036, 0.0022057490423321724, 0.047148317098617554, 0.028048263862729073, 0.0008329867268912494, -0.002639518119394779, -0.022797074168920517, 0.014213700778782368, -0.03058602288365364, 0.012587456032633781, -0.005144402850419283, -0.010851126164197922, 0.019984465092420578, 0.016832677647471428, -0.005106618162244558, 0.06545737385749817, 0.04148590564727783, -0.01334809698164463, -0.0388450063765049, -0.02205178141593933, 0.03750543296337128, -0.005785562098026276, 0.00010672730422811583, 0.034457214176654816, 0.0117265610024333, 0.02257620543241501, 0.03676708787679672, 0.01880856603384018, -0.017346808686852455, -0.021547989919781685, 0.035860687494277954, 0.0490010641515255, -0.027571793645620346, -0.00033085260656662285, 0.008508976548910141, -0.037091899663209915, 0.03199531137943268, 0.04169255867600441, -0.03666186332702637, 0.054058510810136795, -0.025265607982873917, -0.02727608196437359, 0.08144322037696838, -0.05972059443593025, 0.05444291979074478, -0.04017959162592888, -0.046382833272218704, 0.05877785384654999, -0.0007464657537639141, -0.024435272440314293, 0.0014872709289193153, -0.008045134134590626, 0.08358092606067657, -0.007032460533082485, 0.06094658002257347, 0.03512972965836525, -0.06102939322590828, -0.048312582075595856, 0.04283636808395386, -0.02029566280543804, 0.07074610888957977, 0.038391198962926865, 0.010207412764430046, -0.028844058513641357, -0.013819241896271706, 0.0012321494286879897, -0.04267016798257828, -0.08841046690940857, -0.035887863487005234, 0.005510458257049322, 0.023805435746908188, 0.01437351293861866, -0.030701184645295143, -0.03417305275797844, -0.050053324550390244, -0.019718147814273834, 0.0391845740377903, 0.01774412766098976, 0.009708981961011887, -0.021302828565239906, -0.016165360808372498, -0.04511883854866028, 0.016409732401371002, -0.008879534900188446, 0.02178385481238365], 's819', 'Movie', 'United States', 'June 2, 2021', '1996', 'PG-13', '127 min', 'Comedies, Dramas, Romantic Movies']\n",
      "['0021a0a3-01d4-458c-8361-f04638785925', 'One Take Manatsanun Phanlerdwongsakul BNK48 Members of Thai girl group BNK48 share the ups and downs of preparing for the 6th Single Senbatsu General Election.', [0.009910841472446918, -0.033580660820007324, -0.06356149166822433, 0.0031453247647732496, 0.08653165400028229, 0.03912864625453949, 0.012491241097450256, 0.04253815859556198, 0.038038693368434906, 0.043655380606651306, -0.0011438502697274089, 0.002298523671925068, 0.0050879535265266895, -0.012970902025699615, 0.0022818888537585735, -0.06412144005298615, -0.0002384543913649395, 0.03585624694824219, 0.01302175410091877, -0.0409221276640892, -0.03776000440120697, 0.029040073975920677, 0.012537484988570213, 0.0075730192475020885, -0.02932080253958702, 0.007431547623127699, 0.036671996116638184, -0.03433263301849365, -0.024844076484441757, 0.012899897992610931, -0.031172430142760277, 0.04905077442526817, -0.03776343911886215, 0.06118354946374893, 0.020846158266067505, -0.053422968834638596, -0.022039400413632393, -0.04431762918829918, -0.011248970404267311, 0.014000361785292625, -0.016002193093299866, -0.016996974125504494, -0.012130184099078178, -0.0271567702293396, -0.006441481877118349, -0.006412627175450325, -0.011665848083794117, -0.02999533712863922, 0.040880825370550156, -0.06842632591724396, -0.03710572049021721, -0.0011744025396183133, 0.06973014771938324, -0.028263796120882034, 0.020702533423900604, 0.023472916334867477, 0.014709949493408203, -0.0036657273303717375, -0.016654113307595253, 0.029124846681952477, -0.0011767896357923746, 0.00978383980691433, -0.012552309781312943, 0.03563813492655754, -0.06829201430082321, -0.04352596029639244, -0.024543097242712975, 0.02435474283993244, 0.09628444164991379, -0.01004199218004942, -0.020117398351430893, -0.03035695292055607, 0.08265485614538193, 0.027176951989531517, 0.00046691662282682955, -0.05766938999295235, 0.004446398466825485, 0.04600384086370468, -0.010595145635306835, -0.0028111529536545277, -0.009105588309466839, -0.05620543658733368, -0.058824218809604645, -0.0722069963812828, -0.06991345435380936, 0.01519483607262373, -0.040464743971824646, 0.00979507714509964, 0.013449100777506828, 0.015485333278775215, -0.004272643011063337, -0.0054782116785645485, 0.04616174474358559, -0.046724215149879456, 0.008215423673391342, 0.03301405906677246, -0.0050643994472920895, -0.04221867024898529, 0.0723312497138977, -0.017356498166918755, 0.02378021739423275, -0.0695515125989914, -0.0009648117120377719, 0.025848258286714554, -0.0066194236278533936, 0.022340597584843636, 0.0037450259551405907, 0.04334322363138199, -0.026193851605057716, 0.04218370094895363, -0.03735344856977463, -0.005453064106404781, 0.0028789122588932514, -0.05756831914186478, 0.0060584996826946735, -0.013746789656579494, 0.036299753934144974, 0.09801417589187622, 0.020467102527618408, 0.021088458597660065, 0.020358791574835777, -0.009187853895127773, 0.05393989384174347, -0.010981639847159386, 0.03484377637505531, 0.0015099452575668693, -0.005104771815240383, 0.02830137498676777, 0.03369373083114624, 0.030416855588555336, 0.003927739802747965, 0.01921120099723339, -0.004264899995177984, 0.016393816098570824, 0.04429687187075615, 0.022321421653032303, 0.0037335585802793503, 0.00012511893874034286, 0.0057330564595758915, -0.003285309299826622, -0.027433132752776146, 0.009500941261649132, 0.0326569601893425, 0.04272934049367905, -0.045139752328395844, 0.015611883252859116, -0.0719609186053276, -0.011484915390610695, 0.060686513781547546, -0.02177392691373825, -0.010218803770840168, 0.017229489982128143, -0.03636082634329796, -0.01116405799984932, 0.06969546526670456, 0.018689678981900215, -0.04917199909687042, 0.03269970044493675, 0.0055622500367462635, 0.034954167902469635, 0.04336051642894745, 0.005872959736734629, -0.009400120936334133, 0.05025592818856239, 0.009335828013718128, 0.04185980558395386, 0.00048536001122556627, 0.04262295365333557, 0.02622026763856411, 0.01587229035794735, -0.0014318679459393024, 0.06900522112846375, -0.0651681050658226, -0.05205971375107765, -0.027327971532940865, -0.06623196601867676, 0.031983938068151474, -0.001219157362356782, -0.06466719508171082, 0.02702588401734829, 0.0025722598657011986, 0.017146725207567215, 0.0022185335401445627, 0.0478614941239357, 0.02271057479083538, -0.0504777729511261, 0.10048928111791611, 0.00902483332902193, -0.03493025526404381, 0.016019321978092194, -0.033532604575157166, -0.01390801090747118, -0.04131762683391571, 9.446840704185888e-05, 5.150245215190807e-06, -0.007473680656403303, -0.05608469247817993, -0.010899682529270649, 0.042485639452934265, -0.05486225336790085, -0.04927903041243553, 0.051500942558050156, -0.04965423047542572, 0.005843819119036198, 0.0262131467461586, -0.006989040412008762, 0.05157271400094032, -0.06064262241125107, -0.08257269859313965, 0.05119849741458893, -0.07247179001569748, 0.02333461120724678, -0.039277467876672745, -0.017731959000229836, 0.0334709994494915, 0.04033266007900238, 0.005059447139501572, 0.045492272824048996, -0.014720532111823559, -0.020219711586833, 0.012177636846899986, -0.0022862518671900034, 0.002732971217483282, 0.010286054573953152, -0.010043998248875141, 0.014698206447064877, -0.02362818643450737, 0.043460242450237274, -0.0014713319251313806, -0.03002765215933323, 0.007363755721598864, 0.07044356316328049, 0.038157228380441666, -0.012351779267191887, 0.06299426406621933, -0.02613295055925846, 0.012633699923753738, 0.005697162821888924, 0.0028932562563568354, 0.05293751135468483, -0.0594833642244339, 0.02577468939125538, 0.024204982444643974, 0.07958509773015976, -0.026581738144159317, -0.07515405863523483, -0.02294718660414219, 0.03738657012581825, -0.01457051932811737, 0.029262302443385124, 0.013525567948818207, -0.08547985553741455, -0.025113828480243683, -0.012274760752916336, -0.01437878143042326, 0.011902207508683205, -0.05905529111623764, 0.004713759291917086, -0.06197158992290497, -0.013772678561508656, 0.0772537961602211, -0.021876350045204163, 0.012504210695624352, 0.014316074550151825, -0.00882033072412014, -0.03475721552968025, 0.0014810323482379317, -0.045833997428417206, -0.061666976660490036, -0.012673934921622276, 0.020842138677835464, -0.060218412429094315, 0.003594679292291403, 0.02154228650033474, -0.03736450895667076, -0.013354565016925335, -0.01797887124121189, 0.04361853376030922, -0.024613285437226295, 0.007486624177545309, -0.06231814622879028, -0.007084385957568884, 0.042799100279808044, -0.07161588221788406, 0.006115540862083435, -0.027136100456118584, -0.05486844480037689, -0.016508735716342926, 0.0009938095463439822, -0.04937286674976349, -0.04748242348432541, 0.01948520541191101, 0.009504368528723717, -0.013731615617871284, -0.036571815609931946, -0.016195282340049744, -0.03576954826712608, 0.029187481850385666, 0.02442995272576809, -0.029583640396595, -0.021979739889502525, -0.07933376729488373, 0.052729569375514984, -0.10781990736722946, -0.025513866916298866, 0.018393592908978462, -0.004036956466734409, -0.051013290882110596, 0.022361252456903458, -0.025982659310102463, 0.025875676423311234, -0.029827555641531944, -0.0439351424574852, -0.00040567046380601823, 0.03573045879602432, 0.031807031482458115, -0.019374260678887367, 0.05420907959342003, -0.045996975153684616, -0.005348274018615484, 0.040818676352500916, 0.06437981873750687, 0.0453052744269371, 0.0029890136793255806, -0.037198785692453384, 0.03090302273631096, -0.01898682676255703, 0.026979994028806686, -0.015611372888088226, 0.006561059504747391, 0.018366992473602295, -0.027104206383228302, -0.016938064247369766, 0.0021449625492095947, -0.019844215363264084, 0.0333993062376976, -0.0462159663438797, -0.036751437932252884, -0.0652039423584938, 0.038391102105379105, 0.05091802775859833, -0.007288786116987467, -0.027643822133541107, -0.05773104727268219, 0.03337187319993973, -0.018828392028808594, -0.055167268961668015, 0.04960308223962784, 0.07398035377264023, -0.004161607474088669, -0.02807808294892311, 0.04596130549907684, -0.018178727477788925, -0.02412441000342369, -0.0040776715613901615, 0.00920473225414753, -0.0005867027794010937, -0.02548092044889927, 0.009716096334159374, -0.06199701130390167, 0.020127488300204277, 0.02457132562994957, -0.014017918147146702, -0.03895144164562225, 0.02914850413799286, 0.051664501428604126, 0.01013109553605318, -0.04168923944234848, 0.01809745840728283, 0.035853318870067596, -0.0226863045245409, -0.012084436602890491, -0.007240995764732361, -0.03764935955405235, -0.02977154031395912, -0.030276482924818993, -0.04219973459839821, -0.00539264315739274, -0.0025485740043222904, -0.03491196036338806, 0.02965508960187435, 0.017622802406549454, 0.0789141058921814, -0.0090499771758914, -0.024099266156554222, 0.010291495360434055, 0.047266073524951935, 0.05148545652627945, 0.01588289439678192, 0.03353172913193703, -0.003288078820332885, 0.0447714626789093, 0.0625535324215889, 0.04518086090683937, 0.004815432243049145, 0.00028051718254573643, -0.006468296982347965, -0.04418248310685158, 0.06951577961444855, 0.021747253835201263, -0.02122385986149311, -0.06304410099983215, 0.00012474281538743526, -0.02674230746924877, -0.04943389445543289, 0.009447555989027023, -0.023955538868904114, -0.009648042730987072, -0.01640106923878193, 0.0036322837695479393, 0.02457728236913681, 0.06093650311231613, 0.010808815248310566, -0.038409434258937836, -0.022059956565499306, -0.01962479203939438, 0.027527352795004845, -0.016241904348134995, -0.01173351053148508, 0.022319026291370392, -0.04078652337193489, -0.05245060473680496, -0.01881292089819908, 0.013709529303014278, -0.08944094926118851, -0.019118279218673706, 0.048777833580970764, -0.0055151949636638165, 0.005981224589049816, 0.02820313535630703, 0.02162553369998932, 0.017294054850935936, -0.032010845839977264, -0.01512520294636488, -0.006140328943729401, -0.0229627788066864, 0.0026954589411616325, 0.040578443557024, 0.0008211444364860654, -0.018973004072904587, -0.01128154993057251, -0.02356092818081379, -0.0019573336467146873, -0.018253205344080925, 0.012679988518357277, -0.01883426122367382, -0.00998334027826786, -0.022611770778894424, 0.01994527131319046, -0.019340764731168747, -0.006978973746299744, -0.09573260694742203, -0.048599228262901306, -0.04189233481884003, -0.07393348217010498, 0.03614671528339386, 0.011265217326581478, 0.05353901907801628, -0.023943884298205376, -0.004176029935479164, -0.006440289784222841, -0.026905588805675507, -0.04568622633814812, -0.027904272079467773, -0.009333950467407703, -0.06962571293115616, 0.03074629046022892, 0.019321143627166748, 0.013112428598105907, -0.0054811397567391396, -0.024063432589173317, -0.0006727187428623438, -0.046758100390434265, -0.07116898149251938, 0.03002100996673107, 0.010939350351691246, -0.1004917323589325, -0.02310139685869217, -0.010779445990920067, -0.037269413471221924, 0.02620767243206501, -0.021495243534445763, 0.0329962782561779, 0.018924541771411896, 0.021183552220463753, 0.04327501356601715, -0.0025524504017084837, -0.008836165070533752, -0.01231352984905243, 0.07038331031799316, 0.013060525059700012, -0.02025127224624157, 0.04830437898635864, 0.003166947979480028, 0.021090595051646233, -0.026296943426132202, -0.05343781039118767, 0.028587888926267624, 0.03831415995955467, -0.007125815376639366, -0.02507411502301693, -0.007212292868643999, -0.025449760258197784, -0.028926076367497444, 0.03600127622485161, -0.08094974607229233, -0.013184420764446259, 0.05563332512974739, 0.0080189798027277, -0.012637767009437084, 0.0006124263745732605, 0.04843752086162567, 0.04605383798480034, -0.021667370572686195, 0.028604021295905113, 0.01701688952744007, -0.033580001443624496, 0.04628513753414154, 0.014428500086069107, 0.01885659620165825, 0.020949915051460266, 0.031448766589164734, -0.0824136808514595, -0.01845417357981205, 0.05164794251322746, 0.029950803145766258, -0.03933703526854515, -0.02803712524473667, -0.015518272295594215, 0.010584307834506035, -0.05693526566028595, 0.06498009711503983, -0.06748029589653015, -0.05064200237393379, 0.03917441889643669, -0.019831473007798195, 0.04555560648441315, -0.03719776123762131, 0.015585287474095821, -0.040856022387742996, -0.014910015277564526, -0.022899532690644264, 0.0651937946677208, 0.06520817428827286, -0.009007314220070839, 0.03297056257724762, 0.0052030738443136215, -0.09781985729932785, 0.0036992765963077545, -0.011466880328953266, -0.05168474465608597, 0.07352898269891739, 0.008795208297669888, 0.0020857155323028564, 0.04060371592640877, -0.04055788367986679, -0.0036150868982076645, -0.017317678779363632, 0.05887354165315628, 0.031831372529268265, -0.03227214515209198, -0.043370284140110016, 0.023051463067531586, -0.011425279080867767, 0.06043355166912079, 0.0009599569020792842, -0.009219422936439514, -0.017695752903819084, 0.08012533187866211, -0.04170908033847809, -0.011796223931014538, 0.050151582807302475, 0.05619128793478012, -0.0292963869869709, 0.05416847765445709, 0.018120052292943, -0.07505439966917038, 0.0009035705006681383, -0.010444684885442257, -0.0009913368849083781, 0.002372278831899166, -0.0099601736292243, -0.012513206340372562, 0.06731744110584259, 0.012361210770905018, -0.010424482636153698, 0.0028301167767494917, 0.020174430683255196, 0.020765921100974083, 0.047445330768823624, -0.031659964472055435, 0.023279422894120216, -0.04430551826953888, 0.024359118193387985, -0.0056472644209861755, 0.03499586507678032, -0.0034723342396318913, 0.002678742865100503, -0.014771919697523117, -0.02641909196972847, 0.04289346560835838, -0.04362141340970993, 0.028421498835086823, -0.017788272351026535, 0.00721668591722846, -0.011788555420935154, 0.012652277946472168, -0.00019745981262531132, -0.013810073025524616, 0.033318378031253815, -0.017262481153011322, -0.020154522731900215, 0.00494432495906949, 0.01669355109333992, -0.018122417852282524, -0.0035158302634954453, 0.030237756669521332, 0.02197897620499134, -0.05788735672831535, -0.0457768477499485, 0.015985846519470215, 0.0013485936215147376, -0.018005911260843277, 0.0003368495963513851, -0.012886298820376396, 0.010751730762422085, 0.0017339818878099322, -0.03717401996254921, 0.032599374651908875, 0.008449635468423367, 0.017798027023673058, 0.04995439201593399, -0.0348869264125824, 0.00414711469784379, -0.024411959573626518, -0.04211841896176338, -0.015510419383645058, -0.007391796447336674, 0.007721490226686001, -0.013955504633486271, -0.11446808278560638, 0.004861410241574049, 0.008979972451925278, 0.03507564589381218, 0.006922695320099592, 0.10218257457017899, 0.0002941370476037264, -0.0591491237282753, -0.10160013288259506, 0.012949218973517418, -0.009041594341397285, 0.022222934290766716, -0.005327350925654173, -0.026593687012791634, 0.009400289505720139, 0.020143525674939156, -0.03007127158343792, -0.047529201954603195, 0.005195155739784241, -0.06098238378763199, -0.011077912524342537, -0.019127458333969116, 0.01391642540693283, 0.00941469706594944, 0.04273352399468422, -0.03483480215072632, -0.08453068137168884, -0.10466460883617401, -0.020227963104844093, 0.04424377158284187, -0.03346105292439461, 0.02773997187614441, 0.011140535585582256, -0.0022847014479339123, 0.019620776176452637, 0.018876556307077408, -0.016879912465810776, 0.013187875039875507, 0.009846486151218414, 0.037959326058626175, -0.03052225150167942, -0.017186108976602554, -0.0229196660220623, 0.03712351620197296, 0.011616529896855354, 0.04056023433804512, 0.040087226778268814, -0.004333792254328728, -0.022192457690835, 0.008556567132472992, 0.031160494312644005, -0.02533229999244213, 0.012380538508296013, 0.05038925260305405, 0.0065840776078403, 0.03531819209456444, 0.037985287606716156, 0.02713535539805889, 0.043619345873594284, 0.015293573029339314, -0.046535756438970566, -0.04436507448554039, 0.02491096407175064, 0.05037691816687584, 0.010268651880323887, -0.0014711859403178096, -0.0005785748944617808, 0.012056855484843254, 0.04013390094041824, 0.02174525149166584, 0.07326429337263107, -0.04420056939125061, 0.0037826704792678356, 0.055735860019922256, 0.0355251170694828, -0.04067164286971092, -0.017659174278378487, 0.03729039058089256, -0.04699133336544037, 0.06106764078140259, -0.005606106948107481, 0.022518720477819443, 0.027671879157423973, -0.004753799177706242, -0.039438437670469284, 0.01549688819795847, -0.03490721806883812, 0.024858687072992325, -0.03354942426085472, -0.0012131091207265854, 0.07662314176559448, -0.004544140305370092, -0.0006502254982478917, -0.025530176237225533, -0.01114640198647976, 0.10735253244638443, 0.012422281317412853, 0.012607800774276257, 0.043367091566324234, -0.08055040240287781, -0.03912031278014183, 0.025217780843377113, -0.011692965403199196, 0.06411802023649216, 0.017790133133530617, -0.04982011392712593, -0.023348765447735786, -0.034711699932813644, 0.004662357270717621, -0.045144449919462204, -0.05964060127735138, -0.009514445438981056, -0.0069222464226186275, 0.008854254148900509, 0.036494169384241104, -0.027884341776371002, 0.043523505330085754, -0.03338313102722168, -0.0075823524966835976, -0.002208521356806159, -0.03584645688533783, -0.02730199322104454, 0.038535334169864655, 0.017594756558537483, -0.01379114668816328, 0.01539149321615696, -0.004208719823509455, -0.0009674092289060354], 's2373', 'Movie', 'Thailand', 'June 18, 2020', '2020', 'TV-G', '86 min', 'Documentaries, International Movies, Music & Musicals']\n",
      "['00304890-5056-428e-b384-b88da87cfd3d', \"Strange Weather Katherine Dieckmann Holly Hunter, Carrie Coon, Kim Coates, Shane Jacobsen, Andrene Ward-Hammond, Allene Quincy, Glenne Headly A grieving mother takes a road trip with her friend to confront the man who, she believes, stole her late son's business idea to get rich.\", [0.022988613694906235, -0.013059833087027073, -0.07796747237443924, -0.02107078582048416, 0.009757183492183685, 0.038088325411081314, 0.011391611769795418, 0.05111069232225418, 0.06684452295303345, 0.008935768157243729, -0.006319865584373474, 0.018414795398712158, 0.011305335909128189, 0.0015374418580904603, 0.010656299069523811, 0.01076418999582529, -0.009884326718747616, 0.03199085593223572, 0.025291621685028076, -0.08535314351320267, 0.034570056945085526, 0.01897094026207924, -0.01075015775859356, -0.010764173232018948, 0.008330159820616245, -0.028995757922530174, 0.03397384285926819, -0.04682013764977455, -0.007918407209217548, 0.00708742206916213, -0.05301579087972641, 0.013560036197304726, -0.05362140014767647, 0.03540480136871338, -0.008099842816591263, -0.05884015932679176, -0.01944439671933651, -0.01229094434529543, -0.011530959978699684, 0.01883821375668049, 0.004468716215342283, -0.03530288487672806, -0.037181101739406586, 0.007829561829566956, -0.01013045385479927, -0.01574491523206234, 0.006513960659503937, 0.0017034139018505812, -0.011100009083747864, -0.05428492650389671, 0.05211280286312103, 0.005642822477966547, 0.0637740045785904, -0.05085821449756622, 0.01167967263609171, -0.007370923645794392, 0.021333565935492516, 0.01675955019891262, 0.01651872508227825, -0.00016117069753818214, 0.0026759798638522625, 0.008258195593953133, -0.057743024080991745, 0.005673359148204327, -0.024098720401525497, -0.006118289660662413, -0.03160244971513748, 0.01565694808959961, 0.0431036576628685, -0.0033375693019479513, 0.01426701433956623, -0.03252945467829704, 0.09505782276391983, 0.018916575238108635, -0.01635865680873394, -0.11905225366353989, -0.024457091465592384, 0.0395980104804039, -0.020657973363995552, 0.009733068756759167, -0.008532821200788021, -0.0837433785200119, -0.07600308954715729, -0.025290492922067642, -0.048469845205545425, -0.0072762733325362206, -0.05967341735959053, 0.028575729578733444, 0.03023068793118, -0.010249054990708828, -0.032479654997587204, 0.05530940741300583, 0.06275894492864609, -0.059008024632930756, -0.061359334737062454, 0.0674433782696724, -0.07558909803628922, -0.06465090066194534, 0.06922291219234467, -0.03077726997435093, 0.008892190642654896, -0.02501266449689865, -0.03245019540190697, 0.022370418533682823, -0.00048384451656602323, 0.08479856699705124, -0.0028755338862538338, 0.03991389647126198, -0.009620249271392822, -0.013097057119011879, -0.05568341165781021, -0.016243847087025642, 0.048384275287389755, -0.04704122245311737, -0.002254605758935213, 0.005841426085680723, -0.013319321908056736, 0.053049683570861816, 0.04713389649987221, 0.04206500202417374, 0.0006645990069955587, -0.001625368371605873, 0.07749563455581665, -0.00960906594991684, 0.050587162375450134, -0.018433673307299614, -0.03813041001558304, 0.03001062385737896, 0.0244867242872715, 0.021076412871479988, 0.007107761688530445, -0.003351756604388356, -0.021897152066230774, -0.017350630834698677, 0.020506607368588448, 0.039617884904146194, 0.05664419010281563, -0.012639319524168968, 0.0016286869067698717, -0.012154368683695793, 0.005718119442462921, 0.0021464626770466566, 0.005627682898193598, 0.022404875606298447, 0.005553922150284052, 0.057409901171922684, -0.048330023884773254, -0.038615498691797256, 0.09029535204172134, 0.0007654456421732903, 0.02679521031677723, -0.013311893679201603, -0.06760108470916748, -0.03978332504630089, 0.030374852940440178, 0.03981321305036545, -0.018687402829527855, 0.01795702986419201, -0.0118031557649374, 0.008759679272770882, 0.04110651835799217, 0.013695551082491875, 0.023944593966007233, 0.07202226668596268, 0.01340786088258028, 0.0030840353574603796, 0.045323267579078674, -0.010521750897169113, 0.014506998471915722, -0.0027663412038236856, 0.009133941493928432, 0.03844510391354561, -0.020617952570319176, 0.021651504561305046, -0.002061234787106514, -0.06306977570056915, 0.03306424990296364, 0.043364670127630234, -0.060282912105321884, -0.05851100757718086, -0.016056187450885773, -0.004011333920061588, -0.00010508331615710631, 0.03433731198310852, 0.004290686454623938, -0.01739780604839325, 0.014370798133313656, -0.032404735684394836, 0.004337867721915245, -0.0026460604276508093, -0.03159850463271141, -0.020136089995503426, -0.014449749141931534, -0.07213643193244934, 0.007985586300492287, 0.042273085564374924, -0.008010737597942352, -0.026127131655812263, 0.03492873162031174, -0.057230234146118164, -0.01831437461078167, 0.08356393128633499, 0.019560866057872772, 0.008483299054205418, 0.028484027832746506, -0.026124436408281326, 0.04687660560011864, 0.02762846276164055, -0.019316501915454865, 0.02217080444097519, -0.05692271515727043, -0.009078886359930038, -0.036362022161483765, -0.004181908909231424, 0.05252869427204132, 0.006876262370496988, 0.021632961928844452, 0.010605251416563988, 0.004459994845092297, -0.06585640460252762, 0.0029271855019032955, 0.017357897013425827, -0.03963955491781235, -0.01574760302901268, -0.03300749510526657, 0.0350993275642395, -0.0456232987344265, 0.054040245711803436, 0.009627439081668854, -0.03471638262271881, 0.034998323768377304, 0.07669287174940109, 0.0389145165681839, -0.04262036085128784, 0.10289124399423599, -0.014647961594164371, 0.009601783007383347, 0.027378646656870842, 0.0018778446828946471, 0.01598600670695305, -0.013037721626460552, 0.0021268362179398537, 0.014822406694293022, 0.0028458337765187025, -0.026394803076982498, 0.011258703656494617, 0.008649056777358055, 0.0635455772280693, 0.007884292863309383, 0.024237480014562607, 0.04192188009619713, -0.0437023900449276, -0.04022711515426636, -0.037585675716400146, -0.08689653128385544, 0.07101618498563766, -0.0605231411755085, -0.00347501109354198, -0.04448329657316208, -0.028324425220489502, 0.08031754940748215, -0.03779806196689606, 0.0006975987926125526, 0.01533544808626175, 0.0024610087275505066, 0.02396712638437748, 0.030254550278186798, -0.06505610048770905, -0.042922962456941605, 0.015031244605779648, -0.026491666212677956, 0.0015743011608719826, 0.008980879560112953, 0.019464770331978798, 0.05047640576958656, 0.027099724858999252, -0.02219018153846264, -0.017263099551200867, 0.03688167408108711, 0.0037938526365906, 0.014101799577474594, 0.03315982222557068, 0.0008478584932163358, 0.00541670573875308, 0.0013593458570539951, 0.005775571335107088, -0.045512016862630844, -0.02831423468887806, 0.004841038957238197, -0.010263926349580288, -0.017467616125941277, -0.1086614727973938, 0.030251502990722656, -0.02764205075800419, -0.056124404072761536, 0.00026039406657218933, -0.033742696046829224, 0.05935138463973999, 0.029720420017838478, -0.022952601313591003, -0.017024599015712738, -0.0680871531367302, 0.030522778630256653, -0.10286813229322433, 0.0009174869046546519, -0.0049892207607626915, -0.015175797045230865, 0.026376908645033836, 0.022978397086262703, 0.013867865316569805, 0.01778532564640045, -0.04187469929456711, -0.016711873933672905, -0.01382903940975666, -0.0025234550703316927, -0.013045216910541058, -0.04720386490225792, 0.06226478889584541, -0.05088239535689354, 0.016152197495102882, 0.03719203546643257, 0.04090204834938049, 0.05954886972904205, 0.0015148025704547763, 0.00732966186478734, 0.04090813547372818, -0.043811000883579254, 0.012836843729019165, -0.0005730472621507943, 0.024926314130425453, -0.043556030839681625, -0.04009748250246048, -0.028994295746088028, -0.0035639596171677113, -0.023739682510495186, 0.0250479057431221, -0.06415312737226486, -0.00045866589061915874, -0.07641705125570297, 0.016924548894166946, 0.004163787234574556, -0.009059158153831959, -0.023119155317544937, -0.08509542047977448, -0.013543113134801388, -0.0100623220205307, -0.020590299740433693, 0.043161772191524506, 0.07789783179759979, 0.05550700053572655, -0.05273551493883133, 0.09370613843202591, -0.041828081011772156, 0.004406888969242573, 0.014353162609040737, -0.03481960669159889, 0.003231781767681241, 0.011441798880696297, 0.021479349583387375, 0.005977535154670477, -0.03595852851867676, 0.03447612375020981, 0.00013171980390325189, 0.0006061047897674143, -0.04104306176304817, 0.027623500674962997, -0.023309139534831047, 0.021423591300845146, 0.010052469559013844, 0.029191330075263977, -0.009813104756176472, 0.0299025047570467, 0.002678442979231477, -0.01643311232328415, -0.035644177347421646, 0.017012756317853928, -0.03689000383019447, -0.03245849534869194, 0.03407743200659752, 0.037554483860731125, -0.010003823786973953, 0.013220440596342087, 0.03460182249546051, 0.040728554129600525, 0.008203120902180672, -0.001105595612898469, 0.044477447867393494, 0.026058867573738098, 0.016464190557599068, 0.06793420761823654, -0.022896993905305862, 0.06029628962278366, 0.06697575747966766, 8.744807564653456e-05, -0.00549951521679759, -0.007868223823606968, 0.00512324133887887, -0.007678688503801823, 0.019470322877168655, -0.026105329394340515, -0.0440925769507885, -0.03613515943288803, -0.07153310626745224, -0.02366728149354458, -0.0201340913772583, 0.013904954306781292, -0.021837133914232254, 0.016574542969465256, -0.017801521345973015, -0.016996687278151512, 0.055980660021305084, 0.002586069982498884, 0.008530933409929276, -0.09533817321062088, -0.015817048028111458, 0.007740542758256197, 0.028590811416506767, -0.021074261516332626, -0.014488274231553078, 0.006031101103872061, 0.04219186305999756, -0.0034564142115414143, -0.008803009055554867, 0.03856832534074783, -0.06362766772508621, -0.00893893651664257, 0.049096137285232544, 0.001299411989748478, 0.014721585437655449, -0.0018697939813137054, 0.017507147043943405, 0.03330208733677864, 0.014663605019450188, -0.002151930471882224, -0.0054898387752473354, -0.08590015023946762, 0.008090799674391747, 0.03321714699268341, -0.004119537305086851, 0.014366199262440205, 0.0198570154607296, -0.0025525714736431837, 0.0306386761367321, -0.00944414734840393, -0.03173828125, -0.002129112370312214, -0.006971283815801144, -0.047401513904333115, -0.018408717587590218, -0.040654346346855164, -0.0036219684407114983, -0.067776620388031, -0.01850016415119171, -0.06582964956760406, -0.02861468680202961, -0.03688560053706169, -0.0077249230816960335, 0.05627436935901642, -0.010171403177082539, 0.034949250519275665, 0.005717054475098848, -0.02038964256644249, -0.018771907314658165, -0.03587348759174347, -0.0007983528776094317, -0.007122773211449385, 0.020698871463537216, -0.04292891174554825, 0.004008701536804438, 0.0023142793215811253, -0.004830679390579462, 0.024822773411870003, -0.009852051734924316, -0.026803409680724144, -0.005283899139612913, -0.015286252833902836, -0.0484764501452446, -0.0009523442713543773, 0.021570462733507156, -0.04284164309501648, -0.02489466778934002, 0.02602914348244667, 0.06319208443164825, 0.017416009679436684, -0.002245162148028612, 0.003438297426328063, 0.02701958455145359, -0.01957503706216812, -0.004950591363012791, 0.0068024927750229836, -0.030692273750901222, -0.007674665190279484, -0.049089252948760986, -0.04393214359879494, -0.047127243131399155, 0.004820562433451414, 0.011002324521541595, 0.06842609494924545, 0.008122717030346394, 0.01785481721162796, 0.023300474509596825, -0.04119975119829178, 0.019761640578508377, 0.007743938826024532, 0.05120525509119034, -0.08262864500284195, 0.007521870080381632, 0.025543419644236565, 0.019904039800167084, -0.00923608522862196, 0.03649762645363808, 0.06230952590703964, -0.026568714529275894, 0.0019789745565503836, 0.031478676944971085, -0.04925088956952095, -0.0008900407701730728, 0.04343636333942413, 0.025483395904302597, 0.012485136277973652, -0.004814631771296263, 0.04346941411495209, -0.10741855949163437, -0.017099205404520035, 0.010035010986030102, -0.01939348317682743, -0.023682065308094025, 0.018668917939066887, -0.09058678895235062, 0.021099291741847992, 0.011817852966487408, 0.05371120944619179, -0.01939699798822403, 0.00783021841198206, 0.011667896993458271, 0.00341373891569674, 0.012599922716617584, -0.0168139785528183, -0.018997905775904655, 0.003733233315870166, 0.007324572652578354, -0.013421870768070221, 0.008411703631281853, 0.05702953040599823, -0.039058517664670944, 0.007543696090579033, 0.017563071101903915, -0.04733649268746376, 0.022912481799721718, -0.016560668125748634, -0.05122505500912666, 0.03819337859749794, 0.07882870733737946, -0.013222121633589268, 0.006411413662135601, -0.0009507834911346436, 0.008787494152784348, -0.034946613013744354, 0.02797834575176239, -0.009601465426385403, -0.013082586228847504, 0.009282111190259457, -0.01688951812684536, 0.0018307865830138326, 0.06321676820516586, 0.041653554886579514, -0.03840389475226402, -0.027200847864151, 0.053026314824819565, 0.031422652304172516, -0.04621843621134758, -0.030641457065939903, -0.006515904329717159, -0.03631335124373436, -0.0030873697251081467, -0.023484008386731148, -0.05893367901444435, -0.0023075835779309273, -0.000921148166526109, 0.008926618844270706, 0.048983000218868256, -0.03097711317241192, 0.0565938837826252, -0.027444230392575264, -0.05517423152923584, 0.04030986130237579, 0.061125192791223526, 0.03184953331947327, 0.03847150132060051, 0.03890707343816757, -0.0508868508040905, 0.008265689015388489, -0.0397670641541481, 0.010268277488648891, 0.029731204733252525, 0.045908983796834946, 0.024568570777773857, -0.061036016792058945, -0.0015010035131126642, -0.07426410913467407, 0.01738560013473034, -0.07031022012233734, 0.08064857125282288, -0.044418398290872574, 0.04627770557999611, 0.03115987963974476, -0.030806785449385643, -0.012407277710735798, -0.02075253427028656, 0.05304820463061333, -0.008074963465332985, -0.008202002383768559, 0.014504837803542614, -0.024222254753112793, -0.018247343599796295, -0.007627351675182581, 0.10154197365045547, 0.061130207031965256, -0.026233064010739326, -0.05938791111111641, -0.004342943895608187, -0.0038744055200368166, 0.06549263745546341, -0.010439480654895306, 0.02174307405948639, -0.026017699390649796, -0.003643565345555544, -0.010538247413933277, 0.02378026954829693, 0.03392834961414337, 0.035332802683115005, 0.02818213775753975, 0.027171969413757324, 0.02696957066655159, -0.01571827568113804, 0.010301039554178715, -0.027692943811416626, 0.019783256575465202, -0.006082793232053518, -0.022932792082428932, -0.10542970150709152, -0.02739543467760086, 0.00483614532276988, 0.004097832832485437, -0.038192007690668106, 0.038946960121393204, 0.03736422583460808, -0.08438566327095032, -0.0501144677400589, 0.038408055901527405, -0.016681404784321785, 0.021112492308020592, 0.009009920991957188, -0.036699552088975906, 0.009276846423745155, -0.013619503006339073, -0.0038592047058045864, -0.009168832562863827, 0.06127851828932762, 0.006017536390572786, -0.04965060576796532, 0.017944734543561935, -0.021162189543247223, -0.01724347472190857, -0.03616093099117279, -0.03380638360977173, -0.03791404142975807, -0.059908412396907806, -0.027154920622706413, 0.009801482781767845, -0.03190051391720772, 0.025046175345778465, -0.02497107908129692, 0.001226872205734253, 0.08974017202854156, 0.02916509099304676, -0.01658272184431553, 0.024478258565068245, 0.004777244757860899, 0.05201282352209091, 0.024361297488212585, 0.003990773111581802, -0.027316076681017876, 0.02304394170641899, -0.00833280012011528, 0.04641042277216911, 0.028130413964390755, 0.04674462229013443, -0.04348760098218918, -0.022483663633465767, 0.02538367547094822, -0.025516487658023834, 0.06410793960094452, -0.04099002480506897, 0.04278656840324402, 0.038144707679748535, -0.047736987471580505, -0.0208261851221323, 0.021150482818484306, 0.06785489618778229, -0.04686184972524643, -0.029332155361771584, -0.012832755222916603, 0.01596309430897236, 0.04886089265346527, 0.024469546973705292, -0.003948667086660862, -0.012885106727480888, 0.07399800419807434, 0.05752754583954811, 0.028590677306056023, -0.020884374156594276, 0.0003836761461570859, 0.03152250871062279, 0.030395902693271637, -0.018494216725230217, 0.036393903195858, 0.033729203045368195, -0.0429367758333683, 0.006032525561749935, 0.027419710531830788, 0.00243575731292367, 0.047310661524534225, 0.01976754330098629, -0.004462741315364838, 0.07017336785793304, -0.02045990154147148, -0.0018039431888610125, -9.301201498601586e-05, -0.03727487847208977, 0.047801680862903595, -0.023079290986061096, -0.036423929035663605, 0.0054906634613871574, -0.025477202609181404, 0.07471034675836563, 0.03115006536245346, 0.019703811034560204, -0.012828893028199673, -0.04177289083600044, -0.06080147996544838, 0.014700115658342838, -0.012286446988582611, 0.05911822244524956, 0.07701164484024048, -0.013303092680871487, -0.0020073254127055407, -0.002372277667745948, -0.0022079842165112495, -0.04413839802145958, -0.07145797461271286, -0.030887708067893982, -0.002708644839003682, 0.08494678884744644, 0.019277483224868774, -0.0615486279129982, 0.010459271259605885, -0.00789671391248703, -0.008034386672079563, 0.00824674405157566, -0.056082047522068024, -0.018227968364953995, 0.02937301993370056, -0.0012268377467989922, -0.025896504521369934, -0.06510483473539352, -0.03119213879108429, -0.04599405452609062], 's5203', 'Movie', 'United States', 'October 26, 2017', '2016', 'R', '91 min', 'Dramas, Independent Movies']\n",
      "['00320e01-88ef-4388-b9c5-eabb571afd0a', 'Barah Aana Raja Menon Naseeruddin Shah, Arjun Mathur, Vijay Raaz, Tannishtha Chatterjee, Violante Placido, Benjamin Gilani After futile attempts to better their lives with honest work, three broke friends opt for a more dubious means of making money: kidnapping for ransom.', [0.0545605793595314, -0.05405715852975845, -0.09026079624891281, 0.007405358366668224, 0.053108010441064835, 0.015318072400987148, -0.011775659397244453, 0.038845255970954895, 0.02815544232726097, 0.038092222064733505, 0.010246244259178638, 0.020678790286183357, -0.03546778857707977, -0.008518954738974571, -0.030092833563685417, 0.007004736922681332, -0.009303637780249119, -0.003377720480784774, 0.003517724573612213, -0.012032995000481606, 0.004265091847628355, 0.041196390986442566, 0.042356353253126144, -0.0032254119869321585, 0.007948712445795536, 0.038584303110837936, 0.04351651296019554, -0.0261043943464756, -0.0073826066218316555, -0.0034852211829274893, -0.008024812676012516, 0.0005372281884774566, -0.03930007293820381, 0.03086433932185173, 0.032254334539175034, -0.09716662764549255, -0.042438946664333344, -0.028957877308130264, -0.014100677333772182, -0.009525864385068417, 0.019447047263383865, -0.03003877028822899, -0.012248210608959198, -0.003092315746471286, -0.011933906003832817, 0.004621612373739481, -0.029035311192274094, -0.038578350096940994, 0.03277506306767464, -0.05304272100329399, -0.016442663967609406, 0.010350368916988373, 0.054669156670570374, -0.0012261823285371065, -0.01734975352883339, -0.04997365549206734, 0.016537554562091827, 0.0032744102645665407, -0.07332778722047806, -0.016515839844942093, -0.0032075808849185705, -0.014060995541512966, 0.0011158027919009328, 0.03422246128320694, -0.022967632859945297, -0.05067960172891617, 0.02279198355972767, 0.0038473927415907383, 0.09746226668357849, 0.06551970541477203, -0.02367272414267063, -0.0220700204372406, 0.11666674166917801, 0.007996681146323681, -0.05333361402153969, -0.13204222917556763, 0.02010074257850647, 0.023761842399835587, -0.001775967190042138, 0.01470966450870037, 0.018953649327158928, -0.07756366580724716, -0.041749902069568634, -0.030594367533922195, -0.05916612967848778, 0.011342722922563553, -0.04439621418714523, 0.03445954993367195, 0.03461442142724991, 0.028586577624082565, 0.01597386598587036, 0.03520187363028526, 0.022741297259926796, -0.06459344923496246, 0.021242527291178703, 0.06391534954309464, -0.02245762199163437, -0.0493776872754097, 0.059246815741062164, -0.016116976737976074, 0.006192639470100403, -0.010398834012448788, -0.07311356067657471, 0.02918434888124466, -0.030793147161602974, 0.02963351272046566, 0.03874615207314491, 0.01847272738814354, 0.03347247093915939, 0.0047979457303881645, -0.02826390042901039, -0.017238162457942963, 0.029573660343885422, -0.0022370691876858473, 0.006153543014079332, -0.01967478357255459, 0.06324563175439835, 0.05146323889493942, 0.022185079753398895, 0.023074442520737648, 0.05395648255944252, 0.011311301030218601, 0.06707051396369934, -0.015912363305687904, 0.011353716254234314, -0.03503682464361191, -0.019755568355321884, 0.04341023415327072, 0.014373338781297207, 0.004287288524210453, -0.015184265561401844, -0.03327231481671333, 0.009551133029162884, -0.002738385461270809, 0.04981263726949692, 0.047084495425224304, 0.03960241377353668, 0.0022581052035093307, 0.004935800563544035, 0.0020086346194148064, -0.011491335928440094, 0.015047168359160423, 0.0028181911911815405, 0.004067990928888321, -0.004795457702130079, 0.06576362252235413, -0.05099499598145485, -0.030424313619732857, 0.061806026846170425, -0.02199253812432289, 0.03160871937870979, -0.011303290724754333, -0.03913910314440727, -0.028416218236088753, 0.07127399742603302, -0.0022122180089354515, -0.002560380380600691, 0.024898463860154152, -0.02077472396194935, -0.009443541057407856, 0.038573190569877625, 0.06348945945501328, 0.023070385679602623, 0.030264467000961304, 0.004306507296860218, 0.005520878359675407, -0.00579878268763423, 0.03999437764286995, 0.0393265001475811, 0.04735829308629036, -0.009494447149336338, -0.008885802701115608, -0.0508679561316967, 0.009177525527775288, 0.0019875753205269575, -0.0809033215045929, 0.053479090332984924, -0.0053514111787080765, -0.04870191961526871, -0.033880822360515594, 0.01683926023542881, -0.01949215494096279, 0.05730660632252693, 0.03685186058282852, 0.025355501100420952, -0.03285670280456543, 0.07395855337381363, -0.03845452517271042, -0.020393282175064087, 0.059655364602804184, -0.03981243446469307, -0.018417393788695335, -0.011733666993677616, -0.04596671834588051, -0.05776907131075859, 0.03495329990983009, -0.01751360483467579, 0.025696689262986183, -0.007468040566891432, -0.01923319324851036, -0.04023478925228119, 0.022086922079324722, 0.02401774935424328, 0.024895207956433296, 0.038890328258275986, -0.027596233412623405, 0.014659963548183441, 0.034242309629917145, -0.04231874644756317, 0.014751610346138477, -0.07050465047359467, -0.03301703557372093, -0.07029962539672852, 0.03085056133568287, 0.041855137795209885, -0.06505215167999268, 0.011807892471551895, 0.013004339300096035, 0.04463401436805725, -0.04878721013665199, 0.02852683886885643, 0.00946124829351902, -0.035959888249635696, 0.012391217984259129, -0.004383285064250231, 0.004568754695355892, 0.005596660543233156, 0.038570281118154526, 0.02263268269598484, -0.015856638550758362, 0.010500706732273102, 0.042528461664915085, 0.03785743936896324, 0.0001473307638661936, 0.08047343790531158, -0.014276869595050812, 0.019062533974647522, 0.020029334351420403, 0.060057949274778366, 0.04279720038175583, -0.021345442160964012, 0.0037149519193917513, -0.01025377493351698, 0.0382840521633625, -0.02154366299510002, -0.026145074516534805, -0.03703976050019264, 0.040709204971790314, 0.01459178514778614, 0.024307699874043465, -0.012693850323557854, -0.05336816981434822, -0.023808933794498444, -0.006900982931256294, -0.052519384771585464, 0.03835584223270416, -0.014412570744752884, 0.009749292396008968, -0.049298882484436035, 0.05201020464301109, 0.081566721200943, -0.01577458158135414, -0.012438655830919743, -0.013137760572135448, -0.017276013270020485, 0.0040480513125658035, 0.034529563039541245, -0.047446973621845245, -0.0024205134250223637, 0.017721043899655342, -0.0059211826883256435, -0.062265995889902115, 0.017155079171061516, 0.007636195048689842, -0.0272379107773304, -0.0006429792265407741, -0.061837565153837204, 0.011839429847896099, 0.014658745378255844, 0.007828359492123127, 0.013804011978209019, -0.019147563725709915, -0.02739945612847805, -0.06446635723114014, 0.0428544357419014, 0.00885528139770031, -0.07102210819721222, -0.0036008586175739765, -0.009244921617209911, -0.06162664294242859, -0.03478433936834335, -0.08139612525701523, -0.009217279963195324, -0.03672470897436142, -0.07009011507034302, 0.0023263252805918455, 0.0020968408789485693, 0.028804153203964233, -0.004599772393703461, -0.025929506868124008, -0.0050883847288787365, -0.04683637246489525, 0.006241300608962774, -0.07255695760250092, -0.013506175018846989, 0.006965978071093559, -0.005989225581288338, -0.036544319242239, 0.04323376342654228, -0.007524796761572361, 0.005159019026905298, -0.022733591496944427, -0.04122191667556763, -0.00489024305716157, 0.0422605462372303, -0.0037740408442914486, -0.04690002650022507, 0.0651053860783577, -0.026571327820420265, 0.009052940644323826, 0.013410313986241817, 0.05147641897201538, 0.03125878423452377, 0.03263222053647041, -0.0320826917886734, 0.04190724343061447, -0.06212164834141731, 0.0550910159945488, 0.0032606807071715593, -0.005581262521445751, -0.042928848415613174, -0.019257351756095886, -0.03337662294507027, -0.030105838552117348, 0.015932772308588028, 0.001485019805841148, -0.07218921184539795, 0.0193366389721632, -0.05068391561508179, 0.010259960778057575, 0.019261589273810387, 0.016419634222984314, -0.03506596386432648, -0.08404049277305603, -0.04945588484406471, -0.007721093017607927, -0.0302591435611248, 0.017942680045962334, 0.10875914990901947, 0.01260301098227501, 0.037886328995227814, 0.06529764086008072, 0.00497593404725194, -0.017067940905690193, 0.01580268330872059, -0.04092123731970787, 0.035144101828336716, -0.0382046215236187, -0.009750510565936565, 0.025217758491635323, 0.008221411146223545, 0.010740074329078197, 0.019433658570051193, -0.01326026488095522, 0.010385791771113873, 0.019809726625680923, -0.06608033180236816, 0.028603453189134598, -0.012357284314930439, 0.04236815124750137, -0.010335827246308327, 0.02465778775513172, 0.01295495592057705, 0.0060379719361662865, 0.00015680988144595176, -0.016159486025571823, -0.005680471658706665, -0.008238416165113449, 0.02664288319647312, 0.004905511625111103, -0.031265877187252045, -0.015116289258003235, 0.04684220626950264, 0.022306326776742935, -0.01210692711174488, -0.00933211762458086, 0.04561566933989525, 0.056993842124938965, -0.0005222077597863972, 0.04055102914571762, 0.012752693146467209, 0.04809395596385002, 0.051185812801122665, 0.06847310811281204, -0.030774883925914764, -0.06611230224370956, 0.02412208542227745, -0.011748082935810089, -0.00630046334117651, -0.021114269271492958, -0.08256275206804276, -0.01350030954927206, -0.01817990653216839, -0.027340536937117577, -0.06127462536096573, 0.0007257224060595036, -0.026732033118605614, 0.046361323446035385, -0.009363456629216671, 0.002215201500803232, -0.015438126400113106, 0.046684686094522476, -0.00021851314522791654, -0.08362369984388351, -0.05269618704915047, 0.02719285897910595, 0.05367404595017433, -0.04558180645108223, 0.010966554284095764, -0.005715655162930489, -0.033094897866249084, -0.00461903540417552, -0.05654868111014366, 0.051479894667863846, -0.0802462249994278, -0.031119242310523987, 0.02393796294927597, 0.01680862531065941, 0.017115190625190735, -0.00011580908903852105, -0.009796972386538982, 0.023218266665935516, 0.027056638151407242, 0.019667526707053185, -0.016463590785861015, -0.02988533303141594, 0.028193330392241478, 0.017846273258328438, 0.02076398953795433, -0.005468887276947498, 0.0030084128957241774, 0.010517341084778309, 0.017392687499523163, -0.01875404454767704, 0.0069166203029453754, -0.01788690872490406, -0.010478257201611996, -0.019294530153274536, -0.012764501385390759, -0.01055484265089035, 0.012116375379264355, -0.06253159791231155, -0.05165785551071167, -0.061549995094537735, -0.03981691226363182, -0.0010412778938189149, -0.04294569045305252, 0.08022034168243408, -0.01047262642532587, 0.0261433944106102, -0.0048086317256093025, -0.0013668106403201818, -0.025508049875497818, -0.023304207250475883, 0.02917090244591236, -0.05016403645277023, 0.02148551493883133, 0.00010610716708470136, 0.020483003929257393, 0.0029692763928323984, 0.004899841733276844, -0.02004013955593109, 0.012667648494243622, -0.04853363335132599, -0.029352199286222458, 0.032692618668079376, -0.10200923681259155, -0.005575988907366991, -0.04573526978492737, -0.06301184743642807, -0.027740830555558205, -0.006543515250086784, 0.04142885282635689, 0.06641640514135361, -0.004544312600046396, 0.03645975887775421, 0.02644795924425125, -0.04780837148427963, 0.0021466603502631187, 0.02536810375750065, -0.027793407440185547, 0.0031247586011886597, -0.009512679651379585, -0.05489921569824219, -0.022468863055109978, 0.0001187200250569731, -0.034781862050294876, 0.02376534603536129, 0.04709542915225029, 0.0599965825676918, -0.02311738207936287, -0.009156488813459873, -0.026193665340542793, 0.03854602947831154, 0.05936089903116226, -0.04488721862435341, 0.03544122353196144, 0.0038517278153449297, -0.009359939023852348, -0.03560023754835129, 0.0167438555508852, 0.04932751879096031, -0.03654654696583748, 0.025761742144823074, 0.055386241525411606, -0.025447437539696693, 0.0022360985167324543, 0.026409538462758064, -0.0003084992349613458, 0.016496555879712105, 0.032887428998947144, -0.012575697153806686, -0.08527856320142746, -0.01071165967732668, 0.03407254070043564, -0.027569813653826714, 0.020876124501228333, -0.023676324635744095, -0.06506536155939102, 0.02656812034547329, -0.005583228077739477, 0.03581510856747627, -0.023258548229932785, 0.014066183939576149, -0.015672840178012848, -0.011550912633538246, 0.002500530332326889, 0.0015558606246486306, -0.004231955390423536, -0.05113588273525238, 0.020281625911593437, -0.03072359971702099, 0.02835042029619217, 0.03387829288840294, -0.0036127129569649696, 0.007835078984498978, 0.003029600949957967, -0.10339192301034927, 0.03574413061141968, -0.01832319237291813, -0.017793096601963043, 0.018273334950208664, 0.0593411810696125, -0.06923931837081909, 0.021354204043745995, -0.009944996796548367, -0.022915063425898552, -0.036607418209314346, 0.01677633635699749, -0.024050230160355568, -0.04481654241681099, 0.0027515592519193888, -0.08031291514635086, -0.035332512110471725, 0.0954585149884224, -0.00014684612688142806, -0.0653829276561737, -1.6751280782045797e-05, 0.04845685139298439, -0.02574850060045719, -0.003520162543281913, 0.019647378474473953, -0.022185465320944786, 0.005192128010094166, -0.02764323353767395, -0.04933289811015129, -0.0447918064892292, 0.0016693233046680689, -0.03621963784098625, 0.012696984224021435, 0.051948029547929764, 0.005905071273446083, -0.02762572094798088, -0.001877635600976646, -0.01160169392824173, 0.011576028540730476, 0.06346411257982254, 0.08254919946193695, 0.05859685316681862, 0.06560713052749634, -0.07394483685493469, 0.035176511853933334, -0.029449669644236565, -0.0006210602587088943, -0.03301526606082916, -0.009244830347597599, 0.01899932511150837, -0.02458813786506653, -0.029156707227230072, -0.013726143166422844, -0.009528197348117828, -0.023379622027277946, 0.025273505598306656, -0.022731686010956764, 0.0654052197933197, 0.014572838321328163, -0.005784464534372091, 0.01034658681601286, 0.027513936161994934, 0.06337336450815201, -0.03997572138905525, -0.038977447897195816, -0.01053678896278143, -0.021547386422753334, -0.05862613767385483, 0.003675034735351801, 0.04932625591754913, 0.025958042591810226, -0.03064143657684326, 0.007243131287395954, -0.006524383556097746, 0.002298444975167513, 0.02428855374455452, 0.04985957220196724, 0.031833309680223465, 0.02074749581515789, 0.0031606268603354692, -0.003817174583673477, 0.06758560985326767, 0.03878534212708473, 0.0009642199729569256, 0.055449940264225006, -0.02390201948583126, 0.004980660043656826, -0.027444222941994667, 0.0007232780335471034, -0.043276313692331314, -0.011110383085906506, 0.04350696876645088, 0.01053252350538969, -0.09848244488239288, 0.024833152070641518, -0.04047902300953865, 0.018621793016791344, -0.00561384204775095, 0.04428783804178238, -0.020049504935741425, -0.044988617300987244, -0.01536667998880148, 0.027200637385249138, -0.04972165450453758, 0.010666601359844208, 0.02014540508389473, -0.026456516236066818, 0.009871318005025387, -0.017186682671308517, -0.025492647662758827, -0.0422954186797142, 0.04539768770337105, -0.06999161094427109, 0.013040419667959213, -0.004954862874001265, -0.046362705528736115, -0.017029626294970512, 0.017094099894165993, -0.042255401611328125, -0.05015220865607262, -0.014985186979174614, 0.047576311975717545, -0.008370690047740936, -0.0486958809196949, -0.004969269968569279, -0.0019750858191400766, -0.008420594036579132, 0.06952495872974396, 0.022627057507634163, -0.006854899227619171, 0.018868889659643173, -0.035532668232917786, 0.02562585286796093, 0.02145392820239067, -0.023351965472102165, -0.05013909935951233, -0.05557355657219887, -0.013162244111299515, 0.0025147495325654745, 0.0183669775724411, -0.022742250934243202, -0.05031723156571388, -0.0027220083866268396, 0.018140893429517746, -0.00501093827188015, 0.06668372452259064, 0.014688554219901562, 0.0698774978518486, 0.0016919395420700312, -0.028374848887324333, -0.06554917246103287, 0.003419253509491682, 0.006905169226229191, -0.02567308209836483, -0.016875963658094406, -0.005335821770131588, 0.022562969475984573, -0.01695726066827774, 0.034024678170681, 0.01524179894477129, -0.025286030024290085, 0.0682654082775116, 0.025859413668513298, 0.030209124088287354, -0.0372440330684185, -0.027820467948913574, 0.05503666773438454, 0.008369938470423222, -0.001217465614899993, -0.04306510090827942, 0.02542913146317005, -0.019428664818406105, 0.08991924673318863, 0.05685112252831459, -0.014579406008124352, 0.052333954721689224, 0.02371513657271862, -0.038016222417354584, 0.06987448781728745, -0.014546871185302734, 0.025177471339702606, -0.054181914776563644, -0.05057018622756004, 0.07937388867139816, -0.019809216260910034, -0.026544300839304924, 0.006764641497284174, -0.021773699671030045, 0.06267897039651871, -0.0015935440314933658, 0.006084142252802849, 0.03069554828107357, -0.07645981013774872, -0.06856877356767654, 0.038995660841464996, -0.03956301137804985, 0.03616080433130264, 0.021545542404055595, -0.0381048321723938, -0.020508352667093277, 0.007701508700847626, 0.007567401509732008, -0.02384941466152668, -0.03176030144095421, -0.029846111312508583, 0.011431975290179253, -0.0017885619308799505, 0.00875471718609333, -0.025576170533895493, 0.024332959204912186, -0.00274246116168797, 0.034297388046979904, 0.007771074306219816, -0.029308468103408813, 0.050352465361356735, 0.03869910165667534, -0.032099295407533646, 0.02697349525988102, -0.008669844828546047, -0.06879349052906036, 0.01224601175636053], 's6233', 'Movie', 'India', 'December 31, 2019', '2009', 'TV-14', '95 min', 'Dramas, International Movies']\n"
     ]
    }
   ],
   "source": [
    "for vector_store_row in vector_store_rows[:5]:\n",
    "    print(vector_store_row)"
   ]
  },
  {
   "cell_type": "code",
   "execution_count": 33,
   "metadata": {},
   "outputs": [],
   "source": [
    "batch_size = 500\n",
    "\n",
    "for i in range(0, len(vector_store_rows), batch_size):\n",
    "    with database.batch() as batch:\n",
    "        batch_rows = vector_store_rows[i : i + batch_size]\n",
    "        batch.insert(\n",
    "            table=sample_vector_table_name,\n",
    "            columns=[\n",
    "                \"langchain_id\",\n",
    "                \"content\",\n",
    "                \"embedding\",\n",
    "                \"show_id\",\n",
    "                \"type\",\n",
    "                \"country\",\n",
    "                \"date_added\",\n",
    "                \"release_year\",\n",
    "                \"rating\",\n",
    "                \"duration\",\n",
    "                \"listed_in\",\n",
    "            ],\n",
    "            values=batch_rows,\n",
    "        )"
   ]
  },
  {
   "cell_type": "markdown",
   "metadata": {
    "id": "ZM_OFzZrQEPs"
   },
   "source": [
    "# **Use case 3: Spanner as Chat Memory**"
   ]
  },
  {
   "cell_type": "markdown",
   "metadata": {
    "id": "dxqIPQtjDquk"
   },
   "source": [
    "Next we will add chat history (called “memory” in the context of LangChain) to our application so the LLM can retain context and information across multiple interactions, leading to more coherent and sophisticated conversations or text generation. We can use Spanner as “memory” storage in our application so that the LLM can use context from prior conversations to better answer the user’s prompts. First let's initialize Spanner as memory storage."
   ]
  },
  {
   "cell_type": "code",
   "execution_count": 34,
   "metadata": {},
   "outputs": [],
   "source": [
    "from langchain_google_spanner import (\n",
    "    SpannerChatMessageHistory,\n",
    ")\n",
    "\n",
    "message_table_name = \"message_store\"\n",
    "\n",
    "SpannerChatMessageHistory.create_chat_history_table(\n",
    "    instance_id=instance_id, database_id=database_id, table_name=message_table_name\n",
    ")\n",
    "\n",
    "chat_history = SpannerChatMessageHistory(\n",
    "    instance_id=instance_id,\n",
    "    database_id=database_id,\n",
    "    table_name=message_table_name,\n",
    "    session_id=\"my-test-session\",\n",
    ")"
   ]
  },
  {
   "cell_type": "markdown",
   "metadata": {
    "id": "2yuXYLTCl2K1"
   },
   "source": [
    "Here is an example of how you would add a user message and how you would add an ai message."
   ]
  },
  {
   "cell_type": "code",
   "execution_count": 35,
   "metadata": {
    "colab": {
     "base_uri": "https://localhost:8080/"
    },
    "id": "qDVoTWZal0ZF",
    "outputId": "aeb8c338-9f0d-4143-c09d-9c49478940e0"
   },
   "outputs": [
    {
     "data": {
      "text/plain": [
       "[HumanMessage(content='Hi!'),\n",
       " AIMessage(content=\"Hello there. I'm a model and am happy to help!\")]"
      ]
     },
     "execution_count": 35,
     "metadata": {},
     "output_type": "execute_result"
    }
   ],
   "source": [
    "chat_history.add_user_message(\"Hi!\")\n",
    "chat_history.add_ai_message(\"Hello there. I'm a model and am happy to help!\")\n",
    "\n",
    "chat_history.messages"
   ]
  },
  {
   "cell_type": "markdown",
   "metadata": {
    "id": "k0O9mta8RQ0v"
   },
   "source": [
    "# **Conversational RAG Chain backed by Spanner**"
   ]
  },
  {
   "cell_type": "markdown",
   "metadata": {
    "id": "d0sEt05vD0E_"
   },
   "source": [
    "So far we've tested with using Spanner as document loader, Vector Store and Chat Memory. Now let's use it in the `ConversationalRetrievalChain`.\n",
    "\n",
    "We will build a chat bot that can answer movie related questions based on the vector search results"
   ]
  },
  {
   "cell_type": "code",
   "execution_count": 36,
   "metadata": {
    "id": "9ukjOO-sNQ8_"
   },
   "outputs": [],
   "source": [
    "from langchain_google_vertexai import VertexAI\n",
    "from langchain_google_vertexai.embeddings import VertexAIEmbeddings\n",
    "from langchain_core.messages import AIMessage, HumanMessage\n",
    "from langchain.chains import ConversationalRetrievalChain\n",
    "from langchain.memory import ConversationSummaryBufferMemory\n",
    "from langchain_core.prompts import PromptTemplate\n",
    "from langchain_google_spanner import (\n",
    "    SpannerChatMessageHistory,\n",
    "    SpannerVectorStore,\n",
    "    SpannerLoader,\n",
    ")\n",
    "\n",
    "# Intialize the embedding service\n",
    "embeddings_service = VertexAIEmbeddings(\n",
    "    model_name=\"textembedding-gecko@latest\", project=project_id\n",
    ")\n",
    "\n",
    "# Intialize the Vector Store\n",
    "vector_table_name = sample_vector_table_name\n",
    "vector_store = SpannerVectorStore(\n",
    "    embedding_service=embeddings_service,\n",
    "    instance_id=instance_id,\n",
    "    database_id=database_id,\n",
    "    table_name=vector_table_name,\n",
    "    metadata_columns=[\n",
    "        \"show_id\",\n",
    "        \"type\",\n",
    "        \"country\",\n",
    "        \"rating\",\n",
    "        \"date_added\",\n",
    "        \"release_year\",\n",
    "        \"duration\",\n",
    "        \"listed_in\",\n",
    "    ],\n",
    ")\n",
    "\n",
    "# Intialize the SpannerChatMessageHistory\n",
    "chat_history = SpannerChatMessageHistory(\n",
    "    instance_id=instance_id,\n",
    "    database_id=database_id,\n",
    "    session_id=\"my-test-session\",\n",
    "    table_name=message_table_name,\n",
    ")"
   ]
  },
  {
   "cell_type": "markdown",
   "metadata": {
    "id": "Ytlz9D3LmcU7"
   },
   "source": [
    "Let's create a prompt for the LLM. Here we can add instructions specific to our application, such as \"Don't make things up\"."
   ]
  },
  {
   "cell_type": "code",
   "execution_count": 38,
   "metadata": {
    "id": "LoAHNdrWmW9W"
   },
   "outputs": [],
   "source": [
    "# Prepare some prompt templates for the ConversationalRetrievalChain\n",
    "prompt = PromptTemplate(\n",
    "    template=\"\"\"Use all the information from the context and the conversation history to answer new question. If you see the answer in previous conversation history or the context. \\\n",
    "Answer it with clarifying the source information. If you don't see it in the context or the chat history, just say you \\\n",
    "didn't find the answer in the given data. Don't make things up.\n",
    "\n",
    "Previous conversation history from the questioner. \"Human\" was the user who's asking the new question. \"Assistant\" was you as the assistant:\n",
    "```{chat_history}\n",
    "```\n",
    "\n",
    "Vector search result of the new question:\n",
    "```{context}\n",
    "```\n",
    "\n",
    "New Question:\n",
    "```{question}```\n",
    "\n",
    "Answer:\"\"\",\n",
    "    input_variables=[\"context\", \"question\", \"chat_history\"],\n",
    ")\n",
    "condense_question_prompt_passthrough = PromptTemplate(\n",
    "    template=\"\"\"Repeat the following question:\n",
    "{question}\n",
    "\"\"\",\n",
    "    input_variables=[\"question\"],\n",
    ")"
   ]
  },
  {
   "cell_type": "markdown",
   "metadata": {
    "id": "rsGe-bW5m0H1"
   },
   "source": [
    "Now let's use our vector store as a retreiver. Retreiver's in Langchain allow us to literally \"retrieve\" documents."
   ]
  },
  {
   "cell_type": "code",
   "execution_count": 39,
   "metadata": {
    "id": "1nI0xkJamvXt"
   },
   "outputs": [],
   "source": [
    "# Intialize retriever, llm and memory for the chain\n",
    "retriever = vector_store.as_retriever(\n",
    "    search_type=\"mmr\", search_kwargs={\"k\": 5, \"lambda_mult\": 0.8}\n",
    ")"
   ]
  },
  {
   "cell_type": "markdown",
   "metadata": {
    "id": "3maZ8SLlneYJ"
   },
   "source": [
    "Now let's intialize our LLM, in this case we are using Vertex AI's \"gemini-pro\"."
   ]
  },
  {
   "cell_type": "code",
   "execution_count": 40,
   "metadata": {
    "id": "VBWhg-ihnnxF"
   },
   "outputs": [],
   "source": [
    "llm = VertexAI(model_name=\"gemini-pro\", project=project_id)"
   ]
  },
  {
   "cell_type": "markdown",
   "metadata": {
    "id": "hN8mpXdtnocg"
   },
   "source": [
    "We clear our chat history, so that our application starts without any prior context to other conversations we have had with the application."
   ]
  },
  {
   "cell_type": "code",
   "execution_count": 43,
   "metadata": {
    "id": "1UkPcEpJno5Y"
   },
   "outputs": [],
   "source": [
    "chat_history.clear()\n",
    "\n",
    "memory = ConversationSummaryBufferMemory(\n",
    "    llm=llm,\n",
    "    chat_memory=chat_history,\n",
    "    output_key=\"answer\",\n",
    "    memory_key=\"chat_history\",\n",
    "    return_messages=True,\n",
    ")"
   ]
  },
  {
   "cell_type": "markdown",
   "metadata": {
    "id": "BDAT2koSn8Mz"
   },
   "source": [
    "Now let's create a conversational retrieval chain. This will allow the LLM to use chat history in it's responses, meaning we can ask it follow up questions to our questions instead of having to start from scratch after each inquiry."
   ]
  },
  {
   "cell_type": "code",
   "execution_count": 44,
   "metadata": {
    "colab": {
     "base_uri": "https://localhost:8080/"
    },
    "id": "7Fu8fKdEn8h8",
    "outputId": "abadf0d2-abcd-47a4-d598-45140205593f"
   },
   "outputs": [
    {
     "name": "stdout",
     "output_type": "stream",
     "text": [
      "Question: What movie was Brad Pitt in?\n",
      "Answer: - Inglourious Basterds\n",
      "- By the Sea\n",
      "- Killing Them Softly\n",
      "- Babel\n",
      "- War Machine\n",
      "\n",
      "Question: How about Jonny Depp?\n",
      "Answer: - Charlie and the Chocolate Factory\n",
      "- The Rum Diary\n",
      "- What's Eating Gilbert Grape\n",
      "- The Imaginarium of Doctor Parnassus\n",
      "\n",
      "Question: Are there movies about animals?\n",
      "Answer: Yes, there are movies about animals. From the vector search result, here are some examples: \"Open Season,\" \"If I Were an Animal,\" \"The Animal People,\" \"We're No Animals\" and \"Animals on the Loose: A You vs. Wild Movie.\"\n",
      "\n"
     ]
    },
    {
     "data": {
      "text/plain": [
       "[HumanMessage(content='What movie was Brad Pitt in?'),\n",
       " AIMessage(content='- Inglourious Basterds\\n- By the Sea\\n- Killing Them Softly\\n- Babel\\n- War Machine'),\n",
       " HumanMessage(content='How about Jonny Depp?'),\n",
       " AIMessage(content=\"- Charlie and the Chocolate Factory\\n- The Rum Diary\\n- What's Eating Gilbert Grape\\n- The Imaginarium of Doctor Parnassus\"),\n",
       " HumanMessage(content='Are there movies about animals?'),\n",
       " AIMessage(content='Yes, there are movies about animals. From the vector search result, here are some examples: \"Open Season,\" \"If I Were an Animal,\" \"The Animal People,\" \"We\\'re No Animals\" and \"Animals on the Loose: A You vs. Wild Movie.\"')]"
      ]
     },
     "execution_count": 44,
     "metadata": {},
     "output_type": "execute_result"
    }
   ],
   "source": [
    "# create the ConversationalRetrievalChain\n",
    "rag_chain = ConversationalRetrievalChain.from_llm(\n",
    "    llm=llm,\n",
    "    retriever=retriever,\n",
    "    verbose=False,\n",
    "    memory=memory,\n",
    "    condense_question_prompt=condense_question_prompt_passthrough,\n",
    "    combine_docs_chain_kwargs={\"prompt\": prompt},\n",
    ")\n",
    "\n",
    "# ask some questions\n",
    "q = \"What movie was Brad Pitt in?\"\n",
    "ans = rag_chain({\"question\": q, \"chat_history\": chat_history})[\"answer\"]\n",
    "print(f\"Question: {q}\\nAnswer: {ans}\\n\")\n",
    "\n",
    "q = \"How about Jonny Depp?\"\n",
    "ans = rag_chain({\"question\": q, \"chat_history\": chat_history})[\"answer\"]\n",
    "print(f\"Question: {q}\\nAnswer: {ans}\\n\")\n",
    "\n",
    "q = \"Are there movies about animals?\"\n",
    "ans = rag_chain({\"question\": q, \"chat_history\": chat_history})[\"answer\"]\n",
    "print(f\"Question: {q}\\nAnswer: {ans}\\n\")\n",
    "\n",
    "# browser the chat history\n",
    "chat_history.messages"
   ]
  }
 ],
 "metadata": {
  "colab": {
   "provenance": [],
   "toc_visible": true
  },
  "kernelspec": {
   "display_name": "Python 3",
   "name": "python3"
  },
  "language_info": {
   "codemirror_mode": {
    "name": "ipython",
    "version": 3
   },
   "file_extension": ".py",
   "mimetype": "text/x-python",
   "name": "python",
   "nbconvert_exporter": "python",
   "pygments_lexer": "ipython3",
   "version": "3.11.7"
  }
 },
 "nbformat": 4,
 "nbformat_minor": 0
}
