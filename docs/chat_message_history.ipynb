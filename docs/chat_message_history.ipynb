{
 "cells": [
  {
   "cell_type": "markdown",
   "source": [
    "# Cloud Spanner\n",
    "\n",
    "[Cloud Spanner](https://cloud.google.com/spanner) is a highly scalable database that combines unlimited scalability with relational semantics, such as secondary indexes, strong consistency, schemas, and SQL providing 99.999% availability in one easy solution."
   ],
   "metadata": {
    "collapsed": false
   }
  },
  {
   "cell_type": "markdown",
   "source": [
    "## Setting up"
   ],
   "metadata": {
    "collapsed": false
   }
  },
  {
   "cell_type": "code",
   "outputs": [],
   "source": [
    "To run this notebook, you will need a Google Cloud Project, a Cloud Spanner instance, and Google credentials."
   ],
   "metadata": {
    "collapsed": false
   }
  },
  {
   "cell_type": "markdown",
   "source": [
    "%pip install langchain-google-spanner"
   ],
   "metadata": {
    "collapsed": false
   }
  },
  {
   "cell_type": "markdown",
   "metadata": {},
   "source": [
    "## Basic Usage"
   ]
  },
  {
   "cell_type": "code",
   "outputs": [],
   "source": [
    "from langchain_google_spanner import (\n",
    "    SpannerChatMessageHistory,\n",
    ")\n",
    "\n",
    "message_history = SpannerChatMessageHistory(\n",
    "    instance_id=\"my-instance\",\n",
    "    database_id=\"my-database\",\n",
    "    session_id=\"user-session-id\",\n",
    ")\n",
    "\n",
    "message_history.add_user_message(\"hi!\")\n",
    "message_history.add_ai_message(\"whats up?\")"
   ],
   "metadata": {
    "collapsed": false
   }
  },
  {
   "cell_type": "code",
   "execution_count": null,
   "metadata": {},
   "outputs": [],
   "source": [
    "message_history.messages"
   ]
  },
  {
   "cell_type": "markdown",
   "metadata": {},
   "source": [
    "## Custom client\n",
    "The client created by default is the default client. To use a non-default, a [custom client]https://cloud.google.com/spanner/docs/samples/spanner-create-client-with-query-options#spanner_create_client_with_query_options-python) can be passed to the constructor."
   ]
  },
  {
   "cell_type": "code",
   "execution_count": null,
   "metadata": {},
   "outputs": [],
   "source": [
    "from google.cloud import spanner\n",
    "\n",
    "custom_client_message_history = SpannerChatMessageHistory(\n",
    "    instance_id=\"my-instance\",\n",
    "    database_id=\"my-database\",\n",
    "    client=spanner.Client(...),\n",
    ")"
   ]
  },
  {
   "cell_type": "markdown",
   "metadata": {},
   "source": [
    "## Cleaning up\n",
    "\n",
    "When the history of a specific session is obsolete and can be deleted, it can be done the following way.\n",
    "Note: Once deleted, the data is no longer stored in Cloud Spanner and is gone forever."
   ]
  },
  {
   "cell_type": "code",
   "execution_count": null,
   "metadata": {},
   "outputs": [],
   "source": [
    "message_history = SpannerChatMessageHistory(\n",
    "    instance_id=\"my-instance\",\n",
    "    database_id=\"my-database\",\n",
    "    session_id=\"obsolete-session-id\",\n",
    ")\n",
    "\n",
    "message_history.clear()"
   ]
  }
 ],
 "metadata": {
  "kernelspec": {
   "display_name": "Python 3 (ipykernel)",
   "language": "python",
   "name": "python3"
  },
  "language_info": {
   "codemirror_mode": {
    "name": "ipython",
    "version": 3
   },
   "file_extension": ".py",
   "mimetype": "text/x-python",
   "name": "python",
   "nbconvert_exporter": "python",
   "pygments_lexer": "ipython3",
   "version": "3.10.6"
  }
 },
 "nbformat": 4,
 "nbformat_minor": 4
}
