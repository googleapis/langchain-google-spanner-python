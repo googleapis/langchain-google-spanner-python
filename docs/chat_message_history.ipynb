{
 "cells": [
  {
   "cell_type": "markdown",
   "metadata": {
    "collapsed": false
   },
   "source": [
    "# Google Spanner\n",
    "> [Spanner](https://cloud.google.com/spanner) is a highly scalable database that combines unlimited scalability with relational semantics, such as secondary indexes, strong consistency, schemas, and SQL providing 99.999% availability in one easy solution.\n",
    "\n",
    "This notebook goes over how to use `Spanner` to store chat message history with the `SpannerChatMessageHistory` class.\n",
    "\n",
    "Learn more about the package on [GitHub](https://github.com/googleapis/langchain-google-spanner-python/).\n",
    "\n",
    "[![Open In Colab](https://colab.research.google.com/assets/colab-badge.svg)](https://colab.research.google.com/github/googleapis/langchain-google-spanner-python/blob/main/samples/chat_message_history.ipynb)"
   ]
  },
  {
   "cell_type": "markdown",
   "metadata": {
    "collapsed": false
   },
   "source": [
    "## Before You Begin\n",
    "\n",
    "To run this notebook, you will need to do the following:\n",
    "\n",
    " * [Create a Google Cloud Project](https://developers.google.com/workspace/guides/create-project)\n",
    " * [Enable the Cloud Spanner API](https://console.cloud.google.com/flows/enableapi?apiid=spanner.googleapis.com)\n",
    " * [Create a Spanner instance](https://cloud.google.com/spanner/docs/create-manage-instances)\n",
    " * [Create a Spanner database](https://cloud.google.com/spanner/docs/create-manage-databases)"
   ]
  },
  {
   "cell_type": "markdown",
   "metadata": {},
   "source": [
    "### 🦜🔗 Library Installation\n",
    "The integration lives in its own `langchain-google-spanner` package, so we need to install it."
   ]
  },
  {
   "cell_type": "code",
   "execution_count": null,
   "metadata": {},
   "outputs": [],
   "source": [
    "%pip install --upgrade --quiet langchain-google-spanner"
   ]
  },
  {
   "cell_type": "markdown",
   "metadata": {},
   "source": [
    "**Colab only:** Uncomment the following cell to restart the kernel or use the button to restart the kernel. For Vertex AI Workbench you can restart the terminal using the button on top."
   ]
  },
  {
   "cell_type": "code",
   "execution_count": null,
   "metadata": {},
   "outputs": [],
   "source": [
    "# # Automatically restart kernel after installs so that your environment can access the new packages\n",
    "# import IPython\n",
    "\n",
    "# app = IPython.Application.instance()\n",
    "# app.kernel.do_shutdown(True)"
   ]
  },
  {
   "cell_type": "markdown",
   "id": "yygMe6rPWxHS",
   "metadata": {
    "id": "yygMe6rPWxHS"
   },
   "source": [
    "### 🔐 Authentication\n",
    "Authenticate to Google Cloud as the IAM user logged into this notebook in order to access your Google Cloud Project.\n",
    "\n",
    "* If you are using Colab to run this notebook, use the cell below and continue.\n",
    "* If you are using Vertex AI Workbench, check out the setup instructions [here](https://github.com/GoogleCloudPlatform/generative-ai/tree/main/setup-env)."
   ]
  },
  {
   "cell_type": "code",
   "execution_count": 1,
   "id": "PTXN1_DSXj2b",
   "metadata": {
    "id": "PTXN1_DSXj2b"
   },
   "outputs": [],
   "source": [
    "from google.colab import auth\n",
    "\n",
    "auth.authenticate_user()"
   ]
  },
  {
   "cell_type": "markdown",
   "id": "NEvB9BoLEulY",
   "metadata": {
    "id": "NEvB9BoLEulY"
   },
   "source": [
    "### ☁ Set Your Google Cloud Project\n",
    "Set your Google Cloud project so that you can leverage Google Cloud resources within this notebook.\n",
    "\n",
    "If you don't know your project ID, try the following:\n",
    "\n",
    "* Run `gcloud config list`.\n",
    "* Run `gcloud projects list`.\n",
    "* See the support page: [Locate the project ID](https://support.google.com/googleapi/answer/7014113)."
   ]
  },
  {
   "cell_type": "code",
   "execution_count": null,
   "id": "gfkS3yVRE4_W",
   "metadata": {
    "cellView": "form",
    "id": "gfkS3yVRE4_W"
   },
   "outputs": [],
   "source": [
    "# @markdown Please fill in the value below with your Google Cloud project ID and then run the cell.\n",
    "\n",
    "PROJECT_ID = \"my-project-id\"  # @param {type:\"string\"}\n",
    "\n",
    "# Set the project id\n",
    "!gcloud config set project {PROJECT_ID}"
   ]
  },
  {
   "cell_type": "markdown",
   "id": "rEWWNoNnKOgq",
   "metadata": {
    "id": "rEWWNoNnKOgq"
   },
   "source": [
    "### 💡 API Enablement\n",
    "The `langchain-google-spanner` package requires that you [enable the Spanner API](https://console.cloud.google.com/flows/enableapi?apiid=spanner.googleapis.com) in your Google Cloud Project."
   ]
  },
  {
   "cell_type": "code",
   "execution_count": 3,
   "id": "5utKIdq7KYi5",
   "metadata": {
    "id": "5utKIdq7KYi5"
   },
   "outputs": [],
   "source": [
    "# enable Spanner API\n",
    "!gcloud services enable spanner.googleapis.com"
   ]
  },
  {
   "cell_type": "markdown",
   "id": "f8f2830ee9ca1e01",
   "metadata": {
    "id": "f8f2830ee9ca1e01"
   },
   "source": [
    "## Basic Usage"
   ]
  },
  {
   "cell_type": "markdown",
   "id": "OMvzMWRrR6n7",
   "metadata": {
    "id": "OMvzMWRrR6n7"
   },
   "source": [
    "### Set Spanner database values\n",
    "Find your database values, in the [Spanner Instances page](https://console.cloud.google.com/spanner)."
   ]
  },
  {
   "cell_type": "code",
   "execution_count": 4,
   "id": "irl7eMFnSPZr",
   "metadata": {
    "id": "irl7eMFnSPZr"
   },
   "outputs": [],
   "source": [
    "# @title Set Your Values Here { display-mode: \"form\" }\n",
    "INSTANCE = \"my-instance\"  # @param {type: \"string\"}\n",
    "DATABASE = \"my-database\"  # @param {type: \"string\"}\n",
    "TABLE_NAME = \"message_store\"  # @param {type: \"string\"}"
   ]
  },
  {
   "cell_type": "markdown",
   "id": "qPV8WfWr7O54",
   "metadata": {
    "id": "qPV8WfWr7O54"
   },
   "source": [
    "### Initialize a table\n",
    "The `SpannerChatMessageHistory` class requires a database table with a specific schema in order to store the chat message history.\n",
    "\n",
    "The helper method `init_chat_history_table()` that can be used to create a table with the proper schema for you."
   ]
  },
  {
   "cell_type": "code",
   "execution_count": null,
   "id": "TEu4VHArRttE",
   "metadata": {
    "id": "TEu4VHArRttE"
   },
   "outputs": [],
   "source": [
    "from langchain_google_spanner import (\n",
    "    SpannerChatMessageHistory,\n",
    ")\n",
    "\n",
    "SpannerChatMessageHistory.init_chat_history_table(table_name=TABLE_NAME)"
   ]
  },
  {
   "cell_type": "markdown",
   "metadata": {},
   "source": [
    "### SpannerChatMessageHistory\n",
    "\n",
    "To initialize the `SpannerChatMessageHistory` class you need to provide only 3 things:\n",
    "\n",
    "1. `instance_id` - The name of the Spanner instance\n",
    "1. `database_id` - The name of the Spanner database\n",
    "1. `session_id` - A unique identifier string that specifies an id for the session.\n",
    "1. `table_name` - The name of the table within the database to store the chat message history."
   ]
  },
  {
   "cell_type": "code",
   "execution_count": null,
   "metadata": {
    "collapsed": false
   },
   "outputs": [],
   "source": [
    "message_history = SpannerChatMessageHistory(\n",
    "    instance_id=INSTANCE,\n",
    "    database_id=DATABASE,\n",
    "    table_name=TABLE_NAME,\n",
    "    session_id=\"user-session-id\",\n",
    ")\n",
    "\n",
    "message_history.add_user_message(\"hi!\")\n",
    "message_history.add_ai_message(\"whats up?\")"
   ]
  },
  {
   "cell_type": "code",
   "execution_count": null,
   "metadata": {},
   "outputs": [],
   "source": [
    "message_history.messages"
   ]
  },
  {
   "cell_type": "markdown",
   "metadata": {},
   "source": [
    "## Custom client\n",
    "The client created by default is the default client. To use a non-default, a [custom client](https://cloud.google.com/spanner/docs/samples/spanner-create-client-with-query-options#spanner_create_client_with_query_options-python) can be passed to the constructor."
   ]
  },
  {
   "cell_type": "code",
   "execution_count": null,
   "metadata": {},
   "outputs": [],
   "source": [
    "from google.cloud import spanner\n",
    "\n",
    "custom_client_message_history = SpannerChatMessageHistory(\n",
    "    instance_id=\"my-instance\",\n",
    "    database_id=\"my-database\",\n",
    "    client=spanner.Client(...),\n",
    ")"
   ]
  },
  {
   "cell_type": "markdown",
   "metadata": {},
   "source": [
    "## Cleaning up\n",
    "\n",
    "When the history of a specific session is obsolete and can be deleted, it can be done the following way.\n",
    "Note: Once deleted, the data is no longer stored in Cloud Spanner and is gone forever."
   ]
  },
  {
   "cell_type": "code",
   "execution_count": null,
   "metadata": {},
   "outputs": [],
   "source": [
    "message_history = SpannerChatMessageHistory(\n",
    "    instance_id=INSTANCE,\n",
    "    database_id=DATABASE,\n",
    "    table_name=TABLE_NAME,\n",
    "    session_id=\"user-session-id\",\n",
    ")\n",
    "\n",
    "message_history.clear()"
   ]
  }
 ],
 "metadata": {
  "kernelspec": {
   "display_name": "Python 3 (ipykernel)",
   "language": "python",
   "name": "python3"
  },
  "language_info": {
   "codemirror_mode": {
    "name": "ipython",
    "version": 3
   },
   "file_extension": ".py",
   "mimetype": "text/x-python",
   "name": "python",
   "nbconvert_exporter": "python",
   "pygments_lexer": "ipython3",
   "version": "3.11.5"
  }
 },
 "nbformat": 4,
 "nbformat_minor": 4
}
