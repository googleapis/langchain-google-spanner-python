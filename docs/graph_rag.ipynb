{
 "nbformat": 4,
 "nbformat_minor": 0,
 "metadata": {
  "kernelspec": {
   "display_name": "Python 3 (ipykernel)",
   "language": "python",
   "name": "python3"
  },
  "language_info": {
   "codemirror_mode": {
    "name": "ipython",
    "version": 3
   },
   "file_extension": ".py",
   "mimetype": "text/x-python",
   "name": "python",
   "nbconvert_exporter": "python",
   "pygments_lexer": "ipython3",
   "version": "3.11.5"
  },
  "colab": {
   "provenance": [],
   "toc_visible": true
  }
 },
 "cells": [
  {
   "cell_type": "markdown",
   "source": [
    "# Google Spanner\n",
    "\n",
    "> [Spanner](https://cloud.google.com/spanner) is a highly scalable database that combines unlimited scalability with relational semantics, such as secondary indexes, strong consistency, schemas, and SQL providing 99.999% availability in one easy solution.\n",
    "\n",
    "This notebook goes over how to use `Spanner Graph` for GraphRAG with the custom retriever `SpannerGraphVectorContextRetriever` and compares the response of GraphRAG with conventional RAG.\n",
    "\n",
    "Learn more about the package on [GitHub](https://github.com/googleapis/langchain-google-spanner-python/).\n",
    "\n",
    "[![Open In Colab](https://colab.research.google.com/assets/colab-badge.svg)](https://colab.research.google.com/github/googleapis/langchain-google-spanner-python/blob/main/docs/graph_rag.ipynb)"
   ],
   "metadata": {
    "id": "7VBkjcqNNxEd"
   }
  },
  {
   "cell_type": "markdown",
   "source": [
    "## Before You Begin\n",
    "\n",
    "To run this notebook, you will need to do the following:\n",
    "\n",
    " * [Create a Google Cloud Project](https://developers.google.com/workspace/guides/create-project)\n",
    " * [Enable the Cloud Spanner API](https://console.cloud.google.com/flows/enableapi?apiid=spanner.googleapis.com)\n",
    " * [Create a Spanner instance](https://cloud.google.com/spanner/docs/create-manage-instances)\n",
    " * [Create a Spanner database](https://cloud.google.com/spanner/docs/create-manage-databases)"
   ],
   "metadata": {
    "id": "HEAGYTPgNydh"
   }
  },
  {
   "cell_type": "markdown",
   "source": [
    "### 🦜🔗 Library Installation\n",
    "The integration lives in its own `langchain-google-spanner` package, so we need to install it."
   ],
   "metadata": {
    "id": "cboPIg-yOcxS"
   }
  },
  {
   "cell_type": "code",
   "source": [
    "%pip install --upgrade --quiet langchain-google-spanner langchain-google-vertexai langchain-experimental spanner-graph-notebook"
   ],
   "metadata": {
    "id": "AOWh6QKYVdDp"
   },
   "execution_count": null,
   "outputs": []
  },
  {
   "cell_type": "markdown",
   "source": [],
   "metadata": {
    "id": "L06vBzPq7gz6"
   }
  },
  {
   "cell_type": "markdown",
   "source": [
    "**Colab only:** Uncomment the following cell to restart the kernel or use the button to restart the kernel. For Vertex AI Workbench you can restart the terminal using the button on top."
   ],
   "metadata": {
    "id": "M7MqpDhkOiP-"
   }
  },
  {
   "cell_type": "code",
   "source": [
    "## Automatically restart kernel after installs so that your environment can access the new packages\n",
    "import IPython\n",
    "\n",
    "app = IPython.Application.instance()\n",
    "app.kernel.do_shutdown(True)"
   ],
   "metadata": {
    "id": "xzgVZv0POj17"
   },
   "execution_count": null,
   "outputs": []
  },
  {
   "cell_type": "markdown",
   "source": [
    "### 🔐 Authentication\n",
    "Authenticate to Google Cloud as the IAM user logged into this notebook in order to access your Google Cloud Project.\n",
    "\n",
    "* If you are using Colab to run this notebook, use the cell below and continue.\n",
    "* If you are using Vertex AI Workbench, check out the setup instructions [here](https://github.com/GoogleCloudPlatform/generative-ai/tree/main/setup-env)."
   ],
   "metadata": {
    "id": "zfIhwIryOls1"
   }
  },
  {
   "cell_type": "code",
   "source": [
    "from google.colab import auth\n",
    "\n",
    "auth.authenticate_user()"
   ],
   "metadata": {
    "id": "EWOkHI7XOna2"
   },
   "execution_count": null,
   "outputs": []
  },
  {
   "cell_type": "markdown",
   "source": [
    "### ☁ Set Your Google Cloud Project\n",
    "Set your Google Cloud project so that you can leverage Google Cloud resources within this notebook.\n",
    "\n",
    "If you don't know your project ID, try the following:\n",
    "\n",
    "* Run `gcloud config list`.\n",
    "* Run `gcloud projects list`.\n",
    "* See the support page: [Locate the project ID](https://support.google.com/googleapi/answer/7014113)."
   ],
   "metadata": {
    "id": "6xHXneICOpsB"
   }
  },
  {
   "cell_type": "code",
   "source": [
    "# @markdown Please fill in the value below with your Google Cloud project ID and then run the cell.\n",
    "\n",
    "PROJECT_ID = \"my-project\"  # @param {type:\"string\"}\n",
    "\n",
    "# Set the project id\n",
    "!gcloud config set project {PROJECT_ID}\n",
    "%env GOOGLE_CLOUD_PROJECT={PROJECT_ID}"
   ],
   "metadata": {
    "id": "hF0481BGOsS8",
    "cellView": "form"
   },
   "execution_count": null,
   "outputs": []
  },
  {
   "cell_type": "markdown",
   "source": [
    "### 💡 API Enablement\n",
    "The `langchain-google-spanner` package requires that you [enable the Spanner API](https://console.cloud.google.com/flows/enableapi?apiid=spanner.googleapis.com) in your Google Cloud Project."
   ],
   "metadata": {
    "id": "4TiC0RbhOwUu"
   }
  },
  {
   "cell_type": "code",
   "source": [
    "# enable Spanner API\n",
    "!gcloud services enable spanner.googleapis.com"
   ],
   "metadata": {
    "id": "9f3fJd5eOyRr"
   },
   "execution_count": null,
   "outputs": []
  },
  {
   "cell_type": "markdown",
   "source": [
    "## Usage"
   ],
   "metadata": {
    "id": "k5pxMMiMOzt7"
   }
  },
  {
   "cell_type": "markdown",
   "source": [
    "### Set Spanner database values\n",
    "Find your database values, in the [Spanner Instances page](https://console.cloud.google.com/spanner?_ga=2.223735448.2062268965.1707700487-2088871159.1707257687)."
   ],
   "metadata": {
    "id": "mtDbLU5sO2iA"
   }
  },
  {
   "cell_type": "code",
   "source": [
    "# @title Set Your Values Here { display-mode: \"form\" }\n",
    "INSTANCE = \"my-instance\"  # @param {type: \"string\"}\n",
    "DATABASE = \"my-database\"  # @param {type: \"string\"}\n",
    "GRAPH_NAME = \"my_graph\"  # @param {type: \"string\"}"
   ],
   "metadata": {
    "id": "C-I8VTIcO442"
   },
   "execution_count": null,
   "outputs": []
  },
  {
   "cell_type": "markdown",
   "source": [
    "### SpannerGraphStore\n",
    "\n",
    "To initialize the `SpannerGraphStore` class you need to provide 3 required arguments and other arguments are optional and only need to pass if it's different from default ones\n",
    "\n",
    "1.   a Spanner instance id;\n",
    "2.   a Spanner database id belongs to the above instance id;\n",
    "3.   a Spanner graph name used to create a graph in the above database."
   ],
   "metadata": {
    "id": "kpAv-tpcO_iL"
   }
  },
  {
   "cell_type": "code",
   "source": [
    "from langchain_google_spanner import SpannerGraphStore\n",
    "\n",
    "graph_store = SpannerGraphStore(\n",
    "    instance_id=INSTANCE,\n",
    "    database_id=DATABASE,\n",
    "    graph_name=GRAPH_NAME,\n",
    ")"
   ],
   "metadata": {
    "id": "u589YapWQFb8"
   },
   "execution_count": null,
   "outputs": []
  },
  {
   "cell_type": "markdown",
   "source": [
    "#### Add Graph Documents\n",
    "To add graph documents in the graph store."
   ],
   "metadata": {
    "id": "G7-Pe2ADQlNJ"
   }
  },
  {
   "cell_type": "code",
   "source": [
    "# @title Load Documents\n",
    "import os\n",
    "from langchain_community.document_loaders import DirectoryLoader\n",
    "from langchain_community.document_loaders import TextLoader\n",
    "from langchain_core.documents import Document\n",
    "\n",
    "!wget https://raw.githubusercontent.com/googleapis/langchain-google-spanner-python/main/samples/retaildata.zip\n",
    "!unzip \"/content/retaildata.zip\"\n",
    "\n",
    "path = \"/content/retaildata/\"\n",
    "directories = [\n",
    "    item for item in os.listdir(path) if os.path.isdir(os.path.join(path, item))\n",
    "]\n",
    "\n",
    "document_lists = []\n",
    "for directory in directories:\n",
    "    loader = DirectoryLoader(\n",
    "        os.path.join(path, directory), glob=\"**/*.txt\", loader_cls=TextLoader\n",
    "    )\n",
    "    document_lists.append(loader.load())"
   ],
   "metadata": {
    "id": "Do7bCkyJagok"
   },
   "execution_count": null,
   "outputs": []
  },
  {
   "cell_type": "code",
   "source": [
    "# @title Extract Nodes and Edges\n",
    "import copy\n",
    "from langchain_experimental.graph_transformers import LLMGraphTransformer\n",
    "from langchain_google_vertexai import ChatVertexAI, VertexAIEmbeddings\n",
    "\n",
    "\n",
    "def print_graph(graph_documents):\n",
    "    for doc in graph_documents:\n",
    "        print(doc.source.page_content[:100])\n",
    "        nodes = copy.deepcopy(doc.nodes)\n",
    "        for node in nodes:\n",
    "            if \"embedding\" in node.properties:\n",
    "                node.properties[\"embedding\"] = \"...\"\n",
    "        print(nodes)\n",
    "        print(doc.relationships)\n",
    "        print()\n",
    "\n",
    "\n",
    "llm = ChatVertexAI(model=\"gemini-2.0-flash\", temperature=0)\n",
    "llm_transformer = LLMGraphTransformer(\n",
    "    llm=llm,\n",
    "    allowed_nodes=[\"Category\", \"Segment\", \"Tag\", \"Product\", \"Bundle\", \"Deal\"],\n",
    "    allowed_relationships=[\n",
    "        \"In_Category\",\n",
    "        \"Tagged_With\",\n",
    "        \"In_Segment\",\n",
    "        \"In_Bundle\",\n",
    "        \"Is_Accessory_Of\",\n",
    "        \"Is_Upgrade_Of\",\n",
    "        \"Has_Deal\",\n",
    "    ],\n",
    "    node_properties=[\n",
    "        \"name\",\n",
    "        \"price\",\n",
    "        \"weight\",\n",
    "        \"deal_end_date\",\n",
    "        \"features\",\n",
    "    ],\n",
    ")\n",
    "\n",
    "graph_documents = []\n",
    "for document_list in document_lists:\n",
    "    graph_documents.extend(llm_transformer.convert_to_graph_documents(document_list))\n",
    "\n",
    "# Add embeddings to the graph documents for Product nodes\n",
    "embedding_service = VertexAIEmbeddings(model_name=\"text-embedding-004\")\n",
    "for graph_document in graph_documents:\n",
    "    for node in graph_document.nodes:\n",
    "        if \"features\" in node.properties:\n",
    "            node.properties[\"embedding\"] = embedding_service.embed_query(\n",
    "                node.properties[\"features\"]\n",
    "            )\n",
    "\n",
    "print_graph(graph_documents)"
   ],
   "metadata": {
    "id": "fP7XNu3aPl5c"
   },
   "execution_count": null,
   "outputs": []
  },
  {
   "cell_type": "code",
   "source": [
    "# @title Post process extracted nodes and edges\n",
    "# Apply your domain knowledge to clean up and make desired fixes to the\n",
    "# generated graph in the earlier step.\n",
    "\n",
    "# set of all valid products\n",
    "products = set()\n",
    "\n",
    "\n",
    "def prune_invalid_products():\n",
    "    for graph_document in graph_documents:\n",
    "        nodes_to_remove = []\n",
    "        relationships_to_remove = []\n",
    "        for node in graph_document.nodes:\n",
    "            if node.type == \"Product\" and \"features\" not in node.properties:\n",
    "                nodes_to_remove.append(node)\n",
    "            else:\n",
    "                products.add(node.id)\n",
    "        for node in nodes_to_remove:\n",
    "            graph_document.nodes.remove(node)\n",
    "\n",
    "\n",
    "def prune_invalid_segments(valid_segments):\n",
    "    for graph_document in graph_documents:\n",
    "        nodes_to_remove = []\n",
    "        for node in graph_document.nodes:\n",
    "            if node.type == \"Segment\" and node.id not in valid_segments:\n",
    "                nodes_to_remove.append(node)\n",
    "        for node in nodes_to_remove:\n",
    "            graph_document.nodes.remove(node)\n",
    "\n",
    "\n",
    "def is_not_a_listed_product(node):\n",
    "    if node.type == \"Product\" and node.id not in products:\n",
    "        return True\n",
    "    return False\n",
    "\n",
    "\n",
    "def fix_directions(relation_name, wrong_source_type):\n",
    "    for graph_document in graph_documents:\n",
    "        for relationship in graph_document.relationships:\n",
    "            if relationship.type == relation_name:\n",
    "                if relationship.source.type == wrong_source_type:\n",
    "                    source = relationship.source\n",
    "                    target = relationship.target\n",
    "                    relationship.source = target\n",
    "                    relationship.target = source\n",
    "\n",
    "\n",
    "def prune_dangling_relationships():\n",
    "    # now remove all dangling relationships\n",
    "    for graph_document in graph_documents:\n",
    "        relationships_to_remove = []\n",
    "        for relationship in graph_document.relationships:\n",
    "            if is_not_a_listed_product(relationship.source) or is_not_a_listed_product(\n",
    "                relationship.target\n",
    "            ):\n",
    "                relationships_to_remove.append(relationship)\n",
    "        for relationship in relationships_to_remove:\n",
    "            graph_document.relationships.remove(relationship)\n",
    "\n",
    "\n",
    "def prune_unwanted_relationships(relation_name, source, target):\n",
    "    node_types = set([source, target])\n",
    "    for graph_document in graph_documents:\n",
    "        relationships_to_remove = []\n",
    "        for relationship in graph_document.relationships:\n",
    "            if (\n",
    "                relationship.type == relation_name\n",
    "                and set([relationship.source.type, relationship.target.type])\n",
    "                == node_types\n",
    "            ):\n",
    "                relationships_to_remove.append(relationship)\n",
    "        for relationship in relationships_to_remove:\n",
    "            graph_document.relationships.remove(relationship)\n",
    "\n",
    "\n",
    "prune_invalid_products()\n",
    "prune_invalid_segments(set([\"Home\", \"Office\", \"Fitness\"]))\n",
    "prune_unwanted_relationships(\"IN_CATEGORY\", \"Bundle\", \"Category\")\n",
    "prune_unwanted_relationships(\"IN_CATEGORY\", \"Deal\", \"Category\")\n",
    "prune_unwanted_relationships(\"IN_SEGMENT\", \"Bundle\", \"Segment\")\n",
    "prune_unwanted_relationships(\"IN_SEGMENT\", \"Deal\", \"Segment\")\n",
    "prune_dangling_relationships()\n",
    "fix_directions(\"HAS_DEAL\", \"Deal\")\n",
    "fix_directions(\"IN_BUNDLE\", \"Bundle\")\n",
    "print_graph(graph_documents)"
   ],
   "metadata": {
    "id": "G9OAYF0spDTF"
   },
   "execution_count": null,
   "outputs": []
  },
  {
   "cell_type": "code",
   "source": [
    "# @title Load data to Spanner Graph\n",
    "# Uncomment the line below, if you want to cleanup from\n",
    "# previous iterations.\n",
    "# BeWARE - THIS COULD REMOVE DATA FROM YOUR DATABASE !!!\n",
    "graph_store.cleanup()\n",
    "graph_store.add_graph_documents(graph_documents)"
   ],
   "metadata": {
    "id": "lMXvOpRbZdau"
   },
   "execution_count": null,
   "outputs": []
  },
  {
   "cell_type": "markdown",
   "source": [
    "### Visualization"
   ],
   "metadata": {
    "id": "28aMSrBbEvps"
   }
  },
  {
   "cell_type": "code",
   "source": [
    "# @title Graph and Schema\n",
    "%%spanner_graph --project {PROJECT_ID} --instance {INSTANCE} --database {DATABASE}\n",
    "GRAPH my_graph #Change this to your graph name\n",
    "MATCH p = ()->()\n",
    "RETURN TO_JSON(p) AS path_json"
   ],
   "metadata": {
    "id": "Xg14hrOhIL5e"
   },
   "execution_count": null,
   "outputs": []
  },
  {
   "cell_type": "markdown",
   "source": [
    "## GraphRAG flow using Spanner Graph"
   ],
   "metadata": {
    "id": "zsPxCSzXhuoB"
   }
  },
  {
   "cell_type": "code",
   "source": [
    "# @title Question Answering Prompt\n",
    "from langchain_core.output_parsers import StrOutputParser\n",
    "from langchain_core.prompts.prompt import PromptTemplate\n",
    "from langchain_google_vertexai import ChatVertexAI, VertexAIEmbeddings\n",
    "\n",
    "from IPython.display import Markdown\n",
    "import textwrap\n",
    "\n",
    "\n",
    "# Retrieve and generate using the relevant snippets of the blog.\n",
    "def format_docs(docs):\n",
    "    print(\"Context Retrieved: \\n\")\n",
    "    for doc in docs:\n",
    "        print(textwrap.fill(doc.page_content, width=80))\n",
    "        print(\"\\n\")\n",
    "\n",
    "    context = \"\\n\\n\".join(doc.page_content for doc in docs)\n",
    "    return context\n",
    "\n",
    "\n",
    "SPANNERGRAPH_QA_TEMPLATE = \"\"\"\n",
    "You are a helpful and friendly AI assistant for question answering tasks for an electronics\n",
    "retail online store.\n",
    "Create a human readable answer for the for the question.\n",
    "You should only use the information provided in the context and not use your internal knowledge.\n",
    "Don't add any information.\n",
    "Here is an example:\n",
    "\n",
    "Question: Which funds own assets over 10M?\n",
    "Context:[name:ABC Fund, name:Star fund]\"\n",
    "Helpful Answer: ABC Fund and Star fund have assets over 10M.\n",
    "\n",
    "Follow this example when generating answers.\n",
    "You are given the following information:\n",
    "- `Question`: the natural language question from the user\n",
    "- `Graph Schema`: contains the schema of the graph database\n",
    "- `Graph Query`: A Spanner Graph GQL query equivalent of the question from the user used to extract context from the graph database\n",
    "- `Context`: The response from the graph database as context. The context has nodes and edges. Use the relationships.\n",
    "Information:\n",
    "Question: {question}\n",
    "Graph Schema: {graph_schema}\n",
    "Context: {context}\n",
    "\n",
    "Format your answer to be human readable.\n",
    "Use the relationships in the context to answer the question.\n",
    "Only include information that is relevant to a customer.\n",
    "Helpful Answer:\"\"\"\n",
    "\n",
    "prompt = PromptTemplate(\n",
    "    template=SPANNERGRAPH_QA_TEMPLATE,\n",
    "    input_variables=[\"question\", \"graph_schema\", \"context\"],\n",
    ")\n",
    "\n",
    "llm = ChatVertexAI(model=\"gemini-2.0-flash\", temperature=0)\n",
    "\n",
    "chain = prompt | llm | StrOutputParser()"
   ],
   "metadata": {
    "id": "19Amjrge71Ue"
   },
   "execution_count": null,
   "outputs": []
  },
  {
   "cell_type": "code",
   "source": [
    "# @title GraphRAG using Vector Search and Graph Expansion\n",
    "import textwrap\n",
    "from langchain_google_spanner import SpannerGraphVectorContextRetriever\n",
    "from langchain_google_vertexai import VertexAIEmbeddings\n",
    "\n",
    "\n",
    "def use_node_vector_retriever(\n",
    "    question, graph_store, embedding_service, label_expr, expand_by_hops\n",
    "):\n",
    "    retriever = SpannerGraphVectorContextRetriever.from_params(\n",
    "        graph_store=graph_store,\n",
    "        embedding_service=embedding_service,\n",
    "        label_expr=label_expr,\n",
    "        expand_by_hops=expand_by_hops,\n",
    "        top_k=1,\n",
    "        k=10,\n",
    "    )\n",
    "    context = format_docs(retriever.invoke(question))\n",
    "    return context\n",
    "\n",
    "\n",
    "embedding_service = VertexAIEmbeddings(model_name=\"text-embedding-004\")\n",
    "question = \"Give me recommendations for a beginner drone\"\n",
    "context = use_node_vector_retriever(\n",
    "    question, graph_store, embedding_service, label_expr=\"Product\", expand_by_hops=1\n",
    ")\n",
    "\n",
    "answer = chain.invoke(\n",
    "    {\"question\": question, \"graph_schema\": graph_store.get_schema, \"context\": context}\n",
    ")\n",
    "\n",
    "print(\"\\n\\nAnswer:\\n\")\n",
    "print(textwrap.fill(answer, width=80))"
   ],
   "metadata": {
    "colab": {
     "base_uri": "https://localhost:8080/"
    },
    "outputId": "e7946a49-b470-4ded-8d77-28270a33d90f",
    "id": "VK8e9vTK-nJz"
   },
   "execution_count": null,
   "outputs": [
    {
     "output_type": "stream",
     "name": "stdout",
     "text": [
      "Context Retrieved: \n",
      "\n",
      "[{\"kind\": \"node\", \"labels\": [\"Product\"], \"properties\": {\"deal_end_date\": null,\n",
      "\"features\": \"Simple Controls: Beginner friendly and intuitive controls, plus\n",
      "automatic takeoff and landing.\\nTough Build: Designed to handle rookie mistakes,\n",
      "thanks to its robust construction.\\nCapture Memories: Record crisp HD photos and\n",
      "videos from above.\\nExtended Fun: Enjoy up to 15 minutes of flight time per\n",
      "charge.\\nWorry-Free Flying: Free Fly mode lets you fly without directional\n",
      "concerns.\", \"id\": \"Skyhawk Zephyr Drone\", \"name\": null, \"price\": \"$129.99\",\n",
      "\"weight\": \"220g (7.8 oz)\"}}]\n",
      "\n",
      "\n",
      "[{\"kind\": \"node\", \"labels\": [\"Product\"], \"properties\": {\"deal_end_date\": null,\n",
      "\"features\": \"Simple Controls: Beginner friendly and intuitive controls, plus\n",
      "automatic takeoff and landing.\\nTough Build: Designed to handle rookie mistakes,\n",
      "thanks to its robust construction.\\nCapture Memories: Record crisp HD photos and\n",
      "videos from above.\\nExtended Fun: Enjoy up to 15 minutes of flight time per\n",
      "charge.\\nWorry-Free Flying: Free Fly mode lets you fly without directional\n",
      "concerns.\", \"id\": \"Skyhawk Zephyr Drone\", \"name\": null, \"price\": \"$129.99\",\n",
      "\"weight\": \"220g (7.8 oz)\"}}, {\"kind\": \"edge\", \"labels\":\n",
      "[\"Product_HAS_DEAL_Deal\"], \"properties\": {\"id\": \"Skyhawk Zephyr Drone\",\n",
      "\"target_id\": \"Limited-Time Offer: Skyhawk Zephyr Drone\"}}, {\"kind\": \"node\",\n",
      "\"labels\": [\"Deal\"], \"properties\": {\"deal_end_date\": \"2025-05-31\", \"id\":\n",
      "\"Limited-Time Offer: Skyhawk Zephyr Drone\", \"price\": null}}]\n",
      "\n",
      "\n",
      "[{\"kind\": \"node\", \"labels\": [\"Product\"], \"properties\": {\"deal_end_date\": null,\n",
      "\"features\": \"Simple Controls: Beginner friendly and intuitive controls, plus\n",
      "automatic takeoff and landing.\\nTough Build: Designed to handle rookie mistakes,\n",
      "thanks to its robust construction.\\nCapture Memories: Record crisp HD photos and\n",
      "videos from above.\\nExtended Fun: Enjoy up to 15 minutes of flight time per\n",
      "charge.\\nWorry-Free Flying: Free Fly mode lets you fly without directional\n",
      "concerns.\", \"id\": \"Skyhawk Zephyr Drone\", \"name\": null, \"price\": \"$129.99\",\n",
      "\"weight\": \"220g (7.8 oz)\"}}, {\"kind\": \"edge\", \"labels\":\n",
      "[\"Product_IN_BUNDLE_Bundle\"], \"properties\": {\"id\": \"Skyhawk Zephyr Drone\",\n",
      "\"target_id\": \"Skyhawk Zephyr Explorer Package\"}}, {\"kind\": \"node\", \"labels\":\n",
      "[\"Bundle\"], \"properties\": {\"id\": \"Skyhawk Zephyr Explorer Package\", \"price\":\n",
      "\"179.99\"}}]\n",
      "\n",
      "\n",
      "[{\"kind\": \"node\", \"labels\": [\"Product\"], \"properties\": {\"deal_end_date\": null,\n",
      "\"features\": \"Simple Controls: Beginner friendly and intuitive controls, plus\n",
      "automatic takeoff and landing.\\nTough Build: Designed to handle rookie mistakes,\n",
      "thanks to its robust construction.\\nCapture Memories: Record crisp HD photos and\n",
      "videos from above.\\nExtended Fun: Enjoy up to 15 minutes of flight time per\n",
      "charge.\\nWorry-Free Flying: Free Fly mode lets you fly without directional\n",
      "concerns.\", \"id\": \"Skyhawk Zephyr Drone\", \"name\": null, \"price\": \"$129.99\",\n",
      "\"weight\": \"220g (7.8 oz)\"}}, {\"kind\": \"edge\", \"labels\":\n",
      "[\"Product_IN_BUNDLE_Bundle\"], \"properties\": {\"id\": \"Skyhawk Zephyr Drone\",\n",
      "\"target_id\": \"Skyhawk Zephyr Starter Package\"}}, {\"kind\": \"node\", \"labels\":\n",
      "[\"Bundle\"], \"properties\": {\"id\": \"Skyhawk Zephyr Starter Package\", \"price\":\n",
      "\"129.99\"}}]\n",
      "\n",
      "\n",
      "[{\"kind\": \"node\", \"labels\": [\"Product\"], \"properties\": {\"deal_end_date\": null,\n",
      "\"features\": \"Simple Controls: Beginner friendly and intuitive controls, plus\n",
      "automatic takeoff and landing.\\nTough Build: Designed to handle rookie mistakes,\n",
      "thanks to its robust construction.\\nCapture Memories: Record crisp HD photos and\n",
      "videos from above.\\nExtended Fun: Enjoy up to 15 minutes of flight time per\n",
      "charge.\\nWorry-Free Flying: Free Fly mode lets you fly without directional\n",
      "concerns.\", \"id\": \"Skyhawk Zephyr Drone\", \"name\": null, \"price\": \"$129.99\",\n",
      "\"weight\": \"220g (7.8 oz)\"}}, {\"kind\": \"edge\", \"labels\":\n",
      "[\"Product_IN_CATEGORY_Category\"], \"properties\": {\"id\": \"Skyhawk Zephyr Drone\",\n",
      "\"target_id\": \"Drone\"}}, {\"kind\": \"node\", \"labels\": [\"Category\"], \"properties\":\n",
      "{\"id\": \"Drone\", \"name\": null}}]\n",
      "\n",
      "\n",
      "[{\"kind\": \"node\", \"labels\": [\"Product\"], \"properties\": {\"deal_end_date\": null,\n",
      "\"features\": \"Simple Controls: Beginner friendly and intuitive controls, plus\n",
      "automatic takeoff and landing.\\nTough Build: Designed to handle rookie mistakes,\n",
      "thanks to its robust construction.\\nCapture Memories: Record crisp HD photos and\n",
      "videos from above.\\nExtended Fun: Enjoy up to 15 minutes of flight time per\n",
      "charge.\\nWorry-Free Flying: Free Fly mode lets you fly without directional\n",
      "concerns.\", \"id\": \"Skyhawk Zephyr Drone\", \"name\": null, \"price\": \"$129.99\",\n",
      "\"weight\": \"220g (7.8 oz)\"}}, {\"kind\": \"edge\", \"labels\":\n",
      "[\"Product_IN_SEGMENT_Segment\"], \"properties\": {\"id\": \"Skyhawk Zephyr Drone\",\n",
      "\"target_id\": \"Home\"}}, {\"kind\": \"node\", \"labels\": [\"Segment\"], \"properties\":\n",
      "{\"id\": \"Home\", \"name\": \"Home\"}}]\n",
      "\n",
      "\n",
      "[{\"kind\": \"node\", \"labels\": [\"Product\"], \"properties\": {\"deal_end_date\": null,\n",
      "\"features\": \"Simple Controls: Beginner friendly and intuitive controls, plus\n",
      "automatic takeoff and landing.\\nTough Build: Designed to handle rookie mistakes,\n",
      "thanks to its robust construction.\\nCapture Memories: Record crisp HD photos and\n",
      "videos from above.\\nExtended Fun: Enjoy up to 15 minutes of flight time per\n",
      "charge.\\nWorry-Free Flying: Free Fly mode lets you fly without directional\n",
      "concerns.\", \"id\": \"Skyhawk Zephyr Drone\", \"name\": null, \"price\": \"$129.99\",\n",
      "\"weight\": \"220g (7.8 oz)\"}}, {\"kind\": \"edge\", \"labels\":\n",
      "[\"Product_IS_ACCESSORY_OF_Product\"], \"properties\": {\"id\": \"Skyhawk Zephyr\n",
      "Extended Battery\", \"target_id\": \"Skyhawk Zephyr Drone\"}}, {\"kind\": \"node\",\n",
      "\"labels\": [\"Product\"], \"properties\": {\"deal_end_date\": null, \"features\":\n",
      "\"Increased Capacity: Enjoy up to 25 minutes of flight time on a single charge, a\n",
      "67% increase over the standard battery.\\nEasy Installation: Seamlessly swap out\n",
      "with the original battery in seconds.\\nSafe and Reliable: Built to the same\n",
      "high-quality standards as the SkyHawk Zephyr drone.\", \"id\": \"Skyhawk Zephyr\n",
      "Extended Battery\", \"name\": null, \"price\": \"$29.99\", \"weight\": \"70g (2.5 oz)\"}}]\n",
      "\n",
      "\n",
      "[{\"kind\": \"node\", \"labels\": [\"Product\"], \"properties\": {\"deal_end_date\": null,\n",
      "\"features\": \"Simple Controls: Beginner friendly and intuitive controls, plus\n",
      "automatic takeoff and landing.\\nTough Build: Designed to handle rookie mistakes,\n",
      "thanks to its robust construction.\\nCapture Memories: Record crisp HD photos and\n",
      "videos from above.\\nExtended Fun: Enjoy up to 15 minutes of flight time per\n",
      "charge.\\nWorry-Free Flying: Free Fly mode lets you fly without directional\n",
      "concerns.\", \"id\": \"Skyhawk Zephyr Drone\", \"name\": null, \"price\": \"$129.99\",\n",
      "\"weight\": \"220g (7.8 oz)\"}}, {\"kind\": \"edge\", \"labels\":\n",
      "[\"Product_IS_ACCESSORY_OF_Product\"], \"properties\": {\"id\": \"Skyhawk Zephyr\n",
      "Propeller Guards\", \"target_id\": \"Skyhawk Zephyr Drone\"}}, {\"kind\": \"node\",\n",
      "\"labels\": [\"Product\"], \"properties\": {\"deal_end_date\": null, \"features\":\n",
      "\"Enhanced Safety: Prevent accidental damage to the propellers and surroundings\n",
      "during flight.\\nLightweight Design: Minimal impact on flight performance.\\nEasy\n",
      "Installation: Snap on and off in seconds for quick and convenient\n",
      "use.\\nIncreased Durability: Provides an extra layer of protection for your\n",
      "drone.\", \"id\": \"Skyhawk Zephyr Propeller Guards\", \"name\": null, \"price\":\n",
      "\"$14.99\", \"weight\": \"20g (0.7 oz)\"}}]\n",
      "\n",
      "\n",
      "[{\"kind\": \"node\", \"labels\": [\"Product\"], \"properties\": {\"deal_end_date\": null,\n",
      "\"features\": \"Simple Controls: Beginner friendly and intuitive controls, plus\n",
      "automatic takeoff and landing.\\nTough Build: Designed to handle rookie mistakes,\n",
      "thanks to its robust construction.\\nCapture Memories: Record crisp HD photos and\n",
      "videos from above.\\nExtended Fun: Enjoy up to 15 minutes of flight time per\n",
      "charge.\\nWorry-Free Flying: Free Fly mode lets you fly without directional\n",
      "concerns.\", \"id\": \"Skyhawk Zephyr Drone\", \"name\": null, \"price\": \"$129.99\",\n",
      "\"weight\": \"220g (7.8 oz)\"}}, {\"kind\": \"edge\", \"labels\":\n",
      "[\"Product_IS_UPGRADE_OF_Product\"], \"properties\": {\"id\": \"Skyhawk Zephyr 2.0\",\n",
      "\"target_id\": \"Skyhawk Zephyr Drone\"}}, {\"kind\": \"node\", \"labels\": [\"Product\"],\n",
      "\"properties\": {\"deal_end_date\": null, \"features\": \"4K Camera: Capture\n",
      "breathtaking aerial footage in stunning 4K resolution with enhanced image\n",
      "stabilization.\\nExtended Flight Time: Enjoy up to 20 minutes of flight time on a\n",
      "single charge.\\nIncreased Range: Fly farther with an extended control range of\n",
      "up to 1.2km (3/4 mile).\\nIntelligent Flight Modes: Explore creative filming\n",
      "options with Follow Me, Orbit, and Waypoint modes.\\nGPS-Assisted Flight: Benefit\n",
      "from precise positioning and enhanced safety features like Return-to-\n",
      "Home.\\nUpgraded Motors: Experience smoother, more responsive flight and\n",
      "increased agility.\\nStreamlined Design: A sleek and aerodynamic design for\n",
      "improved flight performance.\", \"id\": \"Skyhawk Zephyr 2.0\", \"name\": null,\n",
      "\"price\": \"199.99\", \"weight\": \"250g (8.8 oz)\"}}]\n",
      "\n",
      "\n",
      "[{\"kind\": \"node\", \"labels\": [\"Product\"], \"properties\": {\"deal_end_date\": null,\n",
      "\"features\": \"Simple Controls: Beginner friendly and intuitive controls, plus\n",
      "automatic takeoff and landing.\\nTough Build: Designed to handle rookie mistakes,\n",
      "thanks to its robust construction.\\nCapture Memories: Record crisp HD photos and\n",
      "videos from above.\\nExtended Fun: Enjoy up to 15 minutes of flight time per\n",
      "charge.\\nWorry-Free Flying: Free Fly mode lets you fly without directional\n",
      "concerns.\", \"id\": \"Skyhawk Zephyr Drone\", \"name\": null, \"price\": \"$129.99\",\n",
      "\"weight\": \"220g (7.8 oz)\"}}, {\"kind\": \"edge\", \"labels\":\n",
      "[\"Product_TAGGED_WITH_Tag\"], \"properties\": {\"id\": \"Skyhawk Zephyr Drone\",\n",
      "\"target_id\": \"Photography\"}}, {\"kind\": \"node\", \"labels\": [\"Tag\"], \"properties\":\n",
      "{\"id\": \"Photography\", \"name\": null}}]\n",
      "\n",
      "\n",
      "\n",
      "\n",
      "Answer:\n",
      "\n",
      "The Skyhawk Zephyr Drone has beginner friendly and intuitive controls, plus\n",
      "automatic takeoff and landing and is $129.99. It is in the Drone category and\n",
      "Home segment. It has a deal called Limited-Time Offer: Skyhawk Zephyr Drone that\n",
      "ends on 2025-05-31. It can be bought in the Skyhawk Zephyr Explorer Package for\n",
      "$179.99 or the Skyhawk Zephyr Starter Package for $129.99. The Skyhawk Zephyr\n",
      "Extended Battery is an accessory. The Skyhawk Zephyr Propeller Guards are also\n",
      "an accessory. The Skyhawk Zephyr 2.0 is an upgrade.\n"
     ]
    }
   ]
  },
  {
   "cell_type": "markdown",
   "source": [
    "## Compare with Conventional RAG"
   ],
   "metadata": {
    "id": "-FDDqobRE-8D"
   }
  },
  {
   "cell_type": "code",
   "source": [
    "# @title Define table name\n",
    "TABLE_NAME = \"my_table\"  # @param {\"type\":\"string\"}"
   ],
   "metadata": {
    "id": "YfRxVV8_PCSh",
    "cellView": "form"
   },
   "execution_count": null,
   "outputs": []
  },
  {
   "cell_type": "code",
   "source": [
    "# @title Setup and load data for vector search\n",
    "from langchain_google_spanner import SpannerVectorStore\n",
    "from langchain_google_vertexai import VertexAIEmbeddings\n",
    "from langchain_text_splitters import RecursiveCharacterTextSplitter\n",
    "\n",
    "import uuid\n",
    "\n",
    "\n",
    "def load_data_for_vector_search(splits):\n",
    "    embeddings = VertexAIEmbeddings(model_name=\"text-embedding-004\")\n",
    "\n",
    "    SpannerVectorStore.init_vector_store_table(\n",
    "        instance_id=INSTANCE,\n",
    "        database_id=DATABASE,\n",
    "        table_name=TABLE_NAME,\n",
    "    )\n",
    "    db = SpannerVectorStore(\n",
    "        instance_id=INSTANCE,\n",
    "        database_id=DATABASE,\n",
    "        table_name=TABLE_NAME,\n",
    "        embedding_service=embeddings,\n",
    "    )\n",
    "    # Add the chunks to Spanner Vector Store with embeddings\n",
    "    ids = [str(uuid.uuid4()) for _ in range(len(splits))]\n",
    "    row_ids = db.add_documents(splits, ids)\n",
    "\n",
    "\n",
    "# Create splits for documents\n",
    "text_splitter = RecursiveCharacterTextSplitter(chunk_size=2000, chunk_overlap=200)\n",
    "splits = text_splitter.split_documents(\n",
    "    [document for document_list in document_lists for document in document_list]\n",
    ")\n",
    "\n",
    "# Initialize table and load data\n",
    "embeddings = VertexAIEmbeddings(model_name=\"text-embedding-004\")\n",
    "load_data_for_vector_search(splits)"
   ],
   "metadata": {
    "id": "urR34wZTFDr_",
    "colab": {
     "base_uri": "https://localhost:8080/"
    },
    "outputId": "13a8976e-92ec-4289-cf95-83b041b0e1a3"
   },
   "execution_count": null,
   "outputs": [
    {
     "output_type": "stream",
     "name": "stdout",
     "text": [
      "Waiting for operation to complete...\n"
     ]
    }
   ]
  },
  {
   "cell_type": "code",
   "source": [
    "# @title Create a conventional RAG chain\n",
    "\n",
    "from langchain_core.runnables import RunnablePassthrough\n",
    "from langchain_google_spanner import SpannerVectorStore\n",
    "import textwrap\n",
    "\n",
    "\n",
    "# Retrieve and generate using the relevant snippets of the blog.\n",
    "def format_docs(docs):\n",
    "    print(\"Context Retrieved: \\n\")\n",
    "    for doc in docs:\n",
    "        print(textwrap.fill(doc.page_content, width=80))\n",
    "        print(\"\\n\")\n",
    "\n",
    "    context = \"\\n\\n\".join(doc.page_content for doc in docs)\n",
    "    return context\n",
    "\n",
    "\n",
    "prompt = PromptTemplate(\n",
    "    template=\"\"\"\n",
    "    You are a friendly digital shopping assistant.\n",
    "    Use the following pieces of retrieved context to answer the question.\n",
    "    If you don't know the answer, just say that you don't know.\n",
    "    Question: {question}\n",
    "    Context: {context}\n",
    "    Answer:\n",
    "  \"\"\",\n",
    "    input_variables=[\"context\", \"question\"],\n",
    ")\n",
    "\n",
    "# Create a rag chain\n",
    "embeddings = VertexAIEmbeddings(model_name=\"text-embedding-004\")\n",
    "\n",
    "db = SpannerVectorStore(\n",
    "    instance_id=INSTANCE,\n",
    "    database_id=DATABASE,\n",
    "    table_name=TABLE_NAME,\n",
    "    embedding_service=embeddings,\n",
    ")\n",
    "vector_retriever = db.as_retriever(search_kwargs={\"k\": 3})\n",
    "rag_chain = (\n",
    "    {\n",
    "        \"context\": vector_retriever | format_docs,\n",
    "        \"question\": RunnablePassthrough(),\n",
    "    }\n",
    "    | prompt\n",
    "    | llm\n",
    "    | StrOutputParser()\n",
    ")"
   ],
   "metadata": {
    "id": "vs9-lZiUIC07"
   },
   "execution_count": null,
   "outputs": []
  },
  {
   "cell_type": "code",
   "source": [
    "# @title Run conventional RAG chain\n",
    "import textwrap\n",
    "\n",
    "question = \"I am looking for an beginner drone. Please give me some recommendations.\"\n",
    "resp = rag_chain.invoke(question)\n",
    "print(\"\\n\\nRag Response:\\n\")\n",
    "print(textwrap.fill(resp, width=80))"
   ],
   "metadata": {
    "colab": {
     "base_uri": "https://localhost:8080/"
    },
    "id": "lkYxWBvvIn4K",
    "outputId": "6e0b259f-4a45-4662-bbf8-476294d85e0f"
   },
   "execution_count": null,
   "outputs": [
    {
     "output_type": "stream",
     "name": "stdout",
     "text": [
      "Context Retrieved: \n",
      "\n",
      "Product: SkyHawk Zephyr Drone   Price: $129.99   Weight: 220g (7.8 oz)   The\n",
      "SkyHawk Zephyr is the perfect drone for beginners. It's built for effortless\n",
      "flying, offering a smooth and enjoyable experience from the moment you unpack\n",
      "it.   Features:   Simple Controls: Beginner friendly and intuitive controls,\n",
      "plus automatic takeoff and landing.   Tough Build: Designed to handle rookie\n",
      "mistakes, thanks to its robust construction.   Capture Memories: Record crisp HD\n",
      "photos and videos from above.   Extended Fun: Enjoy up to 15 minutes of flight\n",
      "time per charge.   Worry-Free Flying: Free Fly mode lets you fly without\n",
      "directional concerns.   Take your first flight with the SkyHawk Zephyr and\n",
      "discover the joy of aerial views!    Category: Drone   Segment: ['Home']   Tags:\n",
      "['Photography', 'Videography']\n",
      "\n",
      "\n",
      "Bundle:SkyHawk Zephyr Starter Package   Price: $129.99   Everything you need to\n",
      "begin your drone journey:   This package includes the essentials to get you\n",
      "flying and capturing stunning aerial footage. Perfect for first-time pilots who\n",
      "want a user-friendly and reliable drone.   Package Includes:   SkyHawk Zephyr\n",
      "Drone   Remote Controller   Rechargeable Battery   USB Charging Cable   Spare\n",
      "Propellers   User Manual   Take flight with the SkyHawk Zephyr Starter Package!\n",
      "Tags: ['Photography', 'Videography']\n",
      "\n",
      "\n",
      "Limited-Time Offer: SkyHawk Zephyr Drone   Save on your first drone   Deal\n",
      "Price: $109.99  (Original Price: $129.99)   Offer valid till 31st\n",
      "May 2025 or while supplies last.   Tags: ['Photography', 'Videography']\n",
      "\n",
      "\n",
      "\n",
      "\n",
      "Rag Response:\n",
      "\n",
      "I would recommend the SkyHawk Zephyr Drone. It is perfect for beginners because\n",
      "it is built for effortless flying, offering a smooth and enjoyable experience.\n",
      "It has simple, beginner-friendly controls, plus automatic takeoff and landing.\n",
      "It is also designed to handle rookie mistakes, thanks to its robust\n",
      "construction. It also has a deal price of $109.99 (Original Price: $129.99).\n"
     ]
    }
   ]
  },
  {
   "cell_type": "markdown",
   "source": [
    "## Clean up the graph\n",
    "\n",
    "> USE IT WITH CAUTION!\n",
    "\n",
    "Clean up all the nodes/edges in your graph and remove your graph definition."
   ],
   "metadata": {
    "id": "pM7TmfI0TEFy"
   }
  },
  {
   "cell_type": "code",
   "source": [
    "graph_store.cleanup()"
   ],
   "metadata": {
    "id": "UQWq4-sITOgl"
   },
   "execution_count": null,
   "outputs": []
  }
 ]
}
