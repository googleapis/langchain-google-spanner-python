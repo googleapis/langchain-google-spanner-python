{
 "nbformat": 4,
 "nbformat_minor": 4,
 "metadata": {
  "kernelspec": {
   "display_name": "Python 3 (ipykernel)",
   "language": "python",
   "name": "python3"
  },
  "language_info": {
   "codemirror_mode": {
    "name": "ipython",
    "version": 3
   },
   "file_extension": ".py",
   "mimetype": "text/x-python",
   "name": "python",
   "nbconvert_exporter": "python",
   "pygments_lexer": "ipython3",
   "version": "3.11.5"
  }
 },
 "cells": [
  {
   "cell_type": "markdown",
   "source": [
    "# Google Spanner\n",
    "\n",
    "> [Spanner](https://cloud.google.com/spanner) is a highly scalable database that combines unlimited scalability with relational semantics, such as secondary indexes, strong consistency, schemas, and SQL providing 99.999% availability in one easy solution.\n",
    "\n",
    "This notebook goes over how to use `Spanner` for GraphRAG with `SpannerGraphStore` class.\n",
    "\n",
    "Learn more about the package on [GitHub](https://github.com/googleapis/langchain-google-spanner-python/).\n",
    "\n",
    "[![Open In Colab](https://colab.research.google.com/assets/colab-badge.svg)](https://colab.research.google.com/github/googleapis/langchain-google-spanner-python/blob/main/docs/graph_store.ipynb)"
   ],
   "metadata": {
    "id": "7VBkjcqNNxEd"
   }
  },
  {
   "cell_type": "markdown",
   "source": [
    "## Before You Begin\n",
    "\n",
    "To run this notebook, you will need to do the following:\n",
    "\n",
    " * [Create a Google Cloud Project](https://developers.google.com/workspace/guides/create-project)\n",
    " * [Enable the Cloud Spanner API](https://console.cloud.google.com/flows/enableapi?apiid=spanner.googleapis.com)\n",
    " * [Create a Spanner instance](https://cloud.google.com/spanner/docs/create-manage-instances)\n",
    " * [Create a Spanner database](https://cloud.google.com/spanner/docs/create-manage-databases)"
   ],
   "metadata": {
    "id": "HEAGYTPgNydh"
   }
  },
  {
   "cell_type": "markdown",
   "source": [
    "### 🦜🔗 Library Installation\n",
    "The integration lives in its own `langchain-google-spanner` package, so we need to install it."
   ],
   "metadata": {
    "id": "cboPIg-yOcxS"
   }
  },
  {
   "cell_type": "code",
   "source": [
    "%pip install --upgrade --quiet langchain-google-spanner langchain-google-vertexai langchain-experimental json-repair wikipedia pyvis youtube-transcript-api"
   ],
   "metadata": {
    "id": "AOWh6QKYVdDp"
   },
   "execution_count": null,
   "outputs": []
  },
  {
   "cell_type": "markdown",
   "source": [
    "**Colab only:** Uncomment the following cell to restart the kernel or use the button to restart the kernel. For Vertex AI Workbench you can restart the terminal using the button on top."
   ],
   "metadata": {
    "id": "M7MqpDhkOiP-"
   }
  },
  {
   "cell_type": "code",
   "source": [
    "# # Automatically restart kernel after installs so that your environment can access the new packages\n",
    "import IPython\n",
    "\n",
    "app = IPython.Application.instance()\n",
    "app.kernel.do_shutdown(True)"
   ],
   "metadata": {
    "id": "xzgVZv0POj17",
    "outputId": "066ba1ae-c89e-427e-8a98-7f76f90155d0"
   },
   "execution_count": null,
   "outputs": [
    {
     "output_type": "execute_result",
     "data": {
      "text/plain": [
       "{'status': 'ok', 'restart': True}"
      ]
     },
     "metadata": {},
     "execution_count": 3
    }
   ]
  },
  {
   "cell_type": "markdown",
   "source": [
    "### 🔐 Authentication\n",
    "Authenticate to Google Cloud as the IAM user logged into this notebook in order to access your Google Cloud Project.\n",
    "\n",
    "* If you are using Colab to run this notebook, use the cell below and continue.\n",
    "* If you are using Vertex AI Workbench, check out the setup instructions [here](https://github.com/GoogleCloudPlatform/generative-ai/tree/main/setup-env)."
   ],
   "metadata": {
    "id": "zfIhwIryOls1"
   }
  },
  {
   "cell_type": "code",
   "source": [
    "from google.colab import auth\n",
    "\n",
    "auth.authenticate_user()"
   ],
   "metadata": {
    "id": "EWOkHI7XOna2"
   },
   "execution_count": null,
   "outputs": []
  },
  {
   "cell_type": "markdown",
   "source": [
    "### ☁ Set Your Google Cloud Project\n",
    "Set your Google Cloud project so that you can leverage Google Cloud resources within this notebook.\n",
    "\n",
    "If you don't know your project ID, try the following:\n",
    "\n",
    "* Run `gcloud config list`.\n",
    "* Run `gcloud projects list`.\n",
    "* See the support page: [Locate the project ID](https://support.google.com/googleapi/answer/7014113)."
   ],
   "metadata": {
    "id": "6xHXneICOpsB"
   }
  },
  {
   "cell_type": "code",
   "source": [
    "# @markdown Please fill in the value below with your Google Cloud project ID and then run the cell.\n",
    "\n",
    "PROJECT_ID = \"\"  # @param {type:\"string\"}\n",
    "\n",
    "# Set the project id\n",
    "!gcloud config set project {PROJECT_ID}\n",
    "%env GOOGLE_CLOUD_PROJECT={PROJECT_ID}"
   ],
   "metadata": {
    "id": "hF0481BGOsS8"
   },
   "execution_count": null,
   "outputs": []
  },
  {
   "cell_type": "markdown",
   "source": [
    "### 💡 API Enablement\n",
    "The `langchain-google-spanner` package requires that you [enable the Spanner API](https://console.cloud.google.com/flows/enableapi?apiid=spanner.googleapis.com) in your Google Cloud Project."
   ],
   "metadata": {
    "id": "4TiC0RbhOwUu"
   }
  },
  {
   "cell_type": "code",
   "source": [
    "# enable Spanner API\n",
    "!gcloud services enable spanner.googleapis.com"
   ],
   "metadata": {
    "id": "9f3fJd5eOyRr"
   },
   "execution_count": null,
   "outputs": []
  },
  {
   "cell_type": "markdown",
   "source": [
    "## Basic Usage"
   ],
   "metadata": {
    "id": "k5pxMMiMOzt7"
   }
  },
  {
   "cell_type": "markdown",
   "source": [
    "### Set Spanner database values\n",
    "Find your database values, in the [Spanner Instances page](https://console.cloud.google.com/spanner?_ga=2.223735448.2062268965.1707700487-2088871159.1707257687)."
   ],
   "metadata": {
    "id": "mtDbLU5sO2iA"
   }
  },
  {
   "cell_type": "code",
   "source": [
    "# @title Set Your Values Here { display-mode: \"form\" }\n",
    "INSTANCE = \"\"  # @param {type: \"string\"}\n",
    "DATABASE = \"\"  # @param {type: \"string\"}\n",
    "GRAPH_NAME = \"\"  # @param {type: \"string\"}"
   ],
   "metadata": {
    "id": "C-I8VTIcO442"
   },
   "execution_count": null,
   "outputs": []
  },
  {
   "cell_type": "markdown",
   "source": [
    "### SpannerGraphStore\n",
    "\n",
    "To initialize the `SpannerGraphStore` class you need to provide 3 required arguments and other arguments are optional and only need to pass if it's different from default ones\n",
    "\n",
    "1.   a Spanner instance id;\n",
    "2.   a Spanner database id belongs to the above instance id;\n",
    "3.   a Spanner graph name used to create a graph in the above database."
   ],
   "metadata": {
    "id": "kpAv-tpcO_iL"
   }
  },
  {
   "cell_type": "code",
   "source": [
    "from langchain_google_spanner import SpannerGraphStore\n",
    "\n",
    "graph_store = SpannerGraphStore(\n",
    "    instance_id=INSTANCE,\n",
    "    database_id=DATABASE,\n",
    "    graph_name=GRAPH_NAME,\n",
    ")"
   ],
   "metadata": {
    "id": "u589YapWQFb8"
   },
   "execution_count": null,
   "outputs": []
  },
  {
   "cell_type": "markdown",
   "source": [
    "#### Add Graph Documents\n",
    "To add graph documents in the graph store."
   ],
   "metadata": {
    "id": "G7-Pe2ADQlNJ"
   }
  },
  {
   "cell_type": "code",
   "source": [
    "# @title Get graph documents from Wikipedia & YouTube\n",
    "from langchain_community.document_loaders import WikipediaLoader, YoutubeLoader\n",
    "from langchain_experimental.graph_transformers import LLMGraphTransformer\n",
    "from langchain_google_vertexai.llms import VertexAI\n",
    "\n",
    "llm = VertexAI(model_name=\"text-bison\")\n",
    "llm_transformer = LLMGraphTransformer(llm=llm)\n",
    "\n",
    "\n",
    "def get_document_from_wiki(query):\n",
    "    print(\"Fetching document from Wikipedia: `%s`\" % query)\n",
    "    loader = WikipediaLoader(query=query, load_max_docs=1)\n",
    "    return loader.load()\n",
    "\n",
    "\n",
    "def get_document_from_youtube(link):\n",
    "    print(\"Fetching document from YouTube: `%s`\" % link)\n",
    "    loader = YoutubeLoader.from_youtube_url(link)\n",
    "    return loader.load()\n",
    "\n",
    "\n",
    "document_batch = list(map(get_document_from_wiki, [\"Google\"]))\n",
    "document_batch += list(\n",
    "    map(get_document_from_youtube, [\"https://www.youtube.com/watch?v=WsEQjeZoEng\"])\n",
    ")\n",
    "graph_documents = llm_transformer.convert_to_graph_documents(\n",
    "    [document for documents in document_batch for document in documents]\n",
    ")"
   ],
   "metadata": {
    "id": "0rdoT01aRiNI",
    "colab": {
     "base_uri": "https://localhost:8080/"
    },
    "outputId": "c63f6325-3e64-481e-e3d8-a3cb73be2d95"
   },
   "execution_count": null,
   "outputs": [
    {
     "output_type": "stream",
     "name": "stdout",
     "text": [
      "Fetching document from Wikipedia: `Google`\n",
      "Fetching document from YouTube: `https://www.youtube.com/watch?v=WsEQjeZoEng`\n"
     ]
    }
   ]
  },
  {
   "cell_type": "code",
   "source": [
    "for doc in graph_documents:\n",
    "    print(doc.source.page_content[:100])\n",
    "    print(doc.nodes)\n",
    "    print(doc.relationships)\n",
    "    print()"
   ],
   "metadata": {
    "colab": {
     "base_uri": "https://localhost:8080/"
    },
    "id": "OylyNyv-ZsT2",
    "outputId": "875bf1c3-62e5-4a0b-d064-1900ecc8d405"
   },
   "execution_count": null,
   "outputs": [
    {
     "output_type": "stream",
     "name": "stdout",
     "text": [
      "Google LLC (  GOO-ghəl) is an American multinational corporation and technology company focusing on \n",
      "[Node(id='Google LLC', type='Company', properties={}), Node(id='Larry Page', type='Person', properties={}), Node(id='Sergey Brin', type='Person', properties={})]\n",
      "[Relationship(source=Node(id='Google LLC', type='Company', properties={}), target=Node(id='Larry Page', type='Person', properties={}), type='FOUNDED_BY', properties={}), Relationship(source=Node(id='Google LLC', type='Company', properties={}), target=Node(id='Sergey Brin', type='Person', properties={}), type='FOUNDED_BY', properties={})]\n",
      "\n",
      "[MUSIC PLAYING] [APPLAUSE] SUNDAR PICHAI: At Google, we\n",
      "are fully in our Gemini era. Today, all of o\n",
      "[Node(id='Google', type='Company', properties={}), Node(id='Gemini', type='Product', properties={}), Node(id='summarize emails', type='Feature', properties={})]\n",
      "[Relationship(source=Node(id='Google', type='Company', properties={}), target=Node(id='Gemini', type='Product', properties={}), type='HAS_PRODUCT', properties={}), Relationship(source=Node(id='Gemini', type='Product', properties={}), target=Node(id='summarize emails', type='Feature', properties={}), type='HAS_FEATURE', properties={})]\n",
      "\n"
     ]
    }
   ]
  },
  {
   "cell_type": "code",
   "source": [
    "graph_store.cleanup()\n",
    "\n",
    "for graph_document in graph_documents:\n",
    "    graph_store.add_graph_documents([graph_document])"
   ],
   "metadata": {
    "colab": {
     "base_uri": "https://localhost:8080/"
    },
    "id": "lMXvOpRbZdau",
    "outputId": "3c6ca58c-0e6a-4b7f-a204-eab08adb2761"
   },
   "execution_count": null,
   "outputs": [
    {
     "output_type": "stream",
     "name": "stdout",
     "text": [
      "Waiting for DDL operations to complete...\n",
      "Waiting for DDL operations to complete...\n",
      "Waiting for DDL operations to complete...\n",
      "Waiting for DDL operations to complete...\n",
      "Insert nodes of type `Company`...\n",
      "Executed DML statement: 1 rows updated\n",
      "Insert nodes of type `Person`...\n",
      "Executed DML statement: 2 rows updated\n",
      "Insert edges of type `FOUNDED_BY`...\n",
      "Executed DML statement: 2 rows updated\n",
      "Waiting for DDL operations to complete...\n",
      "Insert nodes of type `Company`...\n",
      "Executed DML statement: 1 rows updated\n",
      "Insert nodes of type `Product`...\n",
      "Executed DML statement: 1 rows updated\n",
      "Insert nodes of type `Feature`...\n",
      "Executed DML statement: 1 rows updated\n",
      "Insert edges of type `HAS_PRODUCT`...\n",
      "Executed DML statement: 1 rows updated\n",
      "Insert edges of type `HAS_FEATURE`...\n",
      "Executed DML statement: 1 rows updated\n"
     ]
    }
   ]
  },
  {
   "cell_type": "markdown",
   "source": [
    "#### Query the graph\n",
    "To traverse the graph in the graph store."
   ],
   "metadata": {
    "id": "v5b572QbSi4t"
   }
  },
  {
   "cell_type": "code",
   "source": [
    "sample_query = \"\"\"\n",
    "  GRAPH {}\n",
    "  MATCH (n:Company WHERE REGEXP_CONTAINS(n.id, 'Google')) -[e]-{{1, 2}} (m)\n",
    "  RETURN ARRAY_AGG(DISTINCT m.id) AS google_related_nodes\n",
    "\"\"\".format(\n",
    "    GRAPH_NAME\n",
    ")\n",
    "\n",
    "print(graph_store.query(sample_query))"
   ],
   "metadata": {
    "id": "9YpR4cauSsfG",
    "colab": {
     "base_uri": "https://localhost:8080/"
    },
    "outputId": "387bb32b-c28b-4be7-efe8-7797c5914d1c"
   },
   "execution_count": null,
   "outputs": [
    {
     "output_type": "stream",
     "name": "stdout",
     "text": [
      "[{'google_related_nodes': ['Larry Page', 'Gemini', 'Google', 'summarize emails', 'Sergey Brin', 'Google LLC']}]\n"
     ]
    }
   ]
  },
  {
   "cell_type": "markdown",
   "source": [
    "#### Visualize the graph"
   ],
   "metadata": {
    "id": "Xau7BXvb_6si"
   }
  },
  {
   "cell_type": "code",
   "source": [
    "from pyvis.network import Network\n",
    "from IPython.core.display import display, HTML\n",
    "\n",
    "net = Network(\n",
    "    notebook=True,\n",
    "    cdn_resources=\"remote\",\n",
    "    bgcolor=\"#222222\",\n",
    "    font_color=\"white\",\n",
    "    height=\"500px\",\n",
    "    width=\"50%\",\n",
    "    directed=True,\n",
    ")\n",
    "\n",
    "node_query = \"\"\"\n",
    "  GRAPH {}\n",
    "  MATCH (n)\n",
    "  RETURN n.id\n",
    "\"\"\".format(\n",
    "    GRAPH_NAME\n",
    ")\n",
    "\n",
    "edge_query = \"\"\"\n",
    "  GRAPH {}\n",
    "  MATCH -[e]->\n",
    "  RETURN e.id AS src_id, e.target_id AS dst_id, labels(e)[0] AS label\n",
    "\"\"\".format(\n",
    "    GRAPH_NAME\n",
    ")\n",
    "\n",
    "nodes = graph_store.query(node_query)\n",
    "edges = graph_store.query(edge_query)\n",
    "\n",
    "net.add_nodes([node[\"id\"] for node in nodes])\n",
    "for edge in edges:\n",
    "    net.add_edge(edge[\"src_id\"], edge[\"dst_id\"], title=edge[\"label\"])\n",
    "\n",
    "net.toggle_physics(True)\n",
    "net.show(\"graph.html\")\n",
    "display(HTML(\"graph.html\"))"
   ],
   "metadata": {
    "colab": {
     "base_uri": "https://localhost:8080/",
     "height": 551
    },
    "id": "pQuQzOng_9GK",
    "outputId": "2d791b28-f51a-4c20-de3b-6293fd84070d"
   },
   "execution_count": null,
   "outputs": [
    {
     "output_type": "stream",
     "name": "stdout",
     "text": [
      "graph.html\n"
     ]
    },
    {
     "output_type": "display_data",
     "data": {
      "text/plain": [
       "<IPython.core.display.HTML object>"
      ],
      "text/html": [
       "<html>\n",
       "    <head>\n",
       "        <meta charset=\"utf-8\">\n",
       "        \n",
       "            <script>function neighbourhoodHighlight(params) {\n",
       "  // console.log(\"in nieghbourhoodhighlight\");\n",
       "  allNodes = nodes.get({ returnType: \"Object\" });\n",
       "  // originalNodes = JSON.parse(JSON.stringify(allNodes));\n",
       "  // if something is selected:\n",
       "  if (params.nodes.length > 0) {\n",
       "    highlightActive = true;\n",
       "    var i, j;\n",
       "    var selectedNode = params.nodes[0];\n",
       "    var degrees = 2;\n",
       "\n",
       "    // mark all nodes as hard to read.\n",
       "    for (let nodeId in allNodes) {\n",
       "      // nodeColors[nodeId] = allNodes[nodeId].color;\n",
       "      allNodes[nodeId].color = \"rgba(200,200,200,0.5)\";\n",
       "      if (allNodes[nodeId].hiddenLabel === undefined) {\n",
       "        allNodes[nodeId].hiddenLabel = allNodes[nodeId].label;\n",
       "        allNodes[nodeId].label = undefined;\n",
       "      }\n",
       "    }\n",
       "    var connectedNodes = network.getConnectedNodes(selectedNode);\n",
       "    var allConnectedNodes = [];\n",
       "\n",
       "    // get the second degree nodes\n",
       "    for (i = 1; i < degrees; i++) {\n",
       "      for (j = 0; j < connectedNodes.length; j++) {\n",
       "        allConnectedNodes = allConnectedNodes.concat(\n",
       "          network.getConnectedNodes(connectedNodes[j])\n",
       "        );\n",
       "      }\n",
       "    }\n",
       "\n",
       "    // all second degree nodes get a different color and their label back\n",
       "    for (i = 0; i < allConnectedNodes.length; i++) {\n",
       "      // allNodes[allConnectedNodes[i]].color = \"pink\";\n",
       "      allNodes[allConnectedNodes[i]].color = \"rgba(150,150,150,0.75)\";\n",
       "      if (allNodes[allConnectedNodes[i]].hiddenLabel !== undefined) {\n",
       "        allNodes[allConnectedNodes[i]].label =\n",
       "          allNodes[allConnectedNodes[i]].hiddenLabel;\n",
       "        allNodes[allConnectedNodes[i]].hiddenLabel = undefined;\n",
       "      }\n",
       "    }\n",
       "\n",
       "    // all first degree nodes get their own color and their label back\n",
       "    for (i = 0; i < connectedNodes.length; i++) {\n",
       "      // allNodes[connectedNodes[i]].color = undefined;\n",
       "      allNodes[connectedNodes[i]].color = nodeColors[connectedNodes[i]];\n",
       "      if (allNodes[connectedNodes[i]].hiddenLabel !== undefined) {\n",
       "        allNodes[connectedNodes[i]].label =\n",
       "          allNodes[connectedNodes[i]].hiddenLabel;\n",
       "        allNodes[connectedNodes[i]].hiddenLabel = undefined;\n",
       "      }\n",
       "    }\n",
       "\n",
       "    // the main node gets its own color and its label back.\n",
       "    // allNodes[selectedNode].color = undefined;\n",
       "    allNodes[selectedNode].color = nodeColors[selectedNode];\n",
       "    if (allNodes[selectedNode].hiddenLabel !== undefined) {\n",
       "      allNodes[selectedNode].label = allNodes[selectedNode].hiddenLabel;\n",
       "      allNodes[selectedNode].hiddenLabel = undefined;\n",
       "    }\n",
       "  } else if (highlightActive === true) {\n",
       "    // console.log(\"highlightActive was true\");\n",
       "    // reset all nodes\n",
       "    for (let nodeId in allNodes) {\n",
       "      // allNodes[nodeId].color = \"purple\";\n",
       "      allNodes[nodeId].color = nodeColors[nodeId];\n",
       "      // delete allNodes[nodeId].color;\n",
       "      if (allNodes[nodeId].hiddenLabel !== undefined) {\n",
       "        allNodes[nodeId].label = allNodes[nodeId].hiddenLabel;\n",
       "        allNodes[nodeId].hiddenLabel = undefined;\n",
       "      }\n",
       "    }\n",
       "    highlightActive = false;\n",
       "  }\n",
       "\n",
       "  // transform the object into an array\n",
       "  var updateArray = [];\n",
       "  if (params.nodes.length > 0) {\n",
       "    for (let nodeId in allNodes) {\n",
       "      if (allNodes.hasOwnProperty(nodeId)) {\n",
       "        // console.log(allNodes[nodeId]);\n",
       "        updateArray.push(allNodes[nodeId]);\n",
       "      }\n",
       "    }\n",
       "    nodes.update(updateArray);\n",
       "  } else {\n",
       "    // console.log(\"Nothing was selected\");\n",
       "    for (let nodeId in allNodes) {\n",
       "      if (allNodes.hasOwnProperty(nodeId)) {\n",
       "        // console.log(allNodes[nodeId]);\n",
       "        // allNodes[nodeId].color = {};\n",
       "        updateArray.push(allNodes[nodeId]);\n",
       "      }\n",
       "    }\n",
       "    nodes.update(updateArray);\n",
       "  }\n",
       "}\n",
       "\n",
       "function filterHighlight(params) {\n",
       "  allNodes = nodes.get({ returnType: \"Object\" });\n",
       "  // if something is selected:\n",
       "  if (params.nodes.length > 0) {\n",
       "    filterActive = true;\n",
       "    let selectedNodes = params.nodes;\n",
       "\n",
       "    // hiding all nodes and saving the label\n",
       "    for (let nodeId in allNodes) {\n",
       "      allNodes[nodeId].hidden = true;\n",
       "      if (allNodes[nodeId].savedLabel === undefined) {\n",
       "        allNodes[nodeId].savedLabel = allNodes[nodeId].label;\n",
       "        allNodes[nodeId].label = undefined;\n",
       "      }\n",
       "    }\n",
       "\n",
       "    for (let i=0; i < selectedNodes.length; i++) {\n",
       "      allNodes[selectedNodes[i]].hidden = false;\n",
       "      if (allNodes[selectedNodes[i]].savedLabel !== undefined) {\n",
       "        allNodes[selectedNodes[i]].label = allNodes[selectedNodes[i]].savedLabel;\n",
       "        allNodes[selectedNodes[i]].savedLabel = undefined;\n",
       "      }\n",
       "    }\n",
       "\n",
       "  } else if (filterActive === true) {\n",
       "    // reset all nodes\n",
       "    for (let nodeId in allNodes) {\n",
       "      allNodes[nodeId].hidden = false;\n",
       "      if (allNodes[nodeId].savedLabel !== undefined) {\n",
       "        allNodes[nodeId].label = allNodes[nodeId].savedLabel;\n",
       "        allNodes[nodeId].savedLabel = undefined;\n",
       "      }\n",
       "    }\n",
       "    filterActive = false;\n",
       "  }\n",
       "\n",
       "  // transform the object into an array\n",
       "  var updateArray = [];\n",
       "  if (params.nodes.length > 0) {\n",
       "    for (let nodeId in allNodes) {\n",
       "      if (allNodes.hasOwnProperty(nodeId)) {\n",
       "        updateArray.push(allNodes[nodeId]);\n",
       "      }\n",
       "    }\n",
       "    nodes.update(updateArray);\n",
       "  } else {\n",
       "    for (let nodeId in allNodes) {\n",
       "      if (allNodes.hasOwnProperty(nodeId)) {\n",
       "        updateArray.push(allNodes[nodeId]);\n",
       "      }\n",
       "    }\n",
       "    nodes.update(updateArray);\n",
       "  }\n",
       "}\n",
       "\n",
       "function selectNode(nodes) {\n",
       "  network.selectNodes(nodes);\n",
       "  neighbourhoodHighlight({ nodes: nodes });\n",
       "  return nodes;\n",
       "}\n",
       "\n",
       "function selectNodes(nodes) {\n",
       "  network.selectNodes(nodes);\n",
       "  filterHighlight({nodes: nodes});\n",
       "  return nodes;\n",
       "}\n",
       "\n",
       "function highlightFilter(filter) {\n",
       "  let selectedNodes = []\n",
       "  let selectedProp = filter['property']\n",
       "  if (filter['item'] === 'node') {\n",
       "    let allNodes = nodes.get({ returnType: \"Object\" });\n",
       "    for (let nodeId in allNodes) {\n",
       "      if (allNodes[nodeId][selectedProp] && filter['value'].includes((allNodes[nodeId][selectedProp]).toString())) {\n",
       "        selectedNodes.push(nodeId)\n",
       "      }\n",
       "    }\n",
       "  }\n",
       "  else if (filter['item'] === 'edge'){\n",
       "    let allEdges = edges.get({returnType: 'object'});\n",
       "    // check if the selected property exists for selected edge and select the nodes connected to the edge\n",
       "    for (let edge in allEdges) {\n",
       "      if (allEdges[edge][selectedProp] && filter['value'].includes((allEdges[edge][selectedProp]).toString())) {\n",
       "        selectedNodes.push(allEdges[edge]['from'])\n",
       "        selectedNodes.push(allEdges[edge]['to'])\n",
       "      }\n",
       "    }\n",
       "  }\n",
       "  selectNodes(selectedNodes)\n",
       "}</script>\n",
       "            <link rel=\"stylesheet\" href=\"https://cdnjs.cloudflare.com/ajax/libs/vis-network/9.1.2/dist/dist/vis-network.min.css\" integrity=\"sha512-WgxfT5LWjfszlPHXRmBWHkV2eceiWTOBvrKCNbdgDYTHrT2AeLCGbF4sZlZw3UMN3WtL0tGUoIAKsu8mllg/XA==\" crossorigin=\"anonymous\" referrerpolicy=\"no-referrer\" />\n",
       "            <script src=\"https://cdnjs.cloudflare.com/ajax/libs/vis-network/9.1.2/dist/vis-network.min.js\" integrity=\"sha512-LnvoEWDFrqGHlHmDD2101OrLcbsfkrzoSpvtSQtxK3RMnRV0eOkhhBN2dXHKRrUU8p2DGRTk35n4O8nWSVe1mQ==\" crossorigin=\"anonymous\" referrerpolicy=\"no-referrer\"></script>\n",
       "            \n",
       "            \n",
       "            \n",
       "            \n",
       "            \n",
       "            \n",
       "\n",
       "        \n",
       "<center>\n",
       "<h1></h1>\n",
       "</center>\n",
       "\n",
       "<!-- <link rel=\"stylesheet\" href=\"../node_modules/vis/dist/vis.min.css\" type=\"text/css\" />\n",
       "<script type=\"text/javascript\" src=\"../node_modules/vis/dist/vis.js\"> </script>-->\n",
       "        <link\n",
       "          href=\"https://cdn.jsdelivr.net/npm/bootstrap@5.0.0-beta3/dist/css/bootstrap.min.css\"\n",
       "          rel=\"stylesheet\"\n",
       "          integrity=\"sha384-eOJMYsd53ii+scO/bJGFsiCZc+5NDVN2yr8+0RDqr0Ql0h+rP48ckxlpbzKgwra6\"\n",
       "          crossorigin=\"anonymous\"\n",
       "        />\n",
       "        <script\n",
       "          src=\"https://cdn.jsdelivr.net/npm/bootstrap@5.0.0-beta3/dist/js/bootstrap.bundle.min.js\"\n",
       "          integrity=\"sha384-JEW9xMcG8R+pH31jmWH6WWP0WintQrMb4s7ZOdauHnUtxwoG2vI5DkLtS3qm9Ekf\"\n",
       "          crossorigin=\"anonymous\"\n",
       "        ></script>\n",
       "\n",
       "\n",
       "        <center>\n",
       "          <h1></h1>\n",
       "        </center>\n",
       "        <style type=\"text/css\">\n",
       "\n",
       "             #mynetwork {\n",
       "                 width: 50%;\n",
       "                 height: 500px;\n",
       "                 background-color: #222222;\n",
       "                 border: 1px solid lightgray;\n",
       "                 position: relative;\n",
       "                 float: left;\n",
       "             }\n",
       "\n",
       "             \n",
       "\n",
       "             \n",
       "\n",
       "             \n",
       "        </style>\n",
       "    </head>\n",
       "\n",
       "\n",
       "    <body>\n",
       "        <div class=\"card\" style=\"width: 100%\">\n",
       "            \n",
       "            \n",
       "            <div id=\"mynetwork\" class=\"card-body\"></div>\n",
       "        </div>\n",
       "\n",
       "        \n",
       "        \n",
       "\n",
       "        <script type=\"text/javascript\">\n",
       "\n",
       "              // initialize global variables.\n",
       "              var edges;\n",
       "              var nodes;\n",
       "              var allNodes;\n",
       "              var allEdges;\n",
       "              var nodeColors;\n",
       "              var originalNodes;\n",
       "              var network;\n",
       "              var container;\n",
       "              var options, data;\n",
       "              var filter = {\n",
       "                  item : '',\n",
       "                  property : '',\n",
       "                  value : []\n",
       "              };\n",
       "\n",
       "              \n",
       "\n",
       "              \n",
       "\n",
       "              // This method is responsible for drawing the graph, returns the drawn network\n",
       "              function drawGraph() {\n",
       "                  var container = document.getElementById('mynetwork');\n",
       "\n",
       "                  \n",
       "\n",
       "                  // parsing and collecting nodes and edges from the python\n",
       "                  nodes = new vis.DataSet([{\"color\": \"#97c2fc\", \"font\": {\"color\": \"white\"}, \"id\": \"Google\", \"label\": \"Google\", \"shape\": \"dot\"}, {\"color\": \"#97c2fc\", \"font\": {\"color\": \"white\"}, \"id\": \"Google LLC\", \"label\": \"Google LLC\", \"shape\": \"dot\"}, {\"color\": \"#97c2fc\", \"font\": {\"color\": \"white\"}, \"id\": \"summarize emails\", \"label\": \"summarize emails\", \"shape\": \"dot\"}, {\"color\": \"#97c2fc\", \"font\": {\"color\": \"white\"}, \"id\": \"Larry Page\", \"label\": \"Larry Page\", \"shape\": \"dot\"}, {\"color\": \"#97c2fc\", \"font\": {\"color\": \"white\"}, \"id\": \"Sergey Brin\", \"label\": \"Sergey Brin\", \"shape\": \"dot\"}, {\"color\": \"#97c2fc\", \"font\": {\"color\": \"white\"}, \"id\": \"Gemini\", \"label\": \"Gemini\", \"shape\": \"dot\"}]);\n",
       "                  edges = new vis.DataSet([{\"arrows\": \"to\", \"from\": \"Google LLC\", \"title\": \"FOUNDED_BY\", \"to\": \"Larry Page\"}, {\"arrows\": \"to\", \"from\": \"Google LLC\", \"title\": \"FOUNDED_BY\", \"to\": \"Sergey Brin\"}, {\"arrows\": \"to\", \"from\": \"Google\", \"title\": \"HAS_PRODUCT\", \"to\": \"Gemini\"}, {\"arrows\": \"to\", \"from\": \"Gemini\", \"title\": \"HAS_FEATURE\", \"to\": \"summarize emails\"}]);\n",
       "\n",
       "                  nodeColors = {};\n",
       "                  allNodes = nodes.get({ returnType: \"Object\" });\n",
       "                  for (nodeId in allNodes) {\n",
       "                    nodeColors[nodeId] = allNodes[nodeId].color;\n",
       "                  }\n",
       "                  allEdges = edges.get({ returnType: \"Object\" });\n",
       "                  // adding nodes and edges to the graph\n",
       "                  data = {nodes: nodes, edges: edges};\n",
       "\n",
       "                  var options = {\n",
       "    \"configure\": {\n",
       "        \"enabled\": false\n",
       "    },\n",
       "    \"edges\": {\n",
       "        \"color\": {\n",
       "            \"inherit\": true\n",
       "        },\n",
       "        \"smooth\": {\n",
       "            \"enabled\": true,\n",
       "            \"type\": \"dynamic\"\n",
       "        }\n",
       "    },\n",
       "    \"interaction\": {\n",
       "        \"dragNodes\": true,\n",
       "        \"hideEdgesOnDrag\": false,\n",
       "        \"hideNodesOnDrag\": false\n",
       "    },\n",
       "    \"physics\": {\n",
       "        \"enabled\": true,\n",
       "        \"stabilization\": {\n",
       "            \"enabled\": true,\n",
       "            \"fit\": true,\n",
       "            \"iterations\": 1000,\n",
       "            \"onlyDynamicEdges\": false,\n",
       "            \"updateInterval\": 50\n",
       "        }\n",
       "    }\n",
       "};\n",
       "\n",
       "                  \n",
       "\n",
       "\n",
       "                  \n",
       "\n",
       "                  network = new vis.Network(container, data, options);\n",
       "\n",
       "                  \n",
       "\n",
       "                  \n",
       "\n",
       "                  \n",
       "\n",
       "\n",
       "                  \n",
       "\n",
       "                  return network;\n",
       "\n",
       "              }\n",
       "              drawGraph();\n",
       "        </script>\n",
       "    </body>\n",
       "</html>"
      ]
     },
     "metadata": {}
    }
   ]
  },
  {
   "cell_type": "markdown",
   "source": [
    "#### Clean up the graph\n",
    "\n",
    "> USE IT WITH CAUTION!\n",
    "\n",
    "Clean up all the nodes/edges in your graph and remove your graph definition."
   ],
   "metadata": {
    "id": "pM7TmfI0TEFy"
   }
  },
  {
   "cell_type": "code",
   "source": [
    "graph_store.cleanup()"
   ],
   "metadata": {
    "id": "UQWq4-sITOgl",
    "colab": {
     "base_uri": "https://localhost:8080/"
    },
    "outputId": "5ed5ebf2-a34b-400e-a171-71b2e863e99c"
   },
   "execution_count": null,
   "outputs": [
    {
     "output_type": "stream",
     "name": "stdout",
     "text": [
      "Waiting for DDL operations to complete...\n",
      "Waiting for DDL operations to complete...\n",
      "Waiting for DDL operations to complete...\n"
     ]
    }
   ]
  }
 ]
}
