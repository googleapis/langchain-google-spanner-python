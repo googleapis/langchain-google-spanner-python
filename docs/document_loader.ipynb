{
 "cells": [
  {
   "cell_type": "markdown",
   "metadata": {},
   "source": [
    "# Spanner\n",
    "\n",
    "[Spanner](https://cloud.google.com/spanner) is the world’s first fully managed relational database service to offer both strong consistency and horizontal scalability for mission-critical online transaction processing (OLTP) applications."
   ]
  },
  {
   "cell_type": "markdown",
   "metadata": {},
   "source": [
    "## Setting up\n",
    "\n",
    "To run this notebook, you will need a [Google Cloud Project](https://developers.google.com/workspace/guides/create-project), a [Spanner instance](https://cloud.google.com/spanner/docs/create-query-database-console#create-instance) with a [database](https://cloud.google.com/spanner/docs/create-query-database-console#create-database), and [Google credentials](https://developers.google.com/workspace/guides/create-credentials)."
   ]
  },
  {
   "cell_type": "code",
   "execution_count": null,
   "metadata": {
    "tags": []
   },
   "outputs": [],
   "source": [
    "%pip install langchain-google-spanner"
   ]
  },
  {
   "cell_type": "markdown",
   "metadata": {},
   "source": [
    "## Querying for Documents from Spanner\n",
    "\n",
    "For more details on connecting to a Bigtable table, please check the [Python SDK documentation](https://cloud.google.com/python/docs/reference/spanner/latest)."
   ]
  },
  {
   "cell_type": "code",
   "execution_count": null,
   "metadata": {},
   "outputs": [],
   "source": [
    "from langchain_google_spanner import SpannerLoader\n",
    "\n",
    "instance_id = \"my_instance\"\n",
    "database_id = \"my_database\"\n",
    "table_name = \"my_table\"\n",
    "query = f\"SELECT * from {table_name}\""
   ]
  },
  {
   "cell_type": "markdown",
   "metadata": {},
   "source": [
    "### Create the loader"
   ]
  },
  {
   "cell_type": "code",
   "execution_count": null,
   "metadata": {},
   "outputs": [],
   "source": [
    "loader = SpannerLoader(\n",
    "    instance_id,\n",
    "    database_id,\n",
    "    query,\n",
    ")"
   ]
  },
  {
   "cell_type": "markdown",
   "metadata": {},
   "source": [
    "### Load from table\n",
    "\n",
    "You can fetch the documents by calling the `lazy_load` method that returns an iterator of documents."
   ]
  },
  {
   "cell_type": "code",
   "execution_count": null,
   "metadata": {},
   "outputs": [],
   "source": [
    "for doc in loader.lazy_load():\n",
    "    print(doc)\n",
    "    break"
   ]
  },
  {
   "cell_type": "markdown",
   "metadata": {},
   "source": [
    "### Custom client\n",
    "\n",
    "The client created by default is the default client. To pass in `credentials` and `project` explicitly, a custom client can be passed to the constructor."
   ]
  },
  {
   "cell_type": "code",
   "execution_count": null,
   "metadata": {},
   "outputs": [],
   "source": [
    "from google.cloud import spanner\n",
    "\n",
    "custom_client = spanner.Client(project=\"my-project\", credentials=creds)\n",
    "loader = SpannerLoader(\n",
    "    instance_id,\n",
    "    database_id,\n",
    "    query,\n",
    "    client=custom_client,\n",
    ")"
   ]
  },
  {
   "cell_type": "markdown",
   "metadata": {},
   "source": [
    "### Customize Document Page Content & Metadata\n",
    "\n",
    "The loader will returns a list of Documents with page content from a specific data columns. All other data columns will be added to metadata. Each row becomes a document."
   ]
  },
  {
   "cell_type": "markdown",
   "metadata": {},
   "source": [
    "#### Customize page content format\n",
    "\n",
    "The SpannerLoader assumes there is a column called `page_content`. These defaults can be changed like so:"
   ]
  },
  {
   "cell_type": "code",
   "execution_count": null,
   "metadata": {},
   "outputs": [],
   "source": [
    "custom_content_loader = SpannerLoader(\n",
    "    instance_id, database_id, query, content_columns=[\"custom_content\"]\n",
    ")"
   ]
  },
  {
   "cell_type": "markdown",
   "metadata": {},
   "source": [
    "If multiple columns are specified, the page content's string format will default to `text` (space-separated string concatenation). There are other format that user can specify, including `text`, `JSON`, `YAML`, `CSV`."
   ]
  },
  {
   "cell_type": "markdown",
   "metadata": {},
   "source": [
    "#### Customize metadata format\n",
    "\n",
    "The SpannerLoader assumes there is a metadata column called `langchain_metadata` that store JSON data. The metadata column will be used as the base dictionary. By default, all other column data will be added and may overwrite the original value. These defaults can be changed like so:"
   ]
  },
  {
   "cell_type": "code",
   "execution_count": null,
   "metadata": {},
   "outputs": [],
   "source": [
    "custom_metadata_loader = SpannerLoader(\n",
    "    instance_id, database_id, query, metadata_columns=[\"column1\", \"column2\"]\n",
    ")"
   ]
  },
  {
   "cell_type": "markdown",
   "metadata": {},
   "source": [
    "#### Customize JSON metadata column name\n",
    "\n",
    "By default, the loader uses `langchain_metadata` as the base dictionary. This can be customized to select a JSON column to use as base dictionary for the Document's metadata."
   ]
  },
  {
   "cell_type": "code",
   "execution_count": null,
   "metadata": {},
   "outputs": [],
   "source": [
    "custom_metadata_json_loader = SpannerLoader(\n",
    "    instance_id, database_id, query, metadata_json_column=\"another-json-column\"\n",
    ")"
   ]
  },
  {
   "cell_type": "markdown",
   "metadata": {},
   "source": [
    "### Custom staleness\n",
    "\n",
    "The default [staleness](https://cloud.google.com/python/docs/reference/spanner/latest/snapshot-usage#beginning-a-snapshot) is 15s. This can be customized by specifying a weaker bound (which can either be to perform all reads as of a given timestamp), or as of a given duration in the past."
   ]
  },
  {
   "cell_type": "code",
   "execution_count": null,
   "metadata": {},
   "outputs": [],
   "source": [
    "timestamp = datetime.datetime.utcnow()\n",
    "custom_timestamp_loader = SpannerLoader(\n",
    "    instance_id,\n",
    "    database_id,\n",
    "    query,\n",
    "    staleness=timestamp,\n",
    ")"
   ]
  },
  {
   "cell_type": "code",
   "execution_count": null,
   "metadata": {},
   "outputs": [],
   "source": [
    "duration = 20.0\n",
    "custom_duration_loader = SpannerLoader(\n",
    "    instance_id,\n",
    "    database_id,\n",
    "    query,\n",
    "    staleness=duration,\n",
    ")"
   ]
  },
  {
   "cell_type": "markdown",
   "metadata": {},
   "source": [
    "### Turn on data boost\n",
    "\n",
    "By default, the loader will not use [data boost](https://cloud.google.com/spanner/docs/databoost/databoost-overview) since it has additional costs associated, and require additional IAM permissions. However, user can choose to turn it on."
   ]
  },
  {
   "cell_type": "code",
   "execution_count": null,
   "metadata": {},
   "outputs": [],
   "source": [
    "custom_databoost_loader = SpannerLoader(\n",
    "    instance_id,\n",
    "    database_id,\n",
    "    query,\n",
    "    databoost=True,\n",
    ")"
   ]
  },
  {
   "cell_type": "markdown",
   "metadata": {},
   "source": [
    "## Save Documents to table\n",
    "\n",
    "It is possible to save documents into Spanner using the SpannerDocumentSaver. The SpannerDocumentSaver constructor is very similar to the SpannerLoader's one. In order to use the document saver, you will need to have existing [table](https://cloud.google.com/spanner/docs/create-query-database-console#create-schema)."
   ]
  },
  {
   "cell_type": "code",
   "execution_count": null,
   "metadata": {},
   "outputs": [],
   "source": [
    "from langchain_google_spanner import SpannerDocumentSaver\n",
    "\n",
    "instance_id = \"my_instance\"\n",
    "database_id = \"my_database\"\n",
    "table_name = \"my_table\"\n",
    "\n",
    "saver = SpannerDocumentSaver(\n",
    "    instance_id,\n",
    "    database_id,\n",
    "    table_name,\n",
    ")"
   ]
  },
  {
   "cell_type": "markdown",
   "metadata": {},
   "source": [
    "### Add documents\n",
    "\n",
    "The SpannerDocumentSaver can be used to add pre-processed documents into Spanner."
   ]
  },
  {
   "cell_type": "code",
   "execution_count": null,
   "metadata": {},
   "outputs": [],
   "source": [
    "doc = Document(page_content=\"my-doc\", metadata={\"foo\": \"bar\", \"foo2\": \"bar2\"})\n",
    "saver.add_documents([doc])"
   ]
  },
  {
   "cell_type": "markdown",
   "metadata": {},
   "source": [
    "### Delete documents\n",
    "\n",
    "The SpannerDocumentSaver can be used to delete all instances of a document from the table by matching the entier Document object."
   ]
  },
  {
   "cell_type": "code",
   "execution_count": null,
   "metadata": {},
   "outputs": [],
   "source": [
    "doc = Document(page_content=\"my-doc\", metadata={\"foo\": \"bar\", \"foo2\": \"bar2\"})\n",
    "saver.delete([doc])"
   ]
  },
  {
   "cell_type": "markdown",
   "metadata": {},
   "source": [
    "### Custom client\n",
    "\n",
    "The client created by default is the default client. To pass in `credentials` and `project` explicitly, a custom client can be passed to the constructor."
   ]
  },
  {
   "cell_type": "code",
   "execution_count": null,
   "metadata": {},
   "outputs": [],
   "source": [
    "from google.cloud import spanner\n",
    "\n",
    "custom_client = spanner.Client(project=\"my-project\", credentials=creds)\n",
    "saver = SpannerDocumentSaver(\n",
    "    instance_id,\n",
    "    database_id,\n",
    "    table_name,\n",
    "    client=custom_client,\n",
    ")"
   ]
  },
  {
   "cell_type": "markdown",
   "metadata": {},
   "source": [
    "### Custom initialization\n",
    "\n",
    "The SpannerDocumentSaver allows custom initialization. This allows user to specify how the Document is saved into the table.\n",
    "\n",
    "\n",
    "content_column: This will be used as the column name for the Document's page content. Defaulted to `page_content`.\n",
    "\n",
    "metadata_columns: These metadata will be saved into specific columns if the key exists in the Document's metadata.\n",
    "\n",
    "metadata_json_column: This will be the column name for the spcial JSON column. Defaulted to `langchain_metadata`."
   ]
  },
  {
   "cell_type": "code",
   "execution_count": null,
   "metadata": {},
   "outputs": [],
   "source": [
    "custom_saver = SpannerDocumentSaver(\n",
    "    instance_id,\n",
    "    database_id,\n",
    "    table_name,\n",
    "    content_column=\"my-content\",\n",
    "    metadata_columns=[\"foo\"],\n",
    "    metadata_json_column=\"my-special-json-column\",\n",
    ")"
   ]
  },
  {
   "cell_type": "markdown",
   "metadata": {},
   "source": [
    "### Initialize custom Spanner table\n",
    "\n",
    "The SpannerDocumentSaver will have a `init_document_table` method to create a new table to store docs with custom schema."
   ]
  },
  {
   "cell_type": "code",
   "execution_count": null,
   "metadata": {},
   "outputs": [],
   "source": [
    "from langchain_google_spanner import Column\n",
    "\n",
    "new_table_name = \"my_new_table\"\n",
    "\n",
    "SpannerDocumentSaver.init_document_table(\n",
    "    instance_id,\n",
    "    database_id,\n",
    "    new_table_name,\n",
    "    content_column=\"my-page-content\",\n",
    "    metadata_columns=[\n",
    "        Column(\"category\", \"STRING(36)\", True),\n",
    "        Column(\"price\", \"FLOAT64\", False),\n",
    "    ],\n",
    ")"
   ]
  }
 ],
 "metadata": {
  "kernelspec": {
   "display_name": "Python 3 (ipykernel)",
   "language": "python",
   "name": "python3"
  },
  "language_info": {
   "codemirror_mode": {
    "name": "ipython",
    "version": 3
   },
   "file_extension": ".py",
   "mimetype": "text/x-python",
   "name": "python",
   "nbconvert_exporter": "python",
   "pygments_lexer": "ipython3",
   "version": "3.10.6"
  }
 },
 "nbformat": 4,
 "nbformat_minor": 4
}
